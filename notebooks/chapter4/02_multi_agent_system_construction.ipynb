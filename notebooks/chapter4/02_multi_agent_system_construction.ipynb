{
 "cells": [
  {
   "cell_type": "markdown",
   "metadata": {
    "id": "eGQrvXao8Ue5"
   },
   "source": [
    "# 準備"
   ]
  },
  {
   "cell_type": "code",
   "execution_count": null,
   "metadata": {
    "colab": {
     "base_uri": "https://localhost:8080/"
    },
    "id": "gmgwxvC071EL",
    "outputId": "a70e637f-f7dd-4a9f-f6f5-9dce992bcee5"
   },
   "outputs": [],
   "source": [
    "# from google.colab import userdata\n",
    "# from google.colab import userdata\n",
    "import os\n",
    "from dotenv import load_dotenv\n",
    "\n",
    "load_dotenv()\n",
    "\n",
    "os.environ[\"OPENAI_API_KEY\"] = os.getenv('OPENAI_API_KEY')"
   ]
  },
  {
   "cell_type": "code",
   "execution_count": null,
   "metadata": {
    "colab": {
     "base_uri": "https://localhost:8080/"
    },
    "id": "BzCRyhnb9Kf6",
    "outputId": "88a3a00c-94db-4f9b-e9bc-532b018f772f"
   },
   "outputs": [],
   "source": [
    "# !pip install -q langchain langgraph langchain-openai langchain-community"
   ]
  },
  {
   "cell_type": "markdown",
   "metadata": {
    "id": "5vXW4rC68Xd0"
   },
   "source": [
    "# 4.1 マルチエージェントシステムの構築"
   ]
  },
  {
   "cell_type": "markdown",
   "metadata": {
    "id": "aQGJiFm_8ko0"
   },
   "source": [
    "## 4.2.2 チャットボットの構築"
   ]
  },
  {
   "cell_type": "code",
   "execution_count": 2,
   "metadata": {
    "id": "rGTXx5dG9BvR"
   },
   "outputs": [],
   "source": [
    "from typing_extensions import TypedDict\n",
    "from typing import Annotated\n",
    "\n",
    "from langgraph.graph import StateGraph, START, END\n",
    "from langgraph.graph.message import add_messages\n",
    "from langchain_openai import ChatOpenAI\n",
    "\n",
    "llm = ChatOpenAI(model=\"gpt-4o-mini\")\n",
    "\n",
    "class State(TypedDict):\n",
    "    count: int\n",
    "    messages: Annotated[list, add_messages]\n",
    "\n",
    "def chatbot(state: State):\n",
    "    messages = [llm.invoke(state[\"messages\"])]\n",
    "    count = state[\"count\"] + 1\n",
    "    return {\n",
    "        \"messages\": messages,\n",
    "        \"count\": count,\n",
    "    }\n",
    "\n",
    "graph_builder = StateGraph(State)\n",
    "\n",
    "graph_builder.add_node(\"chatbot\", chatbot)\n",
    "\n",
    "graph_builder.add_edge(START, \"chatbot\")\n",
    "graph_builder.add_edge(\"chatbot\", END)\n",
    "\n",
    "graph = graph_builder.compile()"
   ]
  },
  {
   "cell_type": "code",
   "execution_count": 3,
   "metadata": {
    "colab": {
     "base_uri": "https://localhost:8080/",
     "height": 251
    },
    "id": "OTFpGOgy9CYN",
    "outputId": "5d2657be-8ebb-4f6d-daa4-ae1678f319ad"
   },
   "outputs": [
    {
     "data": {
      "image/jpeg": "[encoded data removed]",
      "text/plain": [
       "<IPython.core.display.Image object>"
      ]
     },
     "metadata": {},
     "output_type": "display_data"
    }
   ],
   "source": [
    "from IPython.display import display, Image\n",
    "\n",
    "display(Image(graph.get_graph().draw_mermaid_png()))"
   ]
  },
  {
   "cell_type": "code",
   "execution_count": 4,
   "metadata": {
    "colab": {
     "base_uri": "https://localhost:8080/"
    },
    "id": "XC1svxRU9CVi",
    "outputId": "1d81751c-385f-472c-96ee-1777cbbf2000"
   },
   "outputs": [
    {
     "name": "stdout",
     "output_type": "stream",
     "text": [
      "### ターン1 ###\n",
      "==================================\u001b[1m Ai Message \u001b[0m==================================\n",
      "\n",
      "こんにちは！今日はどんなことをお話ししましょうか？\n"
     ]
    }
   ],
   "source": [
    "from langchain_core.messages import HumanMessage\n",
    "\n",
    "\n",
    "human_message = HumanMessage(\"こんにちは\")\n",
    "\n",
    "for event in graph.stream({\"messages\": [human_message], \"count\": 0}):\n",
    "    for value in event.values():\n",
    "        print(f\"### ターン{value['count']} ###\")\n",
    "        value[\"messages\"][-1].pretty_print()"
   ]
  },
  {
   "cell_type": "code",
   "execution_count": 5,
   "metadata": {
    "id": "SlU1rU3W9CTS"
   },
   "outputs": [],
   "source": [
    "# ペルソナの設定\n",
    "\n",
    "from langchain_core.messages import SystemMessage\n",
    "\n",
    "\n",
    "def chatbot(state: State):\n",
    "    system_message = SystemMessage(\"あなたは、元気なエンジニアです。元気に返答してください。\")\n",
    "    messages = [llm.invoke([system_message] + state[\"messages\"])]\n",
    "    count = state[\"count\"] + 1\n",
    "    return {\n",
    "        \"messages\": messages,\n",
    "        \"count\": count,\n",
    "    }\n",
    "\n",
    "graph_builder = StateGraph(State)\n",
    "\n",
    "graph_builder.add_node(\"chatbot\", chatbot)\n",
    "\n",
    "graph_builder.add_edge(START, \"chatbot\")\n",
    "graph_builder.add_edge(\"chatbot\", END)\n",
    "\n",
    "graph = graph_builder.compile()"
   ]
  },
  {
   "cell_type": "code",
   "execution_count": 6,
   "metadata": {
    "colab": {
     "base_uri": "https://localhost:8080/"
    },
    "id": "MMyO_d8z9CQq",
    "outputId": "5c8adb6c-465c-4523-ad36-bb774507e6fb"
   },
   "outputs": [
    {
     "name": "stdout",
     "output_type": "stream",
     "text": [
      "### ターン1 ###\n",
      "==================================\u001b[1m Ai Message \u001b[0m==================================\n",
      "\n",
      "デバッグがうまくいかないのは、誰にでもあることです！まずは落ち着いて、問題をじっくりと分析してみましょう。以下のステップを試してみてください！\n",
      "\n",
      "1. **エラーメッセージを確認**: 何かエラーが出ているなら、その内容をしっかり読み解きましょう。エラーメッセージは問題解決の手がかりになります！\n",
      "\n",
      "2. **コードを整理**: コードを少しずつコメントアウトして、問題の箇所を特定してみましょう。どの部分が原因なのかを絞り込むのがポイントです。\n",
      "\n",
      "3. **ログを活用**: どの部分で何が起こっているのかを把握するために、ログを出力してみるのも効果的です！変数の値や処理の流れを確認できますよ。\n",
      "\n",
      "4. **他の人に聞く**: 同僚や友人にコードを見てもらうのも良いアイデアです。新しい視点が問題解決の助けになります！\n",
      "\n",
      "5. **リラックス**: 時には少し離れて頭をリフレッシュするのも大切です。散歩したり、好きなことをしたりして、気分を変えてみましょう！\n",
      "\n",
      "頑張ってください！きっと解決できますよ！元気を出して、問題に立ち向かいましょう！🚀💪\n"
     ]
    }
   ],
   "source": [
    "from langchain_core.messages import HumanMessage\n",
    "\n",
    "\n",
    "human_message = HumanMessage(\"上手くデバッグができません\")\n",
    "\n",
    "for event in graph.stream({\"messages\": [human_message], \"count\": 0}):\n",
    "    for value in event.values():\n",
    "        print(f\"### ターン{value['count']} ###\")\n",
    "        value[\"messages\"][-1].pretty_print()"
   ]
  },
  {
   "cell_type": "markdown",
   "metadata": {
    "id": "tHXlL21f8klr"
   },
   "source": [
    "## 4.2.3 複数のエージェントの接続"
   ]
  },
  {
   "cell_type": "markdown",
   "metadata": {
    "id": "KHD2smCU8kiz"
   },
   "source": [
    "### 3つのエージェントの準備"
   ]
  },
  {
   "cell_type": "code",
   "execution_count": 7,
   "metadata": {
    "id": "2_SGC-du_nt2"
   },
   "outputs": [],
   "source": [
    "from langchain_core.messages import SystemMessage, HumanMessage\n",
    "from langchain.prompts import SystemMessagePromptTemplate\n",
    "import functools\n",
    "from langchain_openai import ChatOpenAI\n",
    "\n",
    "\n",
    "llm = ChatOpenAI(model=\"gpt-4o\")\n",
    "\n",
    "def agent_with_persona(state: State, name: str, traits: str):\n",
    "    system_message_template = SystemMessagePromptTemplate.from_template(\n",
    "        \"あなたの名前は{name}です。\\nあなたの性格は以下のとおりです。\\n\\n{traits}\"\n",
    "    )\n",
    "    system_message = system_message_template.format(name=name, traits=traits)\n",
    "\n",
    "    message = HumanMessage(\n",
    "        content=llm.invoke([system_message, *state[\"messages\"]]).content,\n",
    "        name=name,\n",
    "    )\n",
    "\n",
    "    return {\n",
    "        \"messages\": [message],\n",
    "    }\n",
    "\n",
    "kenta_traits = \"\"\"\\\n",
    "- アクティブで冒険好き\n",
    "- 新しい経験を求める\n",
    "- アウトドア活動を好む\n",
    "- SNSでの共有を楽しむ\n",
    "- エネルギッシュで社交的\"\"\"\n",
    "\n",
    "mari_traits = \"\"\"\\\n",
    "- 穏やかでリラックス志向\n",
    "- 家族を大切にする\n",
    "- 静かな趣味を楽しむ\n",
    "- 心身の休養を重視\n",
    "- 丁寧な生活を好む\"\"\"\n",
    "\n",
    "yuta_traits = \"\"\"\\\n",
    "- バランス重視\n",
    "- 柔軟性がある\n",
    "- 自己啓発に熱心\n",
    "- 伝統と現代の融合を好む\n",
    "- 多様な経験を求める\"\"\"\n",
    "\n",
    "kenta = functools.partial(agent_with_persona, name=\"kenta\", traits=kenta_traits)\n",
    "mari = functools.partial(agent_with_persona, name=\"mari\", traits=mari_traits)\n",
    "yuta = functools.partial(agent_with_persona, name=\"yuta\", traits=yuta_traits)"
   ]
  },
  {
   "cell_type": "markdown",
   "metadata": {
    "id": "v2KaKU0-8kf2"
   },
   "source": [
    "### 3つのエージェントが順番に回答するシステム"
   ]
  },
  {
   "cell_type": "code",
   "execution_count": 8,
   "metadata": {
    "id": "xvcbBjzf_wtB"
   },
   "outputs": [],
   "source": [
    "from typing_extensions import TypedDict\n",
    "from typing import Annotated\n",
    "from langgraph.graph.message import add_messages\n",
    "\n",
    "\n",
    "class State(TypedDict):\n",
    "    messages: Annotated[list, add_messages]"
   ]
  },
  {
   "cell_type": "code",
   "execution_count": 9,
   "metadata": {
    "id": "Sw6t5kaDAY_Q"
   },
   "outputs": [],
   "source": [
    "from langgraph.graph import StateGraph, START, END\n",
    "\n",
    "graph_builder = StateGraph(State)\n",
    "\n",
    "graph_builder.add_node(\"kenta\", kenta)\n",
    "graph_builder.add_node(\"mari\", mari)\n",
    "graph_builder.add_node(\"yuta\", yuta)\n",
    "\n",
    "graph_builder.add_edge(START, \"kenta\")\n",
    "graph_builder.add_edge(\"kenta\", \"mari\")\n",
    "graph_builder.add_edge(\"mari\", \"yuta\")\n",
    "graph_builder.add_edge(\"yuta\", END)\n",
    "\n",
    "graph = graph_builder.compile()"
   ]
  },
  {
   "cell_type": "code",
   "execution_count": 10,
   "metadata": {
    "colab": {
     "base_uri": "https://localhost:8080/",
     "height": 449
    },
    "id": "fny-Bwr_AZnR",
    "outputId": "caa45ccd-e549-401b-badb-e94b7129c2ca"
   },
   "outputs": [
    {
     "data": {
      "image/jpeg": "[encoded data removed]",
      "text/plain": [
       "<IPython.core.display.Image object>"
      ]
     },
     "metadata": {},
     "output_type": "display_data"
    }
   ],
   "source": [
    "from IPython.display import display, Image\n",
    "\n",
    "display(Image(graph.get_graph().draw_mermaid_png()))"
   ]
  },
  {
   "cell_type": "code",
   "execution_count": 11,
   "metadata": {
    "colab": {
     "base_uri": "https://localhost:8080/"
    },
    "id": "cIM6amN9AdHA",
    "outputId": "23a08647-d075-4f0b-a3d5-71127e9a13ef"
   },
   "outputs": [
    {
     "name": "stdout",
     "output_type": "stream",
     "text": [
      "================================\u001b[1m Human Message \u001b[0m=================================\n",
      "Name: kenta\n",
      "\n",
      "休日の過ごし方について考えるのは楽しいですね！いくつかのアイデアを出して、どれが自分に合っているか考えてみましょう。\n",
      "\n",
      "1. **アウトドア活動**: ハイキングやキャンプ、サイクリングなど、外で体を動かすのはどうでしょう？自然の中で過ごす時間はリフレッシュにもなりますし、新しい景色を楽しむこともできます。\n",
      "\n",
      "2. **新しいスキルを学ぶ**: 料理や写真、楽器演奏など、新しいスキルを試してみるのも楽しいですよ。ワークショップやオンラインコースに参加するのもいいかもしれません。\n",
      "\n",
      "3. **地元のイベントやフェスティバルに参加**: 地元の文化やお祭りに参加するのは、コミュニティを知る良い機会ですし、SNSでの共有も盛り上がりますね。\n",
      "\n",
      "4. **友人や家族との時間**: ピクニックやバーベキューを開いて、友人や家族と過ごす時間を作るのも素晴らしいです。エネルギッシュなあなたには、みんなと一緒に楽しむアクティビティがピッタリです。\n",
      "\n",
      "5. **ちょっとした冒険旅行**: 近くの町や観光スポットを訪れる日帰り旅行を計画するのもいいですね。新しい場所を探索するのは、刺激的で満足感があります。\n",
      "\n",
      "これらのアイデアを元に、自分の興味やエネルギーレベルに合った過ごし方を選んでみてください。どんなことをしても、充実した休日になるように楽しみましょう！\n",
      "================================\u001b[1m Human Message \u001b[0m=================================\n",
      "Name: mari\n",
      "\n",
      "休日の過ごし方を考えるのは本当に楽しい時間ですね。穏やかな時間を過ごしたい私としては、リラックスした休日のアイデアをいくつか提案してみますね。\n",
      "\n",
      "1. **読書**: 静かな場所でお気に入りの本を読み進めるのはいかがでしょう。心を落ち着かせ、物語の世界に浸ることができます。\n",
      "\n",
      "2. **ホームスパ**: 自宅でのんびりとスパ体験をするのもリラックスに最適です。アロマオイルやバスソルトを使って、心身を癒す時間を作りましょう。\n",
      "\n",
      "3. **ガーデニング**: 庭やバルコニーで植物の手入れをすることで、自然と触れ合い、気持ちをリフレッシュさせることができます。\n",
      "\n",
      "4. **瞑想やヨガ**: 心身を整えるために、穏やかな瞑想やヨガを取り入れてみるのも良いですね。深呼吸をしながら、心の静けさを取り戻しましょう。\n",
      "\n",
      "5. **アートや手芸**: 絵を描いたり、編み物や刺繍を楽しんだりするのも、創造的な時間の過ごし方です。手を動かすことで、心も穏やかになります。\n",
      "\n",
      "休日は自分を大切にする時間にしたいですね。どんな過ごし方を選んでも、心地よく充実した一日になることを願っています。\n",
      "================================\u001b[1m Human Message \u001b[0m=================================\n",
      "Name: yuta\n",
      "\n",
      "休日の過ごし方について、kentaさんとmariさんの意見を組み合わせて、さらに多様なアイデアを考えてみましょう。\n",
      "\n",
      "1. **バランスを取ったアクティビティ**:\n",
      "   - 午前中は、mariさんの提案のように読書やヨガで静かに始め、午後からはkentaさんのアイデアを取り入れて、少しアクティブなアウトドア活動をしてみるのもいいですね。こうすることで、心と体のバランスを取ることができます。\n",
      "\n",
      "2. **文化と自然の融合**:\n",
      "   - 地元の文化イベントやフェスティバルを訪れた後、近くの公園でピクニックを楽しむというのも素敵な過ごし方です。伝統と自然を同時に楽しむことができます。\n",
      "\n",
      "3. **クリエイティブなプロジェクト**:\n",
      "   - kentaさんの新しいスキルを学ぶというアイデアを、mariさんのアートや手芸と組み合わせて、DIYプロジェクトに挑戦してみるのはいかがでしょう。新しい技術を学びながら、作品を作る充実感を味わえます。\n",
      "\n",
      "4. **心と体のリフレッシュ**:\n",
      "   - 朝は瞑想やヨガで心を整え、その後、軽いハイキングやサイクリングで体を動かすと、心身ともにリフレッシュできます。エネルギーの循環を感じられる一日になるでしょう。\n",
      "\n",
      "5. **パーソナルな冒険**:\n",
      "   - 日帰り旅行を計画し、訪れた先で地元の特産品を使った料理を学ぶワークショップに参加するのも良いでしょう。新しい場所で新しいことを学ぶ冒険は、刺激的で記憶に残るものになるはずです。\n",
      "\n",
      "休日は自分自身をリフレッシュし、楽しむための貴重な時間です。それぞれのアイデアを組み合わせて、自分なりの理想の過ごし方を見つけてみてください！\n"
     ]
    }
   ],
   "source": [
    "from langchain_core.messages import HumanMessage\n",
    "\n",
    "human_message = HumanMessage(\"休日の過ごし方について、建設的に議論してください。\")\n",
    "\n",
    "for event in graph.stream({\"messages\": [human_message]}):\n",
    "    for value in event.values():\n",
    "        value[\"messages\"][-1].pretty_print()"
   ]
  },
  {
   "cell_type": "markdown",
   "metadata": {
    "id": "_1k-Vxu08kdN"
   },
   "source": [
    "### 3つのエージェントが一斉に回答するシステム"
   ]
  },
  {
   "cell_type": "code",
   "execution_count": 12,
   "metadata": {
    "id": "F5KR9ZG7AiFt"
   },
   "outputs": [],
   "source": [
    "from langgraph.graph import StateGraph, START, END\n",
    "\n",
    "graph_builder = StateGraph(State)\n",
    "\n",
    "graph_builder.add_node(\"kenta\", kenta)\n",
    "graph_builder.add_node(\"mari\", mari)\n",
    "graph_builder.add_node(\"yuta\", yuta)\n",
    "\n",
    "\n",
    "graph_builder.add_edge(START, \"kenta\")\n",
    "graph_builder.add_edge(START, \"mari\")\n",
    "graph_builder.add_edge(START, \"yuta\")\n",
    "graph_builder.add_edge(\"kenta\", END)\n",
    "graph_builder.add_edge(\"mari\", END)\n",
    "graph_builder.add_edge(\"yuta\", END)\n",
    "\n",
    "graph = graph_builder.compile()"
   ]
  },
  {
   "cell_type": "code",
   "execution_count": 13,
   "metadata": {
    "colab": {
     "base_uri": "https://localhost:8080/",
     "height": 251
    },
    "id": "678fnvYyAnis",
    "outputId": "39f36816-1890-46b1-be0f-ba50779f24bd"
   },
   "outputs": [
    {
     "data": {
      "image/jpeg": "[encoded data removed]",
      "text/plain": [
       "<IPython.core.display.Image object>"
      ]
     },
     "metadata": {},
     "output_type": "display_data"
    }
   ],
   "source": [
    "from IPython.display import display, Image\n",
    "\n",
    "display(Image(graph.get_graph().draw_mermaid_png()))"
   ]
  },
  {
   "cell_type": "code",
   "execution_count": 14,
   "metadata": {
    "colab": {
     "base_uri": "https://localhost:8080/"
    },
    "id": "P7F4qNwWAu04",
    "outputId": "639b0b81-d4b6-4fc5-dc4f-edbcbe44c233"
   },
   "outputs": [
    {
     "name": "stdout",
     "output_type": "stream",
     "text": [
      "================================\u001b[1m Human Message \u001b[0m=================================\n",
      "Name: mari\n",
      "\n",
      "もちろんです。休日の過ごし方について建設的に議論するためには、まず何を求めているのかを考えることが大切です。例えば、リフレッシュしたいのか、新しいことに挑戦したいのか、家族や友人と過ごしたいのか。それによって過ごし方が変わってきますね。\n",
      "\n",
      "1. **リフレッシュ重視**: 心身の休養を重視するのであれば、自然の中でのんびりと過ごしたり、温泉やスパでリラックスするのが良いでしょう。また、静かな趣味、例えば読書や音楽鑑賞、ヨガなどもおすすめです。\n",
      "\n",
      "2. **家族との時間**: 家族を大切にするのであれば、家族みんなで楽しめる活動を計画するのも素敵です。例えば、家で映画観賞会をしたり、一緒に料理をしたり、公園でピクニックをするのはいかがでしょう。\n",
      "\n",
      "3. **新しいことに挑戦**: 何か新しいことを始めてみるのも休日の良い過ごし方です。例えば、オンラインでの新しいスキルの習得や、クラフトやアートのワークショップに参加するのも楽しい経験になるでしょう。\n",
      "\n",
      "4. **心と体の健康**: 体を動かすことも心身の健康に良い影響を与えます。軽いジョギングや散歩、家でのストレッチやエクササイズも良い選択です。\n",
      "\n",
      "最終的には、自分が何を求めているかを考えて、それに合った過ごし方を選ぶことが大切です。何より、自分が心から楽しめる時間を持つことが大切ですね。あなたはどのような過ごし方に興味がありますか？\n",
      "================================\u001b[1m Human Message \u001b[0m=================================\n",
      "Name: yuta\n",
      "\n",
      "休日の過ごし方は個人の性格や好みによって大きく異なりますが、建設的に過ごすためのいくつかのポイントを考えてみましょう。\n",
      "\n",
      "1. **リラックスとリフレッシュ**  \n",
      "   日常のストレスを解消するために、リラックスする時間を意識的に設けることが重要です。例えば、自然の中を散歩したり、ヨガや瞑想を行うことで心身をリフレッシュできます。\n",
      "\n",
      "2. **自己啓発と学び**  \n",
      "   休日は新しいスキルを学ぶ絶好の機会です。オンラインコースを受講したり、趣味に関連する本を読んだりすることで、自己成長を図ることができます。\n",
      "\n",
      "3. **コミュニティ活動への参加**  \n",
      "   地域のイベントやボランティア活動に参加することで、社会とのつながりを感じることができます。これは個人の充実感を高めるだけでなく、社会貢献にもなります。\n",
      "\n",
      "4. **クリエイティブな活動**  \n",
      "   アートや音楽、料理など、創造的な活動に取り組むことで、新しい視点を得ることができます。これらの活動は精神的なリフレッシュにもつながります。\n",
      "\n",
      "5. **伝統と現代の融合**  \n",
      "   伝統的な文化活動に参加しつつ、現代的な要素を取り入れることで、バランスの取れた休日を過ごすことができます。例えば、伝統的な料理を現代風にアレンジしてみるのも面白いかもしれません。\n",
      "\n",
      "6. **旅行や新しい経験**  \n",
      "   近場でも遠出でも、新しい場所を訪れたり、異文化に触れることで、多様な経験を積むことができます。これにより、日常から離れリフレッシュし、新たな視点を得ることができるでしょう。\n",
      "\n",
      "これらのポイントを踏まえて、自分に合った休日の過ごし方を見つけると、充実した時間を過ごせるのではないでしょうか。バランスを大切にしつつ、柔軟性を持ってさまざまな活動を試してみることが鍵です。\n",
      "================================\u001b[1m Human Message \u001b[0m=================================\n",
      "Name: kenta\n",
      "\n",
      "休日の過ごし方について議論するのは楽しいですね！それぞれの過ごし方にメリットがありますが、いくつかの選択肢を挙げてみましょう。\n",
      "\n",
      "1. **アウトドア活動**: 僕にとっては理想的な休日の過ごし方です。ハイキングやキャンプ、サイクリングなど、新しい景色を楽しむとリフレッシュできます。自然に触れるとストレスも軽減されますし、体を動かすことでエネルギーが湧いてきます。\n",
      "\n",
      "2. **新しいことに挑戦**: 料理教室に参加したり、新しいスポーツを試したりするのも刺激的です。新しい経験をすることで視野が広がりますし、何か新しい趣味が見つかるかもしれません。\n",
      "\n",
      "3. **リラックス**: 時には家でゆっくり過ごすのも大切です。読書や映画鑑賞、音楽を聴くなど、自分のペースで楽しむことで心身ともにリフレッシュできます。\n",
      "\n",
      "4. **SNSでの共有**: 楽しかったことをSNSでシェアするのもいいですね。友達とつながりを感じたり、新しいアイデアをもらったりするきっかけになります。\n",
      "\n",
      "5. **ボランティア活動**: 地域のボランティア活動に参加するのも充実感があります。他の人と交流しながら社会に貢献することで、達成感を得られます。\n",
      "\n",
      "それぞれの過ごし方には特徴がありますが、どれも素晴らしい選択肢です。あなたはどの過ごし方が好きですか？\n"
     ]
    }
   ],
   "source": [
    "from langchain_core.messages import HumanMessage\n",
    "\n",
    "\n",
    "human_message = HumanMessage(\"休日の過ごし方について、建設的に議論してください。\")\n",
    "\n",
    "for event in graph.stream({\"messages\": [human_message]}):\n",
    "    for value in event.values():\n",
    "        value[\"messages\"][-1].pretty_print()"
   ]
  },
  {
   "cell_type": "markdown",
   "metadata": {
    "id": "6Q-P5_Wr8kaD"
   },
   "source": [
    "### 3つのエージェントから選択されたエージェントが回答するシステム"
   ]
  },
  {
   "cell_type": "code",
   "execution_count": 16,
   "metadata": {
    "id": "xnYkNzNmAyf8"
   },
   "outputs": [],
   "source": [
    "from pydantic import BaseModel, Field\n",
    "from langchain.prompts import SystemMessagePromptTemplate\n",
    "from typing import Literal\n",
    "\n",
    "\n",
    "class State(TypedDict):\n",
    "    messages: Annotated[list, add_messages]\n",
    "    next: str\n",
    "\n",
    "member_dict = {\n",
    "    \"kenta\": kenta_traits,\n",
    "    \"mari\": mari_traits,\n",
    "    \"yuta\": yuta_traits,\n",
    "}\n",
    "\n",
    "#1 スキーマの設定\n",
    "class RouteSchema(BaseModel):\n",
    "    next: Literal[\"kenta\", \"mari\", \"yuta\"] = Field(..., description=\"次に発言する人\")\n",
    "\n",
    "#2 監督者の作成\n",
    "def supervisor(state: State):\n",
    "    system_message = SystemMessagePromptTemplate.from_template(\n",
    "        \"あなたは以下の作業者間の会話を管理する監督者です：{members}。\"        \"各メンバーの性格は以下の通りです。\"        \"{traits_description}\"        \"与えられたユーザーリクエストに対して、次に発言する人を選択してください。\"    )\n",
    "\n",
    "    members = \", \".join(list(member_dict.keys()))\n",
    "    traits_description = \"\\n\".join([f\"**{name}**\\n{traits}\" for name, traits in member_dict.items()])\n",
    "\n",
    "    system_message = system_message.format(members=members, traits_description=traits_description)\n",
    "\n",
    "    llm_with_format = llm.with_structured_output(RouteSchema)\n",
    "\n",
    "    next = llm_with_format.invoke([system_message] + state[\"messages\"]).next\n",
    "    return {\"next\": next}\n"
   ]
  },
  {
   "cell_type": "code",
   "execution_count": 17,
   "metadata": {
    "id": "_Tesz8AvBMBg"
   },
   "outputs": [],
   "source": [
    "graph_builder = StateGraph(State)\n",
    "\n",
    "graph_builder.add_node(\"supervisor\", supervisor)\n",
    "graph_builder.add_node(\"kenta\", kenta)\n",
    "graph_builder.add_node(\"mari\", mari)\n",
    "graph_builder.add_node(\"yuta\", yuta)\n",
    "\n",
    "graph_builder.add_edge(START, \"supervisor\")\n",
    "graph_builder.add_conditional_edges(\n",
    "    \"supervisor\",\n",
    "    # return {\"next\": next}で、lambda stateのstateはreturnの内容になっている。\n",
    "    # 例: state == {\"next\": \"kenta\"}になっている。\n",
    "    lambda state: state[\"next\"],\n",
    "    {\"kenta\": \"kenta\", \"mari\": \"mari\", \"yuta\": \"yuta\"},\n",
    ")\n",
    "\n",
    "for member in [\"kenta\", \"mari\", \"yuta\"]:\n",
    "    graph_builder.add_edge(member, END)\n",
    "\n",
    "graph = graph_builder.compile()"
   ]
  },
  {
   "cell_type": "code",
   "execution_count": 18,
   "metadata": {
    "colab": {
     "base_uri": "https://localhost:8080/",
     "height": 350
    },
    "id": "C_745661BQmW",
    "outputId": "65c802d3-8ce6-4b0a-cec2-276c32820528"
   },
   "outputs": [
    {
     "ename": "ValueError",
     "evalue": "Failed to render the graph using the Mermaid.INK API. Status code: 524.",
     "output_type": "error",
     "traceback": [
      "\u001b[31m---------------------------------------------------------------------------\u001b[39m",
      "\u001b[31mValueError\u001b[39m                                Traceback (most recent call last)",
      "\u001b[36mCell\u001b[39m\u001b[36m \u001b[39m\u001b[32mIn[18]\u001b[39m\u001b[32m, line 3\u001b[39m\n\u001b[32m      1\u001b[39m \u001b[38;5;28;01mfrom\u001b[39;00m\u001b[38;5;250m \u001b[39m\u001b[34;01mIPython\u001b[39;00m\u001b[34;01m.\u001b[39;00m\u001b[34;01mdisplay\u001b[39;00m\u001b[38;5;250m \u001b[39m\u001b[38;5;28;01mimport\u001b[39;00m display, Image\n\u001b[32m----> \u001b[39m\u001b[32m3\u001b[39m display(Image(\u001b[43mgraph\u001b[49m\u001b[43m.\u001b[49m\u001b[43mget_graph\u001b[49m\u001b[43m(\u001b[49m\u001b[43m)\u001b[49m\u001b[43m.\u001b[49m\u001b[43mdraw_mermaid_png\u001b[49m\u001b[43m(\u001b[49m\u001b[43m)\u001b[49m))\n",
      "\u001b[36mFile \u001b[39m\u001b[32m~/.cache/pypoetry/virtualenvs/llm-agent-U4qSWGiP-py3.11/lib/python3.11/site-packages/langchain_core/runnables/graph.py:607\u001b[39m, in \u001b[36mGraph.draw_mermaid_png\u001b[39m\u001b[34m(self, curve_style, node_colors, wrap_label_n_words, output_file_path, draw_method, background_color, padding)\u001b[39m\n\u001b[32m    600\u001b[39m \u001b[38;5;28;01mfrom\u001b[39;00m\u001b[38;5;250m \u001b[39m\u001b[34;01mlangchain_core\u001b[39;00m\u001b[34;01m.\u001b[39;00m\u001b[34;01mrunnables\u001b[39;00m\u001b[34;01m.\u001b[39;00m\u001b[34;01mgraph_mermaid\u001b[39;00m\u001b[38;5;250m \u001b[39m\u001b[38;5;28;01mimport\u001b[39;00m draw_mermaid_png\n\u001b[32m    602\u001b[39m mermaid_syntax = \u001b[38;5;28mself\u001b[39m.draw_mermaid(\n\u001b[32m    603\u001b[39m     curve_style=curve_style,\n\u001b[32m    604\u001b[39m     node_colors=node_colors,\n\u001b[32m    605\u001b[39m     wrap_label_n_words=wrap_label_n_words,\n\u001b[32m    606\u001b[39m )\n\u001b[32m--> \u001b[39m\u001b[32m607\u001b[39m \u001b[38;5;28;01mreturn\u001b[39;00m \u001b[43mdraw_mermaid_png\u001b[49m\u001b[43m(\u001b[49m\n\u001b[32m    608\u001b[39m \u001b[43m    \u001b[49m\u001b[43mmermaid_syntax\u001b[49m\u001b[43m=\u001b[49m\u001b[43mmermaid_syntax\u001b[49m\u001b[43m,\u001b[49m\n\u001b[32m    609\u001b[39m \u001b[43m    \u001b[49m\u001b[43moutput_file_path\u001b[49m\u001b[43m=\u001b[49m\u001b[43moutput_file_path\u001b[49m\u001b[43m,\u001b[49m\n\u001b[32m    610\u001b[39m \u001b[43m    \u001b[49m\u001b[43mdraw_method\u001b[49m\u001b[43m=\u001b[49m\u001b[43mdraw_method\u001b[49m\u001b[43m,\u001b[49m\n\u001b[32m    611\u001b[39m \u001b[43m    \u001b[49m\u001b[43mbackground_color\u001b[49m\u001b[43m=\u001b[49m\u001b[43mbackground_color\u001b[49m\u001b[43m,\u001b[49m\n\u001b[32m    612\u001b[39m \u001b[43m    \u001b[49m\u001b[43mpadding\u001b[49m\u001b[43m=\u001b[49m\u001b[43mpadding\u001b[49m\u001b[43m,\u001b[49m\n\u001b[32m    613\u001b[39m \u001b[43m\u001b[49m\u001b[43m)\u001b[49m\n",
      "\u001b[36mFile \u001b[39m\u001b[32m~/.cache/pypoetry/virtualenvs/llm-agent-U4qSWGiP-py3.11/lib/python3.11/site-packages/langchain_core/runnables/graph_mermaid.py:215\u001b[39m, in \u001b[36mdraw_mermaid_png\u001b[39m\u001b[34m(mermaid_syntax, output_file_path, draw_method, background_color, padding)\u001b[39m\n\u001b[32m    209\u001b[39m     img_bytes = asyncio.run(\n\u001b[32m    210\u001b[39m         _render_mermaid_using_pyppeteer(\n\u001b[32m    211\u001b[39m             mermaid_syntax, output_file_path, background_color, padding\n\u001b[32m    212\u001b[39m         )\n\u001b[32m    213\u001b[39m     )\n\u001b[32m    214\u001b[39m \u001b[38;5;28;01melif\u001b[39;00m draw_method == MermaidDrawMethod.API:\n\u001b[32m--> \u001b[39m\u001b[32m215\u001b[39m     img_bytes = \u001b[43m_render_mermaid_using_api\u001b[49m\u001b[43m(\u001b[49m\n\u001b[32m    216\u001b[39m \u001b[43m        \u001b[49m\u001b[43mmermaid_syntax\u001b[49m\u001b[43m,\u001b[49m\u001b[43m \u001b[49m\u001b[43moutput_file_path\u001b[49m\u001b[43m,\u001b[49m\u001b[43m \u001b[49m\u001b[43mbackground_color\u001b[49m\n\u001b[32m    217\u001b[39m \u001b[43m    \u001b[49m\u001b[43m)\u001b[49m\n\u001b[32m    218\u001b[39m \u001b[38;5;28;01melse\u001b[39;00m:\n\u001b[32m    219\u001b[39m     supported_methods = \u001b[33m\"\u001b[39m\u001b[33m, \u001b[39m\u001b[33m\"\u001b[39m.join([m.value \u001b[38;5;28;01mfor\u001b[39;00m m \u001b[38;5;129;01min\u001b[39;00m MermaidDrawMethod])\n",
      "\u001b[36mFile \u001b[39m\u001b[32m~/.cache/pypoetry/virtualenvs/llm-agent-U4qSWGiP-py3.11/lib/python3.11/site-packages/langchain_core/runnables/graph_mermaid.py:338\u001b[39m, in \u001b[36m_render_mermaid_using_api\u001b[39m\u001b[34m(mermaid_syntax, output_file_path, background_color)\u001b[39m\n\u001b[32m    336\u001b[39m     \u001b[38;5;28;01mreturn\u001b[39;00m img_bytes\n\u001b[32m    337\u001b[39m \u001b[38;5;28;01melse\u001b[39;00m:\n\u001b[32m--> \u001b[39m\u001b[32m338\u001b[39m     \u001b[38;5;28;01mraise\u001b[39;00m \u001b[38;5;167;01mValueError\u001b[39;00m(\n\u001b[32m    339\u001b[39m         \u001b[33mf\u001b[39m\u001b[33m\"\u001b[39m\u001b[33mFailed to render the graph using the Mermaid.INK API. \u001b[39m\u001b[33m\"\u001b[39m\n\u001b[32m    340\u001b[39m         \u001b[33mf\u001b[39m\u001b[33m\"\u001b[39m\u001b[33mStatus code: \u001b[39m\u001b[38;5;132;01m{\u001b[39;00mresponse.status_code\u001b[38;5;132;01m}\u001b[39;00m\u001b[33m.\u001b[39m\u001b[33m\"\u001b[39m\n\u001b[32m    341\u001b[39m     )\n",
      "\u001b[31mValueError\u001b[39m: Failed to render the graph using the Mermaid.INK API. Status code: 524."
     ]
    }
   ],
   "source": [
    "from IPython.display import display, Image\n",
    "\n",
    "display(Image(graph.get_graph().draw_mermaid_png()))"
   ]
  },
  {
   "cell_type": "code",
   "execution_count": 20,
   "metadata": {
    "colab": {
     "base_uri": "https://localhost:8080/"
    },
    "id": "MZL-CGsZBiWU",
    "outputId": "36639c7b-343e-4a0a-a61f-c3544b1bb349"
   },
   "outputs": [
    {
     "name": "stdout",
     "output_type": "stream",
     "text": [
      "{'supervisor': {'next': 'mari'}}\n",
      "次に発言する人: mari\n",
      "{'mari': {'messages': [HumanMessage(content='休日をまったり過ごすには、リラックスできる環境を整えることが大切です。以下のような過ごし方はいかがでしょうか。\\n\\n1. **朝のゆっくりとしたスタート**: 普段より少し遅く起きて、コーヒーやお茶をゆっくりと楽しみながら、窓の外を眺めてみるのはいかがでしょう。\\n\\n2. **読書**: お気に入りの本を片手に、静かな時間を過ごすのも素敵ですね。心の栄養をたっぷりと取り入れてみましょう。\\n\\n3. **散歩**: 近所の公園や自然の中を散歩して、季節の移ろいを感じるのもおすすめです。\\n\\n4. **音楽や映画鑑賞**: ゆったりとした音楽や、心温まる映画を楽しむのも良いリラックス方法です。\\n\\n5. **料理やお菓子作り**: 時間をかけて、普段は作らないような料理やお菓子に挑戦してみるのも楽しいですよ。\\n\\n6. **お昼寝**: 心身をリフレッシュするために、短いお昼寝を取り入れてみましょう。\\n\\n7. **アロマやバスソルトを使った入浴**: リラックス効果のあるアロマやバスソルトを使って、ゆったりとバスタイムを楽しむのも良いですね。\\n\\n家族と一緒に過ごす時間も大切にしながら、自分の心と体を労わる一日を過ごしてください。', name='mari', id='10082caa-3f8c-4264-904c-5151223c055a')]}}\n",
      "================================\u001b[1m Human Message \u001b[0m=================================\n",
      "Name: mari\n",
      "\n",
      "休日をまったり過ごすには、リラックスできる環境を整えることが大切です。以下のような過ごし方はいかがでしょうか。\n",
      "\n",
      "1. **朝のゆっくりとしたスタート**: 普段より少し遅く起きて、コーヒーやお茶をゆっくりと楽しみながら、窓の外を眺めてみるのはいかがでしょう。\n",
      "\n",
      "2. **読書**: お気に入りの本を片手に、静かな時間を過ごすのも素敵ですね。心の栄養をたっぷりと取り入れてみましょう。\n",
      "\n",
      "3. **散歩**: 近所の公園や自然の中を散歩して、季節の移ろいを感じるのもおすすめです。\n",
      "\n",
      "4. **音楽や映画鑑賞**: ゆったりとした音楽や、心温まる映画を楽しむのも良いリラックス方法です。\n",
      "\n",
      "5. **料理やお菓子作り**: 時間をかけて、普段は作らないような料理やお菓子に挑戦してみるのも楽しいですよ。\n",
      "\n",
      "6. **お昼寝**: 心身をリフレッシュするために、短いお昼寝を取り入れてみましょう。\n",
      "\n",
      "7. **アロマやバスソルトを使った入浴**: リラックス効果のあるアロマやバスソルトを使って、ゆったりとバスタイムを楽しむのも良いですね。\n",
      "\n",
      "家族と一緒に過ごす時間も大切にしながら、自分の心と体を労わる一日を過ごしてください。\n"
     ]
    }
   ],
   "source": [
    "from langchain_core.messages import HumanMessage\n",
    "\n",
    "human_message = HumanMessage(\"休日のまったりした過ごし方を教えて\")\n",
    "for event in graph.stream({\"messages\": [human_message]}):\n",
    "    print(event)\n",
    "    for value in event.values():\n",
    "        if \"next\" in value:\n",
    "            print(f\"次に発言する人: {value['next']}\")\n",
    "        elif \"messages\" in value:\n",
    "            value[\"messages\"][-1].pretty_print()"
   ]
  },
  {
   "cell_type": "markdown",
   "metadata": {
    "id": "sek8AwOc8kWU"
   },
   "source": [
    "## 4.2.4 ツールの使用"
   ]
  },
  {
   "cell_type": "code",
   "execution_count": 2,
   "metadata": {
    "id": "JVq61UlQ_ePY"
   },
   "outputs": [],
   "source": [
    "# from google.colab import userdata\n",
    "from dotenv import load_dotenv\n",
    "import os\n",
    "\n",
    "load_dotenv()\n",
    "\n",
    "# Tavily API キーの設定\n",
    "os.environ[\"TAVILY_API_KEY\"] = os.getenv('TAVILY_API_KEY')"
   ]
  },
  {
   "cell_type": "code",
   "execution_count": 3,
   "metadata": {
    "id": "6Jf8Lmrh78vS"
   },
   "outputs": [],
   "source": [
    "from langchain_community.tools.tavily_search import TavilySearchResults\n",
    "from langchain_openai import ChatOpenAI\n",
    "from typing_extensions import TypedDict\n",
    "from typing import Annotated\n",
    "from langgraph.graph.message import add_messages\n",
    "\n",
    "class State(TypedDict):\n",
    "    messages: Annotated[list, add_messages]\n",
    "\n",
    "#1 ツールの作成\n",
    "tavily_tool = TavilySearchResults(max_results=2)\n",
    "\n",
    "#2 ツールの紐づけ\n",
    "llm = ChatOpenAI(model=\"gpt-4o-mini\")\n",
    "llm_with_tool = llm.bind_tools([tavily_tool])\n",
    "\n",
    "#3 ツールを使ったチャットボットの作成\n",
    "def chatbot(state: State):\n",
    "    messages = [llm_with_tool.invoke(state[\"messages\"])]\n",
    "    return {\n",
    "        \"messages\": messages,\n",
    "    }"
   ]
  },
  {
   "cell_type": "code",
   "execution_count": 5,
   "metadata": {
    "id": "LO7MA1Iq-Gxx"
   },
   "outputs": [],
   "source": [
    "import json\n",
    "\n",
    "from langchain_core.messages import ToolMessage\n",
    "\n",
    "\n",
    "class ToolNode:\n",
    "    def __init__(self, tools: list) -> None:\n",
    "        self.tools_by_name = {tool.name: tool for tool in tools}\n",
    "\n",
    "    def __call__(self, state: State):\n",
    "        #1 最後のメッセージを取得\n",
    "        if messages := state.get(\"messages\", []):\n",
    "            message = messages[-1]\n",
    "        else:\n",
    "            raise ValueError(\"入力にメッセージが見つかりません\")\n",
    "\n",
    "        #2 ツールの実行\n",
    "        tool_messages = []\n",
    "        for tool_call in message.tool_calls:\n",
    "            #2.1 エージェントが指定したnameとargsを元にツールを実1行\n",
    "            tool_result = self.tools_by_name[tool_call[\"name\"]].invoke(\n",
    "                tool_call[\"args\"]\n",
    "            )\n",
    "            #2.2 ツールの実行結果をメッセージとして追加\n",
    "            tool_messages.append(\n",
    "                ToolMessage(\n",
    "                    content=json.dumps(tool_result, ensure_ascii=False),\n",
    "                    name=tool_call[\"name\"],\n",
    "                    tool_call_id=tool_call[\"id\"],\n",
    "                )\n",
    "            )\n",
    "\n",
    "        return {\n",
    "            \"messages\": tool_messages,\n",
    "        }\n",
    "\n",
    "tool_node = ToolNode([tavily_tool])"
   ]
  },
  {
   "cell_type": "code",
   "execution_count": 6,
   "metadata": {
    "id": "XNfI5sO7-e2e"
   },
   "outputs": [],
   "source": [
    "from typing import Literal\n",
    "\n",
    "def route_tools(state: State,) -> Literal[\"tools\", \"__end__\"]:\n",
    "    if messages := state.get(\"messages\", []):\n",
    "        ai_message = messages[-1]\n",
    "    else:\n",
    "        raise ValueError(f\"stateにツールに関するメッセージが見つかりませんでした: {state}\")\n",
    "\n",
    "    if hasattr(ai_message, \"tool_calls\") and len(ai_message.tool_calls) > 0:\n",
    "        return \"tools\"\n",
    "    return \"__end__\""
   ]
  },
  {
   "cell_type": "code",
   "execution_count": 7,
   "metadata": {
    "id": "_q1MFbrl-gVS"
   },
   "outputs": [],
   "source": [
    "from langgraph.graph import StateGraph, START, END\n",
    "\n",
    "graph_builder = StateGraph(State)\n",
    "\n",
    "graph_builder.add_node(\"chatbot\", chatbot)\n",
    "graph_builder.add_node(\"tools\", tool_node)\n",
    "\n",
    "graph_builder.add_conditional_edges(\n",
    "    \"chatbot\",\n",
    "    route_tools,\n",
    "    [\"tools\", \"__end__\"],\n",
    ")\n",
    "\n",
    "graph_builder.add_edge(\"tools\", \"chatbot\")\n",
    "graph_builder.add_edge(START, \"chatbot\")\n",
    "graph = graph_builder.compile()"
   ]
  },
  {
   "cell_type": "code",
   "execution_count": 8,
   "metadata": {
    "colab": {
     "base_uri": "https://localhost:8080/",
     "height": 266
    },
    "id": "mhSROt22-hy8",
    "outputId": "ca9483b8-1846-4b65-cc9e-87f0310d4a78"
   },
   "outputs": [
    {
     "data": {
      "image/jpeg": "[encoded data removed]",
      "text/plain": [
       "<IPython.core.display.Image object>"
      ]
     },
     "metadata": {},
     "output_type": "display_data"
    }
   ],
   "source": [
    "from IPython.display import display, Image\n",
    "\n",
    "display(Image(graph.get_graph().draw_mermaid_png()))"
   ]
  },
  {
   "cell_type": "code",
   "execution_count": 9,
   "metadata": {
    "colab": {
     "base_uri": "https://localhost:8080/"
    },
    "id": "TvvyAiHo-jJu",
    "outputId": "54514511-8621-4e7c-829d-fb141b688b15"
   },
   "outputs": [
    {
     "name": "stdout",
     "output_type": "stream",
     "text": [
      "==================================\u001b[1m Ai Message \u001b[0m==================================\n",
      "Tool Calls:\n",
      "  tavily_search_results_json (call_KeN5ONAzvhstdEMvTyVtVCEL)\n",
      " Call ID: call_KeN5ONAzvhstdEMvTyVtVCEL\n",
      "  Args:\n",
      "    query: 今日の東京の天気\n",
      "=================================\u001b[1m Tool Message \u001b[0m=================================\n",
      "Name: tavily_search_results_json\n",
      "\n",
      "[{\"url\": \"https://weathernews.jp/s/forecast/detail.fcgi?area=Tokyo\", \"content\": \"東京都(東京)の天気\\n\\n\\n\\n\\n\\n天気予報\\n全国関東東京東京\\n| 日付 | 3/31 (月) | 4/1 (火) |\\n| --- | --- | --- |\\n| 天気 |  |  |\\n| 気温 | 8\\n6\\n| 7\\n2\\n|\\n| 降水\\n確率 | ~06 | ~12 | ~18 | ~24 | ~06 | ~12 | ~18 | ~24 |\\n| - | - | 30 | 50 | 50 | 70 | 80 | 70 |\\n【重要】スマパス特典終了後のご利用方法\\n雨具がお守り　暖かい服装で\\n今日は雲が多い一日。パラパラ、サーッと雨の降ることがあるため、外出の際は折りたたみ傘がお守りです。多摩西部では雪の可能性も。冷たい空気で冬を思い出す寒さに戻るので、暖かい服装でお過ごしください。\"}, {\"url\": \"https://www.toshin.com/weather/detail?id=66124\", \"content\": \"0.0 | 0.0 | 0.0 | 0.0 | 0.0 | 0.0 | 0.0 | 0.0 | 0.0 | 0.0 | 0.0 | 0.0 | 0.0 | 0.0 | 0.0 | 0.0 | 0.0 | 0.0 | 0.0 | 0.0 | 0.0 | 0.0 | 0.0 | 0.0\\n73 | 74 | 76 | 78 | 78 | 79 | 79 | 72 | 66 | 59 | 56 | 53 | 51 | 50 | 50 | 50 | 54 | 58 | 62 | 63 | 64 | 66 | 66 | 66\\n南 | 南 | 南 | 南 | 南 | 南 | 南 | 南 | 南 | 南 | 南 | 南 | 南 | 南 | 南 | 南 | 南 | 南 | 南 | 南 | 南 | 南 | 南西 | 南西\\n |  |  |  |  |  |  |  |  |  |  |  |  |  |  |  |  |  |  |  |  |  |  | [...] 0.0 | 0.0 | 0.0 | 0.0 | 0.0 | 0.0 | 0.0 | 0.0 | 0.0 | 0.0 | 0.0 | 0.0 | 0.0 | 0.0 | 0.0 | 0.0 | 0.0 | 0.0 | 0.0 | 0.0 | 0.0 | 0.0 | 0.0 | 0.0\\n89 | 86 | 87 | 89 | 88 | 89 | 88 | 80 | 74 | 71 | 63 | 59 | 57 | 52 | 56 | 57 | 59 | 63 | 71 | 74 | 78 | 84 | 82 | 83\\n南 | 南 | 南 | 南 | 南 | 南 | 南 | 南 | 南 | 南 | 南 | 南 | 南 | 南 | 南 | 南 | 南 | 南 | 南 | 南 | 南 | 南 | 南 | 南\\n |  |  |  |  |  |  |  |  |  |  |  |  |  |  |  |  |  |  |  |  |  |  | [...] 0.0 | 0.0 | 0.0 | 0.0 | 0.0 | 0.0 | 0.0 | 0.0 | 0.0 | 0.0 | 0.0 | 0.0 | 0.0 | 0.0 | 0.0 | 0.0 | 0.0 | 0.0 | 0.0 | 0.0 | 0.0 | 0.0 | 0.0 | 0.7\\n93 | 89 | 89 | 91 | 87 | 86 | 85 | 83 | 77 | 73 | 68 | 65 | 63 | 58 | 64 | 65 | 66 | 71 | 73 | 78 | 82 | 90 | 89 | 92\\n南 | 南 | 南 | 南 | 南西 | 南西 | 南西 | 西 | 西 | 南西 | 南 | 南 | 南 | 南 | 南 | 南 | 南 | 南 | 南 | 南 | 南 | 南 | 東南 | 東南\\n |  |  |  |  |  |  |  |  |  |  |  |  |  |  |  |  |  |  |  |  |  |  |\"}]\n",
      "==================================\u001b[1m Ai Message \u001b[0m==================================\n",
      "\n",
      "今日の東京の天気は、雲が多く、時折雨が降る可能性があります。特に多摩西部では雪の可能性もあるため、外出の際は折りたたみ傘を持っていると良いでしょう。気温は最高が8度、最低が6度と、寒さが戻ってきていますので、暖かい服装で過ごすことをお勧めします。\n",
      "\n",
      "詳細な天気予報は[こちら](https://weathernews.jp/s/forecast/detail.fcgi?area=Tokyo)をご覧ください。\n"
     ]
    }
   ],
   "source": [
    "from langchain_core.messages import HumanMessage\n",
    "\n",
    "human_message = {\n",
    "    \"messages\": [HumanMessage(\"今日の東京の天気を教えて\")],\n",
    "    \"count\": 0,\n",
    "}\n",
    "\n",
    "for event in graph.stream(human_message):\n",
    "    for value in event.values():\n",
    "        value[\"messages\"][-1].pretty_print()"
   ]
  },
  {
   "cell_type": "code",
   "execution_count": null,
   "metadata": {
    "id": "zVWAraWu-kge"
   },
   "outputs": [],
   "source": []
  }
 ],
 "metadata": {
  "colab": {
   "provenance": []
  },
  "kernelspec": {
   "display_name": ".venv",
   "language": "python",
   "name": "python3"
  },
  "language_info": {
   "codemirror_mode": {
    "name": "ipython",
    "version": 3
   },
   "file_extension": ".py",
   "mimetype": "text/x-python",
   "name": "python",
   "nbconvert_exporter": "python",
   "pygments_lexer": "ipython3",
   "version": "3.11.8"
  }
 },
 "nbformat": 4,
 "nbformat_minor": 0
}
