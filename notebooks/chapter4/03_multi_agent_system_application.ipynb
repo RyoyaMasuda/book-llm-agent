{
  "cells": [
    {
      "cell_type": "markdown",
      "metadata": {
        "id": "F2e1J3p4Dqu2"
      },
      "source": [
        "# 準備"
      ]
    },
    {
      "cell_type": "code",
      "execution_count": 1,
      "metadata": {
        "colab": {
          "base_uri": "https://localhost:8080/"
        },
        "id": "eFUMuI4bEGcj",
        "outputId": "4354b1d2-2843-49f1-fcdb-f9ce435b1e6c"
      },
      "outputs": [],
      "source": [
        "# from google.colab import userdata\n",
        "from dotenv import load_dotenv\n",
        "import os\n",
        "load_dotenv()\n",
        "\n",
        "# OpenAI API キーの設定\n",
        "os.environ[\"OPENAI_API_KEY\"] = os.getenv('OPENAI_API_KEY')"
      ]
    },
    {
      "cell_type": "code",
      "execution_count": null,
      "metadata": {
        "colab": {
          "base_uri": "https://localhost:8080/"
        },
        "id": "BgTjtbZuEVxn",
        "outputId": "751f2469-f062-4818-c4ff-dab98be54d16"
      },
      "outputs": [],
      "source": [
        "# !pip install -q langchain langgraph langchain-openai langchain-community langchain-experimental"
      ]
    },
    {
      "cell_type": "markdown",
      "metadata": {
        "id": "WKUsbzjKDjYg"
      },
      "source": [
        "# 4.3. マルチエージェントの活用\n"
      ]
    },
    {
      "cell_type": "markdown",
      "metadata": {
        "id": "MEh3ONBaDjSk"
      },
      "source": [
        "## 4.3.1. 数学の問題を解かせよう"
      ]
    },
    {
      "cell_type": "code",
      "execution_count": null,
      "metadata": {
        "id": "Piv2lKP6JK0v"
      },
      "outputs": [],
      "source": [
        "# !pip install -q sympy"
      ]
    },
    {
      "cell_type": "code",
      "execution_count": 3,
      "metadata": {
        "id": "5pCY8g12EoPe"
      },
      "outputs": [],
      "source": [
        "from typing_extensions import TypedDict\n",
        "from typing import Annotated\n",
        "from langgraph.graph.message import add_messages\n",
        "\n",
        "class State(TypedDict):\n",
        "    messages: Annotated[list, add_messages]\n",
        "    problem: str\n",
        "    first_flag: bool\n",
        "    end_flag: bool"
      ]
    },
    {
      "cell_type": "code",
      "execution_count": 3,
      "metadata": {
        "id": "BigURL1yEoNc"
      },
      "outputs": [],
      "source": [
        "import re\n",
        "from langchain_experimental.utilities import PythonREPL\n",
        "from langchain_core.messages import HumanMessage\n",
        "\n",
        "#1 Python実行用のツール\n",
        "repl = PythonREPL()\n",
        "\n",
        "#2 コード部分を抜き出す関数\n",
        "def extract_code(input_string: str):\n",
        "    pattern = r\"```(.*?)```\"\n",
        "    match = re.findall(pattern, input_string, flags=re.DOTALL)\n",
        "\n",
        "    queries = \"\"\n",
        "    for m in match:\n",
        "        query = m.replace(\"python\", \"\").strip()\n",
        "        queries += query + \"\\n\"\n",
        "    return queries\n",
        "\n",
        "#3 ユーザープロキシエージェントの定義\n",
        "INITIAL_PROMPT = \"\"\"\\\n",
        "Pythonを使って数学の問題を解いてみましょう。\n",
        "\n",
        "クエリ要件：\n",
        "常に出力には'print'関数を使用し、小数ではなく分数や根号形式を使用してください。\n",
        "sympyなどのパッケージを利用しても構いません。\n",
        "以下のフォーマットに従ってコードを書いてください。\n",
        "```python\n",
        "# あなたのコード\n",
        "```\n",
        "\n",
        "まず、問題を解くための主な考え方を述べてください。問題を解くためには以下の3つの方法から選択できます：\n",
        "ケース1：問題が直接Pythonコードで解決できる場合、プログラムを書いて解決してください。必要に応じてすべての可能な配置を列挙しても構いません。\n",
        "ケース2：問題が主に推論で解決できる場合、自分で直接解決してください。\n",
        "ケース3：上記の2つの方法では対処できない場合、次のプロセスに従ってください：\n",
        "1. 問題をステップバイステップで解決する（ステップを過度に細分化しないでください）。\n",
        "2. Pythonを使って問い合わせることができるクエリ（計算や方程式など）を取り出します。\n",
        "3. 結果を私に教えてください。\n",
        "4. 結果が正しいと思う場合は続行してください。結果が無効または予期しない場合は、クエリまたは推論を修正してください。\n",
        "\n",
        "すべてのクエリが実行され、答えを得た後、答えを \\\\boxed{{}} に入れてください。\n",
        "答え以外、例えば変数を\\\\boxed{{}}に入れたり、\\\\boxed{{}}を単体で使用しないで下さい。\n",
        "\\\\boxed{{}}の有無で答えが出たかを管理しています。最終的な答えが出た時以外は、\\\\boxed{{}}を使用しないでください。\n",
        "回答が得られた場合は、シンプルに表示して下さい。追加の出力などはしないでください。\n",
        "\n",
        "問題文：{problem}\n",
        "\"\"\"\n",
        "\n",
        "def user_proxy_agent(state: State):\n",
        "    if state[\"first_flag\"]:\n",
        "        message = INITIAL_PROMPT.format(problem=state[\"problem\"])\n",
        "    else:\n",
        "        last_message = state[\"messages\"][-1].content\n",
        "        code = extract_code(last_message)\n",
        "        if code:\n",
        "            message = repl.run(code)\n",
        "        else:\n",
        "            message = \"続けてください。クエリが必要になるまで問題を解き続けてください。（答えが出た場合は、\\\\boxed{{}} に入れてください。）\",\n",
        "    message = HumanMessage(message)\n",
        "    return {\"messages\": [message], \"first_flag\": False}"
      ]
    },
    {
      "cell_type": "code",
      "execution_count": 4,
      "metadata": {
        "id": "4m5kr76zEoLW"
      },
      "outputs": [],
      "source": [
        "from langchain_openai import ChatOpenAI\n",
        "\n",
        "llm = ChatOpenAI(model=\"gpt-4o-mini\")\n",
        "\n",
        "# 回答を抜き出す関数\n",
        "def extract_boxed(input_string: str):\n",
        "    pattern = r\"\\\\boxed\\{.*?\\}\"\n",
        "    matches = re.findall(pattern, input_string)\n",
        "    return [m.replace(\"\\\\boxed{\", \"\").replace(\"}\", \"\") for m in matches]\n",
        "\n",
        "#  LLMエージェントを定義した関数\n",
        "def llm_agent(state: State):\n",
        "    message = llm.invoke(state[\"messages\"])\n",
        "    content = message.content\n",
        "    boxed = extract_boxed(content)\n",
        "    end_flag = False\n",
        "    if boxed:\n",
        "        end_flag = True\n",
        "    return {\"messages\": [message], \"end_flag\": end_flag}"
      ]
    },
    {
      "cell_type": "code",
      "execution_count": 5,
      "metadata": {
        "id": "45wPtyjeEoIq"
      },
      "outputs": [],
      "source": [
        "from langgraph.graph import StateGraph, START, END\n",
        "\n",
        "graph_builder = StateGraph(State)\n",
        "\n",
        "graph_builder.add_node(\"llm_agent\", llm_agent)\n",
        "graph_builder.add_node(\"user_proxy_agent\", user_proxy_agent)\n",
        "\n",
        "graph_builder.add_edge(START, \"user_proxy_agent\")\n",
        "graph_builder.add_conditional_edges(\n",
        "    \"llm_agent\",\n",
        "    lambda state: state[\"end_flag\"],\n",
        "    {True: END, False: \"user_proxy_agent\"}\n",
        ")\n",
        "graph_builder.add_edge(\"user_proxy_agent\", \"llm_agent\")\n",
        "\n",
        "graph = graph_builder.compile()"
      ]
    },
    {
      "cell_type": "code",
      "execution_count": 6,
      "metadata": {
        "colab": {
          "base_uri": "https://localhost:8080/",
          "height": 398
        },
        "id": "uewP3Yh7EoGS",
        "outputId": "706ba059-dc72-4138-b4d2-77b8cd978c03"
      },
      "outputs": [
        {
          "data": {
            "image/jpeg": "[encoded data removed]",
            "text/plain": [
              "<IPython.core.display.Image object>"
            ]
          },
          "metadata": {},
          "output_type": "display_data"
        }
      ],
      "source": [
        "from IPython.display import display, Image\n",
        "\n",
        "display(Image(graph.get_graph().draw_mermaid_png()))"
      ]
    },
    {
      "cell_type": "code",
      "execution_count": 8,
      "metadata": {
        "colab": {
          "base_uri": "https://localhost:8080/"
        },
        "id": "-GTu5pCeEoB5",
        "outputId": "f76a6c5a-198f-40d8-a7d8-af48916f7956"
      },
      "outputs": [
        {
          "name": "stdout",
          "output_type": "stream",
          "text": [
            "================================\u001b[1m Human Message \u001b[0m=================================\n",
            "\n",
            "Pythonを使って数学の問題を解いてみましょう。\n",
            "\n",
            "クエリ要件：\n",
            "常に出力には'print'関数を使用し、小数ではなく分数や根号形式を使用してください。\n",
            "sympyなどのパッケージを利用しても構いません。\n",
            "以下のフォーマットに従ってコードを書いてください。\n",
            "```python\n",
            "# あなたのコード\n",
            "```\n",
            "\n",
            "まず、問題を解くための主な考え方を述べてください。問題を解くためには以下の3つの方法から選択できます：\n",
            "ケース1：問題が直接Pythonコードで解決できる場合、プログラムを書いて解決してください。必要に応じてすべての可能な配置を列挙しても構いません。\n",
            "ケース2：問題が主に推論で解決できる場合、自分で直接解決してください。\n",
            "ケース3：上記の2つの方法では対処できない場合、次のプロセスに従ってください：\n",
            "1. 問題をステップバイステップで解決する（ステップを過度に細分化しないでください）。\n",
            "2. Pythonを使って問い合わせることができるクエリ（計算や方程式など）を取り出します。\n",
            "3. 結果を私に教えてください。\n",
            "4. 結果が正しいと思う場合は続行してください。結果が無効または予期しない場合は、クエリまたは推論を修正してください。\n",
            "\n",
            "すべてのクエリが実行され、答えを得た後、答えを \\boxed{} に入れてください。\n",
            "答え以外、例えば変数を\\boxed{}に入れたり、\\boxed{}を単体で使用しないで下さい。\n",
            "\\boxed{}の有無で答えが出たかを管理しています。最終的な答えが出た時以外は、\\boxed{}を使用しないでください。\n",
            "回答が得られた場合は、シンプルに表示して下さい。追加の出力などはしないでください。\n",
            "\n",
            "問題文：問題: 偽の金塊は、コンクリートの立方体を金色のペイントで覆うことによって作られます。\n",
            "ペイントのコストは立方体の表面積に比例し、コンクリートのコストは体積に比例します。\n",
            "1インチの立方体を作るコストが$1.30であり、2インチの立方体を作るコストが$6.80であるとき、3インチの立方体を作るコストはいくらになりますか？\n",
            "\n",
            "==================================\u001b[1m Ai Message \u001b[0m==================================\n",
            "\n",
            "この問題を解決するための主な考え方は、立方体の表面積と体積の関係を理解し、それを使ってコストを計算することです。\n",
            "\n",
            "1. 立方体の表面積は \\( A = 6s^2 \\) であり、体積は \\( V = s^3 \\) です。ここで、\\( s \\) は立方体の一辺の長さです。\n",
            "2. 1インチの立方体のコストが $1.30 で、2インチの立方体のコストが $6.80 であるため、表面積と体積に基づいてコストを導出することができます。\n",
            "3. それぞれの立方体のコストを表面積と体積を使って表現し、3インチの立方体のコストを計算します。\n",
            "\n",
            "これを踏まえて、Pythonを使用して計算してみましょう。\n",
            "\n",
            "```python\n",
            "from sympy import symbols, Eq, solve\n",
            "\n",
            "# 変数の定義\n",
            "s = symbols('s')  # 立方体の一辺の長さ\n",
            "cost_per_volume = symbols('cost_per_volume')  # コンクリートのコスト\n",
            "cost_per_surface = symbols('cost_per_surface')  # ペイントのコスト\n",
            "\n",
            "# 1インチと2インチの立方体のコスト\n",
            "cost_1_inch = 1.30\n",
            "cost_2_inch = 6.80\n",
            "\n",
            "# 1インチの立方体の表面積と体積\n",
            "A_1 = 6 * (1 ** 2)  # 表面積\n",
            "V_1 = 1 ** 3        # 体積\n",
            "\n",
            "# 2インチの立方体の表面積と体積\n",
            "A_2 = 6 * (2 ** 2)  # 表面積\n",
            "V_2 = 2 ** 3        # 体積\n",
            "\n",
            "# コストの方程式\n",
            "eq1 = Eq(cost_1_inch, cost_per_surface * A_1 + cost_per_volume * V_1)\n",
            "eq2 = Eq(cost_2_inch, cost_per_surface * A_2 + cost_per_volume * V_2)\n",
            "\n",
            "# 方程式を解く\n",
            "solutions = solve((eq1, eq2), (cost_per_surface, cost_per_volume))\n",
            "cost_per_surface_value = solutions[cost_per_surface]\n",
            "cost_per_volume_value = solutions[cost_per_volume]\n",
            "\n",
            "# 3インチの立方体のコストを計算\n",
            "A_3 = 6 * (3 ** 2)  # 3インチの表面積\n",
            "V_3 = 3 ** 3        # 3インチの体積\n",
            "cost_3_inch = cost_per_surface_value * A_3 + cost_per_volume_value * V_3\n",
            "\n",
            "# 結果を出力\n",
            "print(cost_3_inch)\n",
            "```\n",
            "\n",
            "このコードを実行すると、3インチの立方体を作るコストが計算されます。これにより、最終的な答えを得ることができます。\n",
            "================================\u001b[1m Human Message \u001b[0m=================================\n",
            "\n",
            "18.9000000000000\n",
            "\n",
            "==================================\u001b[1m Ai Message \u001b[0m==================================\n",
            "\n",
            "出力された結果が小数形式ですが、分数や根号形式で表示する必要があります。したがって、結果を分数形式で表示するように修正します。以下は修正後のコードです。\n",
            "\n",
            "```python\n",
            "from sympy import symbols, Eq, solve, Rational\n",
            "\n",
            "# 変数の定義\n",
            "s = symbols('s')  # 立方体の一辺の長さ\n",
            "cost_per_volume = symbols('cost_per_volume')  # コンクリートのコスト\n",
            "cost_per_surface = symbols('cost_per_surface')  # ペイントのコスト\n",
            "\n",
            "# 1インチと2インチの立方体のコスト\n",
            "cost_1_inch = Rational(130, 100)  # $1.30\n",
            "cost_2_inch = Rational(680, 100)   # $6.80\n",
            "\n",
            "# 1インチの立方体の表面積と体積\n",
            "A_1 = 6 * (1 ** 2)  # 表面積\n",
            "V_1 = 1 ** 3        # 体積\n",
            "\n",
            "# 2インチの立方体の表面積と体積\n",
            "A_2 = 6 * (2 ** 2)  # 表面積\n",
            "V_2 = 2 ** 3        # 体積\n",
            "\n",
            "# コストの方程式\n",
            "eq1 = Eq(cost_1_inch, cost_per_surface * A_1 + cost_per_volume * V_1)\n",
            "eq2 = Eq(cost_2_inch, cost_per_surface * A_2 + cost_per_volume * V_2)\n",
            "\n",
            "# 方程式を解く\n",
            "solutions = solve((eq1, eq2), (cost_per_surface, cost_per_volume))\n",
            "cost_per_surface_value = solutions[cost_per_surface]\n",
            "cost_per_volume_value = solutions[cost_per_volume]\n",
            "\n",
            "# 3インチの立方体のコストを計算\n",
            "A_3 = 6 * (3 ** 2)  # 3インチの表面積\n",
            "V_3 = 3 ** 3        # 3インチの体積\n",
            "cost_3_inch = cost_per_surface_value * A_3 + cost_per_volume_value * V_3\n",
            "\n",
            "# 結果を出力\n",
            "print(cost_3_inch)\n",
            "```\n",
            "\n",
            "このコードを実行すると、3インチの立方体のコストが分数形式で表示されます。最終的な答えは次のようになります。\n",
            "\n",
            "```python\n",
            "print(f\"\\\\boxed{{{cost_3_inch}}}\")\n",
            "```\n",
            "\n",
            "上記のコードを実行することで、最終的な結果を得ることができ、コストが分数形式で表示されます。\n"
          ]
        }
      ],
      "source": [
        "problem = \"\"\"\\\n",
        "問題: 偽の金塊は、コンクリートの立方体を金色のペイントで覆うことによって作られます。\n",
        "ペイントのコストは立方体の表面積に比例し、コンクリートのコストは体積に比例します。\n",
        "1インチの立方体を作るコストが$1.30であり、2インチの立方体を作るコストが$6.80であるとき、3インチの立方体を作るコストはいくらになりますか？\"\"\"\n",
        "\n",
        "\n",
        "for event in graph.stream({\"problem\": problem, \"first_flag\": True}):\n",
        "    for value in event.values():\n",
        "        value[\"messages\"][-1].pretty_print()"
      ]
    },
    {
      "cell_type": "markdown",
      "metadata": {
        "id": "403Y2hADDjNO"
      },
      "source": [
        "## 4.3.2. 議論させてみよう"
      ]
    },
    {
      "cell_type": "code",
      "execution_count": 12,
      "metadata": {},
      "outputs": [],
      "source": [
        "from typing_extensions import TypedDict\n",
        "from typing import Annotated\n",
        "from langgraph.graph.message import add_messages\n",
        "\n",
        "class State(TypedDict):\n",
        "    messages: Annotated[list, add_messages]\n",
        "    debate_topic: str\n",
        "    judged: bool\n",
        "    round: int\n",
        "     "
      ]
    },
    {
      "cell_type": "markdown",
      "metadata": {
        "id": "XehsDu1VHwCO"
      },
      "source": [
        "from typing_extensions import TypedDict\n",
        "from typing import Annotated\n",
        "from langgraph.graph.message import add_messages\n",
        "\n",
        "class State(TypedDict):\n",
        "    messages: Annotated[list, add_messages]\n",
        "    debate_topic: str\n",
        "    judged: bool\n",
        "    round: int"
      ]
    },
    {
      "cell_type": "code",
      "execution_count": 20,
      "metadata": {
        "id": "mmFesZ2EIUWj"
      },
      "outputs": [],
      "source": [
        "from langchain_core.messages import HumanMessage, SystemMessage\n",
        "from langchain_openai import ChatOpenAI\n",
        "\n",
        "llm = ChatOpenAI(model=\"gpt-4o-mini\")\n",
        "\n",
        "def cot_agent(\n",
        "    state: State,\n",
        "):\n",
        "    system_message = (\n",
        "        \"与えられた議題に対し、ステップバイステップで考えてから回答してください。\"\n",
        "        \"議題：{debate_topic}\"\n",
        "    )\n",
        "    system_message = SystemMessage(\n",
        "        system_message.format(debate_topic=state[\"debate_topic\"])\n",
        "    )\n",
        "    message = HumanMessage(\n",
        "        content=llm.invoke([system_message]).content, name=\"CoT\"\n",
        "    )\n",
        "\n",
        "    return {\"messages\": [message]}\n"
      ]
    },
    {
      "cell_type": "code",
      "execution_count": 14,
      "metadata": {
        "id": "nfBdd_h5Hv9k"
      },
      "outputs": [],
      "source": [
        "from langchain_core.messages import HumanMessage, SystemMessage\n",
        "import functools\n",
        "\n",
        "def debater(\n",
        "    state: State,\n",
        "    name: str,\n",
        "    position: str,\n",
        "):\n",
        "    system_message = (\n",
        "        \"あなたはディベーターです。ディベート大会へようこそ。\"\n",
        "        \"私たちの目的は正しい答えを見つけることですので、お互いの視点に完全に同意する必要はありません。\"\n",
        "        \"ディベートのテーマは以下の通りです：{debate_topic}\"\n",
        "        \"\"\n",
        "        \"{position}\"\n",
        "    )\n",
        "\n",
        "    debate_topic = state[\"debate_topic\"]\n",
        "    system_message = SystemMessage(\n",
        "        system_message.format(debate_topic=debate_topic, position=position)\n",
        "    )\n",
        "    message = HumanMessage(\n",
        "        content=llm.invoke([system_message, *state[\"messages\"]]).content,\n",
        "        name=name,\n",
        "    )\n",
        "    return {\"messages\": [message]}\n",
        "\n",
        "\n",
        "affirmative_debator = functools.partial(\n",
        "    debater,\n",
        "    name=\"Affirmative_Debater\",\n",
        "    position=\"あなたは肯定側です。あなたの見解を簡潔に述べてください。否定側の意見が与えられた場合は、それに反対して理由を簡潔に述べてください。\"\n",
        ")\n",
        "negative_debator = functools.partial(\n",
        "    debater,\n",
        "    name=\"Negative_Debater\",\n",
        "    position=\"あなたは否定側です。肯定側の意見に反対し、あなたの理由を簡潔に説明してください。\"\n",
        ")"
      ]
    },
    {
      "cell_type": "code",
      "execution_count": 15,
      "metadata": {
        "id": "V85r_fHIHv6a"
      },
      "outputs": [],
      "source": [
        "from pydantic import BaseModel, Field\n",
        "from langchain_core.messages import AIMessage\n",
        "\n",
        "\n",
        "class JudgeSchema(BaseModel):\n",
        "    judged: bool = Field(..., description=\"勝者が決まったかどうか\")\n",
        "    answer: str = Field(description=\"議題に対する結論とその理由\")\n",
        "\n",
        "\n",
        "def judger(state: State):\n",
        "    system_message = (\n",
        "        \"あなたは司会者です。\"\n",
        "        \"ディベート大会に2名のディベーターが参加します。\"\n",
        "        \"彼らは{debate_topic}について自分の回答を発表し、それぞれの視点について議論します。\"\n",
        "        \"各ラウンドの終わりに、あなたは両者の回答を評価していき、ディベートの勝者を判断します。\"\n",
        "        \"判定が難しい場合は、次のラウンドで判断してください。\"\n",
        "    )\n",
        "    system_message = SystemMessage(\n",
        "        system_message.format(debate_topic=state[\"debate_topic\"])\n",
        "    )\n",
        "\n",
        "    llm_with_format = llm.with_structured_output(JudgeSchema)\n",
        "    res = llm_with_format.invoke([system_message, *state[\"messages\"]])\n",
        "    messages = []\n",
        "\n",
        "    if res.judged:\n",
        "        message = HumanMessage(res.answer)\n",
        "        messages.append(message)\n",
        "    return {\n",
        "        \"messages\": messages,\n",
        "             \"judged\": res.judged\n",
        "    }\n"
      ]
    },
    {
      "cell_type": "code",
      "execution_count": 16,
      "metadata": {
        "id": "TBKEZudkHv3d"
      },
      "outputs": [],
      "source": [
        "def round_monitor(state: State, max_round: int):\n",
        "    round = state[\"round\"] + 1\n",
        "    if state[\"round\"] < max_round:\n",
        "        return {\"round\": round}\n",
        "    else:\n",
        "        return {\n",
        "            \"messages\": [HumanMessage(\n",
        "                \"最終ラウンドなので、勝者を決定し、議題に対する結論とその理由を述べてください。\"\n",
        "            )],\n",
        "            \"round\": round,\n",
        "        }\n",
        "\n",
        "round_monitor = functools.partial(round_monitor, max_round=3)"
      ]
    },
    {
      "cell_type": "code",
      "execution_count": 17,
      "metadata": {
        "id": "FBA4XLs3Hv0z"
      },
      "outputs": [],
      "source": [
        "from langgraph.graph import StateGraph, START, END\n",
        "\n",
        "graph_builder = StateGraph(State)\n",
        "\n",
        "graph_builder.add_node(\"cot_agent\", cot_agent)\n",
        "graph_builder.add_node(\"affirmative_debator\", affirmative_debator)\n",
        "graph_builder.add_node(\"negative_debator\", negative_debator)\n",
        "graph_builder.add_node(\"judger\", judger)\n",
        "graph_builder.add_node(\"round_monitor\", round_monitor)\n",
        "\n",
        "graph_builder.add_edge(START, \"cot_agent\")\n",
        "graph_builder.add_edge(\"cot_agent\", \"affirmative_debator\")\n",
        "graph_builder.add_edge(\"affirmative_debator\", \"negative_debator\")\n",
        "graph_builder.add_edge(\"negative_debator\", \"round_monitor\")\n",
        "graph_builder.add_edge(\"round_monitor\", \"judger\")\n",
        "graph_builder.add_conditional_edges(\n",
        "    \"judger\",\n",
        "    lambda state: state[\"judged\"],\n",
        "    {True: END, False: \"affirmative_debator\"}\n",
        ")\n",
        "\n",
        "graph = graph_builder.compile()"
      ]
    },
    {
      "cell_type": "code",
      "execution_count": 18,
      "metadata": {
        "colab": {
          "base_uri": "https://localhost:8080/",
          "height": 695
        },
        "id": "OOCyn8e0HvyW",
        "outputId": "6227e80d-46ca-477b-d96f-e295f6546e91"
      },
      "outputs": [
        {
          "data": {
            "image/jpeg": "[encoded data removed]",
            "text/plain": [
              "<IPython.core.display.Image object>"
            ]
          },
          "metadata": {},
          "output_type": "display_data"
        }
      ],
      "source": [
        "from IPython.display import display, Image\n",
        "\n",
        "display(Image(graph.get_graph().draw_mermaid_png()))"
      ]
    },
    {
      "cell_type": "code",
      "execution_count": 22,
      "metadata": {
        "colab": {
          "base_uri": "https://localhost:8080/"
        },
        "id": "dQuwDrrSHvvh",
        "outputId": "53072ae3-b75e-4a2e-ddd4-87c97a8b8cb9"
      },
      "outputs": [
        {
          "name": "stdout",
          "output_type": "stream",
          "text": [
            "================================\u001b[1m Human Message \u001b[0m=================================\n",
            "Name: CoT\n",
            "\n",
            "議題「戦争は必要か？」についてステップバイステップで考えてみます。\n",
            "\n",
            "### ステップ1: 戦争の定義\n",
            "まず、戦争とは何かを明確にする必要があります。戦争は、国家または集団間の武力衝突であり、通常は政治的、経済的、または社会的目的を達成するために行われます。\n",
            "\n",
            "### ステップ2: 戦争の目的\n",
            "戦争はさまざまな目的で行われます。例えば：\n",
            "- 領土拡張\n",
            "- 資源の獲得\n",
            "- 政治的体制の変更\n",
            "- 自衛\n",
            "- 人道的介入\n",
            "\n",
            "これらの目的が正当化されるかどうかを考える必要があります。\n",
            "\n",
            "### ステップ3: 戦争の影響\n",
            "次に、戦争がもたらす影響を考慮します。\n",
            "- **人命の喪失**: 戦争は多くの人々の命を奪います。\n",
            "- **経済的損失**: 戦争は経済に深刻なダメージを与えます。\n",
            "- **社会的混乱**: 戦争はコミュニティを分断し、社会的な不安を引き起こします。\n",
            "- **長期的なトラウマ**: 戦争の影響は世代を超えて残ることがあります。\n",
            "\n",
            "### ステップ4: 戦争の代替手段\n",
            "次に、戦争の代わりに何ができるかを考えます。\n",
            "- **外交**: 交渉や対話を通じて問題を解決する。\n",
            "- **国際機関の活用**: 国連などの国際組織を通じて平和的な解決を目指す。\n",
            "- **経済制裁**: 政治的な圧力をかけるために経済制裁を利用する。\n",
            "\n",
            "### ステップ5: 戦争が必要な場合\n",
            "戦争が必要とされる状況もあります。例えば、自国の防衛や人道的介入が正当化される場合です。しかし、これらのケースでも、戦争が唯一の選択肢であるかどうかを慎重に評価する必要があります。\n",
            "\n",
            "### 結論\n",
            "戦争は極端な手段であり、多くの悲劇をもたらす可能性があります。そのため、戦争が本当に必要かどうかは、その状況によります。基本的には、平和的な解決策を優先すべきですが、自衛や人道的理由でやむを得ない場合もあります。戦争を避けるための努力が常に重要です。\n",
            "================================\u001b[1m Human Message \u001b[0m=================================\n",
            "Name: Affirmative_Debater\n",
            "\n",
            "私たちの議題「戦争は必要か？」において、肯定側の立場から意見を述べます。\n",
            "\n",
            "### 戦争の必要性に関する見解\n",
            "\n",
            "1. **自衛の権利**: 国家や集団が外部からの攻撃に対して自らを守るために武力を行使することは、国際法において認められた自衛の権利です。自衛は、国民の生命や財産を守るために必要な手段として正当化されます。\n",
            "\n",
            "2. **人道的介入**: 一部の状況では、戦争が人道的介入として正当化されることがあります。例えば、ジェノサイドや人権侵害が行われている国に対して、他国が介入し、被害者を救うために軍事行動を取ることは、国際社会の責任と見なされることがあります。\n",
            "\n",
            "3. **国際的な安定の維持**: 特定の地域での戦争が、結果的に長期的な平和や安定をもたらすこともあります。歴史的には、戦争が終結した後に新たな秩序が形成され、その地域が安定を取り戻した例も多数存在します。\n",
            "\n",
            "4. **抑止力**: 戦争の可能性がある場合、強力な軍事力を保持することが他国に対する抑止力となり、戦争を防ぐ効果もあります。自己防衛のための準備が、実際に戦争を回避する手段となることがあるのです。\n",
            "\n",
            "5. **過去の教訓**: 歴史を振り返ると、戦争の結果として新しい価値観や制度が生まれ、社会が進化してきた場面もあります。これにより、戦争が必ずしも無意味ではないことが示されています。\n",
            "\n",
            "### 結論\n",
            "戦争は確かに多くの悲劇をもたらしますが、特定の状況においては必要不可欠である場合があります。自衛や人道的介入、国際的安定の維持など、戦争が正当化される理由は存在します。そのため、戦争を完全に否定するのではなく、その必要性を状況に応じて考慮することが重要です。\n",
            "================================\u001b[1m Human Message \u001b[0m=================================\n",
            "Name: Negative_Debater\n",
            "\n",
            "私の立場は否定側ですので、肯定側の意見に反論し、戦争が必要ではない理由を述べます。\n",
            "\n",
            "### 1. 自衛の権利に関する反論\n",
            "自衛は確かに国際法で認められていますが、戦争が本当に必要な自衛かどうかは慎重に評価すべきです。多くの場合、戦争は誤解や誤った情報に基づいて行われ、結果的に無実の市民が犠牲になります。武力行使の代わりに外交手段を通じて紛争を解決する努力が求められます。\n",
            "\n",
            "### 2. 人道的介入の限界\n",
            "人道的介入が正当化される場合はあるものの、その実施が本当に被害者を救うことに繋がるかは疑問です。歴史的には、人道的介入が新たな紛争を引き起こしたり、状況を悪化させたりする例も多くあります。武力介入は、根本的な問題を解決せず、長期的な安定を損なう可能性があります。\n",
            "\n",
            "### 3. 国際的な安定の維持について\n",
            "戦争が国際的な安定をもたらすという主張は、短期的な結果にすぎません。戦争後の復興には多大な時間と資源が必要であり、戦争による破壊がもたらす長期的な精神的、社会的、経済的影響は計り知れません。平和的な解決策が長期的な安定をもたらす可能性が高いと考えます。\n",
            "\n",
            "### 4. 抑止力の逆効果\n",
            "戦争の準備が抑止力になるという考え方は、一方で軍拡競争を引き起こし、結果的には戦争のリスクを高めることになります。軍事力の強化は、他国に対して敵意を示し、緊張を高める原因となる可能性があります。対話と協力を通じた安全保障の確保がより効果的です。\n",
            "\n",
            "### 5. 過去の教訓に基づく反論\n",
            "確かに、戦争から新たな価値観や制度が生まれることもありますが、これは戦争による多くの悲劇を正当化するものではありません。戦争の結果、失われた命や破壊された社会は取り戻せず、平和的な方法での進化や変革が望ましいと考えます。\n",
            "\n",
            "### 結論\n",
            "戦争は多くの悲劇を引き起こし、社会や人々に長期的な悪影響を及ぼすため、必要とは言えません。外交や国際協力を通じて問題を解決する努力を優先すべきです。戦争は常に最後の手段であり、他の選択肢がある限り、戦争の必要性を論じるべきではないと考えます。\n",
            "================================\u001b[1m Human Message \u001b[0m=================================\n",
            "Name: Affirmative_Debater\n",
            "\n",
            "私の立場は肯定側ですので、否定側の意見に反論し、戦争が必要である理由を強調いたします。\n",
            "\n",
            "### 1. 自衛の権利に関する反論\n",
            "否定側の主張は、戦争が誤解や誤った情報に基づくことがあると指摘していますが、これは戦争の正当性を否定するものではありません。自衛のための戦争は、国家の生存や国民の安全を守るために不可欠です。外交手段が失敗した場合、武力による防衛が唯一の選択肢となることもあります。歴史的に見ても、適切な自衛の行動が国家を守った例は数多く存在します。\n",
            "\n",
            "### 2. 人道的介入の限界\n",
            "人道的介入が新たな紛争を引き起こす可能性があることは理解しますが、これは武力行使そのものを否定する理由にはなりません。人道的介入は、命を救うために行われるものであり、必要な場合には行動を起こす責任があります。介入の結果として状況が改善されることも多々あり、責任ある国家としての行動は重要です。\n",
            "\n",
            "### 3. 国際的な安定の維持について\n",
            "戦争が長期的な影響を与えることは事実ですが、歴史を振り返ると、戦争が新たな秩序を生み出し、結果的に安定をもたらした事例も多く存在します。例えば、第二次世界大戦後のヨーロッパは、戦争の結果として新しい国際秩序が形成され、平和が保たれるようになりました。このように、戦争が新たな安定を生む場合もあります。\n",
            "\n",
            "### 4. 抑止力の逆効果\n",
            "軍事力の強化が敵意を示すという指摘には同意しますが、国家としての防衛能力を高めることは、他国に対する抑止力として機能します。過去の歴史を見ても、適切な軍事力を保持することで戦争を回避できた事例が多くあります。対話と協力は重要ですが、それを支える基盤としての軍事力も同様に必要です。\n",
            "\n",
            "### 5. 過去の教訓に基づく反論\n",
            "否定側が強調するように、戦争には多くの悲劇が伴いますが、それでも戦争が新しい価値観や制度を生むことも無視できません。歴史の中で、戦争を経て社会が進化した事例は多く、進化の過程で得られた教訓は、今後の平和的解決を促進するための基礎となります。\n",
            "\n",
            "### 結論\n",
            "戦争は避けるべき手段であることは間違いありませんが、特定の状況においては必要不可欠な場合があります。自衛や人道的介入、国際的安定の維持など、戦争が正当化される理由は多々存在します。戦争を完全に否定するのではなく、その必要性を状況に応じて考慮し、適切な判断が求められます。\n",
            "================================\u001b[1m Human Message \u001b[0m=================================\n",
            "Name: Negative_Debater\n",
            "\n",
            "私の立場は引き続き否定側ですので、肯定側の意見に反論し続けます。\n",
            "\n",
            "### 1. 自衛の権利に対する反論\n",
            "確かに自衛は重要ですが、戦争が唯一の選択肢であるとは限りません。外交交渉や国際協力によって、紛争を防ぐ手段は数多くあります。歴史的には、戦争が避けられたケースもあり、外交が成功した例が多数存在します。自衛のための戦争が本当に必要かどうかは、決して軽視できない重要な問題です。\n",
            "\n",
            "### 2. 人道的介入の限界について\n",
            "人道的介入が結果的に状況を改善する場合があるという主張は理解しますが、その過程でどれだけの無実の人々が犠牲になるかを考慮する必要があります。武力介入は、しばしば新たな紛争や不安定を生む原因となります。持続可能な解決策は、紛争の根本原因を解消するものでなければなりません。\n",
            "\n",
            "### 3. 国際的な安定の維持の観点から\n",
            "戦争が新たな秩序を生むことがあるのは事実ですが、その代償として多くの命が失われることを忘れてはなりません。戦争によって生まれた「安定」は、しばしば脆弱なものであり、長期的に見ると、戦争の影響が続くことが多いのです。平和的な解決策が持続可能な安定をもたらす可能性が高いと考えます。\n",
            "\n",
            "### 4. 抑止力について\n",
            "抑止力の考え方は重要ですが、その実現手段として戦争を選ぶのは危険です。軍拡競争は国際的緊張を高め、結局は戦争のリスクを増大させることになります。対話と協力がなければ、抑止力は無意味です。歴史的に見ても、武力による抑止が成功したケースは限られています。\n",
            "\n",
            "### 5. 過去の教訓に基づく反論\n",
            "過去の戦争が新しい価値観や制度を生んだとする主張はありますが、それは戦争の悲劇を正当化するものではありません。代わりに、戦争を避け、平和的な方法での進化を模索することが未来にとって重要です。戦争による教訓は、平和的な解決策を模索するための資源として活用すべきです。\n",
            "\n",
            "### 結論\n",
            "戦争は人類に多大な悲劇をもたらし、長期的には社会や人々に深刻な影響を与えます。自衛や人道的理由であっても、戦争が本当に必要であるかは慎重に評価すべきです。外交や国際協力を通じて問題を解決する努力を優先し、戦争の必要性を論じることは避けるべきだと考えます。\n",
            "================================\u001b[1m Human Message \u001b[0m=================================\n",
            "Name: Affirmative_Debater\n",
            "\n",
            "私の立場は引き続き肯定側ですので、否定側の意見に対して反論を行います。\n",
            "\n",
            "### 1. 自衛の権利に対する反論\n",
            "否定側は外交交渉や国際協力による紛争解決の可能性を挙げていますが、現実にはそれが常に成功するとは限りません。特に、敵対的な国や集団が存在する場合、自衛の権利を行使することが不可欠です。外交的努力が失敗した場合、武力による自衛が唯一の選択肢となることもあります。歴史的に見ても、適切な自衛が国家を守るために重要な役割を果たしてきたことは否定できません。\n",
            "\n",
            "### 2. 人道的介入の限界について\n",
            "否定側は人道的介入が新たな紛争を引き起こす可能性を指摘していますが、これは介入を行わない選択肢が正しいことを示すものではありません。人道的介入は、多くの無実の人々を救う手段であり、介入が状況を改善する場合も多いのです。国際社会には、時には苦渋の決断を下す責任があります。人道的な理由からの介入は、国際社会が道徳的に果たすべき役割でもあります。\n",
            "\n",
            "### 3. 国際的な安定の維持の観点から\n",
            "否定側は、戦争によって生まれた「安定」が脆弱であると指摘していますが、歴史には戦争を経て新たな秩序が確立され、結果的に長期的な平和が保たれた事例が存在します。例えば、第二次世界大戦後のヨーロッパは、戦争を経て新しい国際秩序が形成され、平和的な時代を迎えました。このように、戦争が新たな安定をもたらすこともあるのです。\n",
            "\n",
            "### 4. 抑止力について\n",
            "否定側は、軍拡競争が国際的緊張を高めると指摘していますが、適切な軍事力の保持は抑止力として機能し、逆に戦争を防ぐ効果もあります。歴史を見ても、強力な軍事力を持つ国が他国から攻撃を受けにくい事例は多く存在します。対話と協力は重要ですが、それを支えるための軍事力も必要です。\n",
            "\n",
            "### 5. 過去の教訓に基づく反論\n",
            "否定側が過去の戦争が新しい価値観を生むことを否定している点についてですが、歴史から学ぶことは重要です。戦争を通じて得られた教訓や進化の過程は、未来の平和的解決に生かすことができます。戦争を完全に否定するのではなく、その教訓を平和的な解決策の一部として活用することも可能です。\n",
            "\n",
            "### 結論\n",
            "戦争は避けるべき手段であることは間違いありませんが、特定の状況においては必要不可欠な場合があることを強調します。自衛、国際的安定の維持、人道的介入など、戦争が正当化される理由は多々存在します。戦争を完全に否定するのではなく、その必要性を状況に応じて考慮し、適切な判断が求められます。\n",
            "================================\u001b[1m Human Message \u001b[0m=================================\n",
            "Name: Negative_Debater\n",
            "\n",
            "私の立場は否定側ですので、引き続き肯定側の意見に反論いたします。\n",
            "\n",
            "### 1. 自衛の権利に対する反論\n",
            "肯定側は、自衛の権利を強調していますが、戦争が唯一の手段ではありません。歴史を振り返ると、多くの紛争は外交的手段によって解決されています。特に、誤った情報や敵対的な誤解から始まる戦争は数多く、実際には無実の市民が犠牲になります。自衛が本当に必要かどうかを慎重に評価し、戦争に至る前に他の解決策を模索することが重要です。\n",
            "\n",
            "### 2. 人道的介入の限界について\n",
            "人道的介入が道徳的責任であることは理解しますが、その結果として生じる新たな暴力や不安定さがどれほどのものかを無視してはいけません。歴史的に見ても、介入がさらなる紛争を引き起こした事例は多く、人道的介入が本当に効果的かどうかは疑問です。持続可能な解決策は、根本的な問題に取り組むことによってのみ実現されます。\n",
            "\n",
            "### 3. 国際的な安定の維持の観点から\n",
            "肯定側が指摘するように、戦争が新たな秩序を生むこともありますが、その背後には膨大な犠牲が伴います。戦争による安定はしばしば脆弱で、長期的には新たな不安定を招くことが多いのです。歴史的に多くの地域が戦争の後に混乱に陥っており、平和的解決策の方が持続可能な安定をもたらす可能性が高いと考えます。\n",
            "\n",
            "### 4. 抑止力について\n",
            "肯定側が主張するように、軍事力の保持が抑止力になることはありますが、その一方で、軍拡競争を引き起こし、国際的緊張を高めることも事実です。対話や協力がなければ、抑止力はむしろリスクを増大させる可能性があります。歴史的に見ても、真の抑止力は対話と信頼の構築から生まれています。\n",
            "\n",
            "### 5. 過去の教訓に基づく反論\n",
            "肯定側が過去の戦争からの教訓を活用することを提案していますが、戦争の教訓を平和的解決に生かす方法は、戦争を引き起こすのではなく、平和を促進することに注力すべきです。戦争の悲劇を正当化することはできず、未来の平和を築くためには、戦争を避ける努力が重要です。\n",
            "\n",
            "### 結論\n",
            "戦争は多くの悲劇をもたらし、長期的には社会や人々に深刻な影響を与えるため、必要とは言えません。自衛や人道的理由であっても、戦争が本当に必要であるかは慎重に評価すべきです。外交や国際協力を通じて問題を解決する努力を優先し、戦争の必要性を論じることは避けるべきだと考えます。\n",
            "================================\u001b[1m Human Message \u001b[0m=================================\n",
            "Name: Affirmative_Debater\n",
            "\n",
            "私の立場は引き続き肯定側ですので、否定側の意見に対して反論を行います。\n",
            "\n",
            "### 1. 自衛の権利に対する反論\n",
            "否定側は歴史的に外交的手段での解決が可能であった事例を挙げていますが、すべての状況がそうであるとは限りません。特に、攻撃的な意図を持つ国家や集団に対しては、迅速な自衛が求められることがあります。外交が失敗した場合、迅速に行動を起こさなければ、国家や国民が大きな危険にさらされることになります。自衛は権利であり、その行使は時に避けられない選択肢です。\n",
            "\n",
            "### 2. 人道的介入の限界について\n",
            "否定側が指摘するように、介入が新たな暴力を引き起こすことがあるのは事実ですが、それでも人道的介入の意義は大きいです。無視できない人道的危機に対して国際社会が行動を起こさなければ、もっと多くの命が失われる結果を招く可能性があります。過去には、介入によって状況が改善されたケースも多く、無関心でいることは道義的に許されません。\n",
            "\n",
            "### 3. 国際的な安定の維持の観点から\n",
            "否定側は戦争による安定が脆弱であると指摘していますが、歴史には戦争を通じて新しい秩序が確立され、持続的な平和がもたらされた例も存在します。第二次世界大戦後、国際連合や国際法が強化され、長期的な平和が維持される基盤が築かれました。戦争は新しい秩序を生むことがあるため、その可能性を無視することはできません。\n",
            "\n",
            "### 4. 抑止力について\n",
            "否定側が軍拡競争のリスクを指摘するのは理解できますが、適切な軍事力の保持は、他国に対する抑止力として機能し、戦争を防ぐ手段でもあります。実際、強力な防衛力を持つ国は、攻撃を受けにくい傾向があります。抑止力は、単なる軍事力の存在だけでなく、その裏にある国家の意志や外交戦略とも密接に関連しています。\n",
            "\n",
            "### 5. 過去の教訓に基づく反論\n",
            "否定側が過去の教訓を平和的解決に生かすことを提案していますが、実際にその教訓を反映させるためには、戦争が持つ意味を理解し、その教訓を未来の戦争回避に活かす必要があります。過去の戦争が持つ教訓は、単に戦争を否定するだけでなく、必要な場面での正当性を考える材料にもなり得ます。\n",
            "\n",
            "### 結論\n",
            "戦争は避けるべき手段であることは明らかですが、特定の状況においては必要不可欠な場合もあることを強調します。自衛や人道的介入、国際的安定の維持など、戦争が正当化される理由は存在します。戦争を完全に否定するのではなく、その必要性を状況に応じて考慮し、適切な判断が求められます。\n",
            "================================\u001b[1m Human Message \u001b[0m=================================\n",
            "Name: Negative_Debater\n",
            "\n",
            "私の立場は引き続き否定側ですので、肯定側の意見に反論を行います。\n",
            "\n",
            "### 1. 自衛の権利に対する反論\n",
            "肯定側が自衛の権利を強調することは理解できますが、戦争が唯一の選択肢である場合は少なく、他の解決策を模索することが重要です。歴史的には、外交交渉や国際的な圧力が成功した事例が多くあります。攻撃的な国家や集団に対しても、国際社会による結束した対応や制裁が有効な場合があり、戦争に至る前にそのような道を探るべきです。\n",
            "\n",
            "### 2. 人道的介入の限界について\n",
            "人道的介入が持つ意義は認めますが、その結果として生じる新たな暴力や不安定さを軽視するわけにはいきません。介入が一時的に状況を改善することがあっても、長期的には新たな対立を生んだり、民間人のさらなる犠牲を招くことがあります。持続可能な解決策は、武力ではなく、根本的な問題に取り組むことから生まれるべきです。\n",
            "\n",
            "### 3. 国際的な安定の維持の観点から\n",
            "肯定側は歴史的な事例を挙げていますが、戦争による安定は脆弱であり、長期的に持続することは難しいです。第二次世界大戦後の平和が現在も続いているとは限らず、地域によっては未だに緊張関係が続いています。戦争を経て新しい秩序が確立された場合でも、その安定が長続きする保証はありません。平和的解決策の方が持続可能な安定をもたらす可能性が高いと考えます。\n",
            "\n",
            "### 4. 抑止力について\n",
            "軍事力の強化が抑止力として機能することはあるものの、それが必ずしも戦争を防ぐとは限りません。歴史的に見ても、軍拡競争が国際的な緊張を高め、戦争のリスクを増大させた例が多く存在します。真の抑止力は、軍事力だけでなく、対話や信頼の構築によって生まれるのです。\n",
            "\n",
            "### 5. 過去の教訓に基づく反論\n",
            "戦争の教訓を活かすことは重要ですが、戦争を正当化する理由にはなりません。過去の悲劇を繰り返さないためには、戦争を避け、平和的な方法を優先することが求められます。教訓を生かすことは、戦争を回避するための努力として行われるべきです。\n",
            "\n",
            "### 結論\n",
            "戦争は多くの悲劇を引き起こし、長期的には社会や人々に深刻な影響を与えるため、必要とは言えません。自衛や人道的理由においても、戦争が本当に必要であるかは慎重に評価すべきです。外交や国際協力を通じて問題を解決する努力を優先し、戦争の必要性を論じることは避けるべきだと考えます。\n",
            "================================\u001b[1m Human Message \u001b[0m=================================\n",
            "\n",
            "最終ラウンドなので、勝者を決定し、議題に対する結論とその理由を述べてください。\n",
            "================================\u001b[1m Human Message \u001b[0m=================================\n",
            "\n",
            "戦争は多くの悲劇を引き起こし、社会や人々に長期的な悪影響を及ぼすため、基本的には必要ではないと判断します。否定側は、戦争がもたらす悲劇や長期的な影響を強調し、他の解決策（外交や国際協力）を優先することの重要性を訴えました。これに対して肯定側は特定の状況下での戦争の正当性を主張しましたが、否定側が提示したように、戦争はしばしば誤解や不必要な犠牲を伴うため、慎重に評価されるべきです。したがって、否定側が勝者と認められます。\n"
          ]
        }
      ],
      "source": [
        "inputs = {\n",
        "    \"messages\": [],\n",
        "    \"debate_topic\": \"戦争は必要か？\",\n",
        "    \"judged\": False,\n",
        "    \"round\": 0,\n",
        "}\n",
        "\n",
        "for event in graph.stream(inputs):\n",
        "    for value in event.values():\n",
        "        try:\n",
        "            value[\"messages\"][-1].pretty_print()\n",
        "        except:\n",
        "            pass"
      ]
    },
    {
      "cell_type": "markdown",
      "metadata": {
        "id": "GaSUFgy-DlMW"
      },
      "source": [
        "\n",
        "\n",
        "\n",
        "\n",
        "\n",
        "\n",
        "\n",
        "\n",
        "\n",
        "\n",
        "\n",
        "\n",
        "\n",
        "\n",
        "\n",
        "\n",
        "\n",
        "\n",
        "\n",
        "\n",
        "\n",
        "## 4.3.3. 回答を洗練させよう"
      ]
    },
    {
      "cell_type": "code",
      "execution_count": null,
      "metadata": {
        "colab": {
          "base_uri": "https://localhost:8080/"
        },
        "id": "PlIsAPgnDSo-",
        "outputId": "e2ccb2a7-4f38-4203-e7ad-d53883e99490"
      },
      "outputs": [],
      "source": [
        "# !pip install -q langchain-google-genai\n",
        "# !pip install -q langchain-anthropic"
      ]
    },
    {
      "cell_type": "code",
      "execution_count": null,
      "metadata": {
        "colab": {
          "base_uri": "https://localhost:8080/"
        },
        "id": "_DY6aQ7pJbTk",
        "outputId": "bbdf1f95-1d5b-447a-dcb4-11bcb1b5936f"
      },
      "outputs": [],
      "source": [
        "from google.colab import userdata\n",
        "import os\n",
        "\n",
        "# Google API キーの設定\n",
        "os.environ[\"GOOGLE_API_KEY\"] = userdata.get('GOOGLE_API_KEY')\n",
        "\n",
        "# Anthropic API キーの設定\n",
        "os.environ[\"ANTHROPIC_API_KEY\"] = userdata.get('ANTHROPIC_API_KEY')"
      ]
    },
    {
      "cell_type": "code",
      "execution_count": 84,
      "metadata": {
        "id": "OKbA3y37JTmv"
      },
      "outputs": [],
      "source": [
        "from langchain_openai import ChatOpenAI\n",
        "from langchain_anthropic import ChatAnthropic\n",
        "from langchain_google_genai import ChatGoogleGenerativeAI\n",
        "\n",
        "llm_openai = ChatOpenAI(model=\"gpt-4o-mini\")\n",
        "llm_anthropic = ChatAnthropic(model=\"claude-3-5-sonnet-20240620\")\n",
        "llm_google = ChatGoogleGenerativeAI(model=\"gemini-1.5-pro\")"
      ]
    },
    {
      "cell_type": "code",
      "execution_count": 86,
      "metadata": {
        "id": "wdBjWZVXJ4S8"
      },
      "outputs": [],
      "source": [
        "from typing_extensions import TypedDict\n",
        "from typing import Annotated\n",
        "\n",
        "from langgraph.graph.message import add_messages\n",
        "\n",
        "from langchain_core.messages import HumanMessage, AIMessage, SystemMessage\n",
        "\n",
        "\n",
        "class State(TypedDict):\n",
        "    human_message: HumanMessage\n",
        "    messages: Annotated[list, add_messages]\n",
        "    prev_messages: list[AIMessage]\n",
        "    layer_cnt: int"
      ]
    },
    {
      "cell_type": "code",
      "execution_count": 87,
      "metadata": {
        "id": "sq3iVg26J6sc"
      },
      "outputs": [],
      "source": [
        "from functools import partial\n",
        "from typing import Union\n",
        "\n",
        "\n",
        "aggregater_system_message_template = \"\"\"\\\n",
        "最新のユーザーの質問に対して、さまざまなLLMからの回答が提供されています。あなたの任務は、これらの回答を統合して、単一の高品質な回答を作成することです。\n",
        "提供された回答に含まれる情報を批判的に評価し、一部の情報が偏っていたり誤っていたりする可能性があることを認識することが重要です。\n",
        "回答を単に複製するのではなく、正確で包括的な返答を提供してください。\n",
        "回答が良く構造化され、一貫性があり、最高の精度と信頼性の基準を満たすようにしてください。\n",
        "\n",
        "{prev_messages}\"\"\"\n",
        "\n",
        "def agent(state: State, llm: Union[ChatOpenAI, ChatAnthropic, ChatGoogleGenerativeAI], name: str):\n",
        "    input_messages = []\n",
        "    if len(state[\"prev_messages\"]) > 0:\n",
        "        prev_messages = [f\"{i+1}. {message.content}\" for i, message in enumerate(state[\"prev_messages\"])]\n",
        "        prev_messages = \"\\n\".join(prev_messages)\n",
        "\n",
        "        aggregater_system_message = SystemMessage(\n",
        "            aggregater_system_message_template.format(prev_messages=prev_messages),\n",
        "        )\n",
        "\n",
        "        input_messages.append(aggregater_system_message)\n",
        "\n",
        "    input_messages.append(state[\"human_message\"])\n",
        "\n",
        "    message = llm.invoke(input_messages)\n",
        "    message.name = name\n",
        "\n",
        "    return {\"messages\": [message]}\n",
        "\n",
        "agent_openai = partial(agent, llm=llm_openai, name=\"openai\")\n",
        "agent_anthropic = partial(agent, llm=llm_anthropic, name=\"anthropic\")\n",
        "agent_google = partial(agent, llm=llm_google, name=\"google\")"
      ]
    },
    {
      "cell_type": "code",
      "execution_count": 88,
      "metadata": {
        "id": "_Yql6MGSKAIg"
      },
      "outputs": [],
      "source": [
        "def update(state: State, num_agents: int):\n",
        "    return {\n",
        "        \"prev_messages\": state[\"messages\"][-num_agents:],\n",
        "        \"layer_cnt\": state[\"layer_cnt\"] + 1\n",
        "    }"
      ]
    },
    {
      "cell_type": "code",
      "execution_count": 89,
      "metadata": {
        "id": "D2hYclt1KBlC"
      },
      "outputs": [],
      "source": [
        "def router(\n",
        "    state: State,\n",
        "    num_layers: int,\n",
        "    agent_name_list: list[str]\n",
        "):\n",
        "    if state[\"layer_cnt\"] < num_layers:\n",
        "        return agent_name_list\n",
        "    else:\n",
        "        return \"final_agent\""
      ]
    },
    {
      "cell_type": "code",
      "execution_count": 90,
      "metadata": {
        "id": "IFd-9LuQKDCz"
      },
      "outputs": [],
      "source": [
        "from langgraph.graph import StateGraph, START, END\n",
        "\n",
        "num_layers = 3\n",
        "\n",
        "graph_builder = StateGraph(State)\n",
        "\n",
        "agent_dict = {\n",
        "    \"openai\": agent_openai,\n",
        "    \"anthropic\": agent_anthropic,\n",
        "    \"google\": agent_google,\n",
        "}\n",
        "\n",
        "graph_builder.add_node(\n",
        "    \"update\",\n",
        "    partial(update, num_agents=len(agent_dict))\n",
        ")\n",
        "graph_builder.add_node(\"final_agent\", agent_dict[\"openai\"])\n",
        "\n",
        "for agent_name, agent in agent_dict.items():\n",
        "    graph_builder.add_node(agent_name, agent)\n",
        "    graph_builder.add_edge(START, agent_name)\n",
        "    graph_builder.add_edge(agent_name, \"update\")\n",
        "\n",
        "agent_name_list = list(agent_dict.keys())\n",
        "graph_builder.add_conditional_edges(\n",
        "    \"update\",\n",
        "    partial(router, num_layers=num_layers, agent_name_list=agent_name_list),\n",
        "    agent_name_list + [\"final_agent\"]\n",
        ")\n",
        "graph_builder.add_edge(\"final_agent\", END)\n",
        "\n",
        "graph = graph_builder.compile()"
      ]
    },
    {
      "cell_type": "code",
      "execution_count": null,
      "metadata": {
        "colab": {
          "base_uri": "https://localhost:8080/",
          "height": 449
        },
        "id": "LOaI8azYKEcD",
        "outputId": "3966c76a-2804-4cf8-c1bf-807fa391e61d"
      },
      "outputs": [],
      "source": [
        "from IPython.display import display, Image\n",
        "\n",
        "display(Image(graph.get_graph().draw_mermaid_png()))"
      ]
    },
    {
      "cell_type": "code",
      "execution_count": null,
      "metadata": {
        "colab": {
          "base_uri": "https://localhost:8080/"
        },
        "id": "hdYcAMfEKGM2",
        "outputId": "df42b40e-8fa3-4209-cd00-56fa257b150f"
      },
      "outputs": [],
      "source": [
        "human_message = HumanMessage(\"マルチエージェントについて教えて\")\n",
        "\n",
        "state = {\n",
        "    \"human_message\": human_message,\n",
        "    \"messages\": [],\n",
        "    \"prev_messages\": [],\n",
        "    \"layer_cnt\": 1\n",
        "}\n",
        "\n",
        "print(\"#################### Layer 1 ####################\")\n",
        "for event in graph.stream(state):\n",
        "    for value in event.values():\n",
        "        if \"messages\" in value:\n",
        "            value[\"messages\"][-1].pretty_print()\n",
        "        if \"layer_cnt\" in value:\n",
        "            print(f\"\\n\\n#################### Layer {value['layer_cnt']} ####################\")"
      ]
    },
    {
      "cell_type": "code",
      "execution_count": null,
      "metadata": {
        "id": "E1kkzZKjKHhq"
      },
      "outputs": [],
      "source": []
    }
  ],
  "metadata": {
    "colab": {
      "provenance": []
    },
    "kernelspec": {
      "display_name": ".venv",
      "language": "python",
      "name": "python3"
    },
    "language_info": {
      "codemirror_mode": {
        "name": "ipython",
        "version": 3
      },
      "file_extension": ".py",
      "mimetype": "text/x-python",
      "name": "python",
      "nbconvert_exporter": "python",
      "pygments_lexer": "ipython3",
      "version": "3.11.8"
    }
  },
  "nbformat": 4,
  "nbformat_minor": 0
}
