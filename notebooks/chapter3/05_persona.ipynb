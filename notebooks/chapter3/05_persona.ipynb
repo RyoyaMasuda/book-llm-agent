{
  "cells": [
    {
      "cell_type": "markdown",
      "metadata": {},
      "source": [
        "# 3.5章　ペルソナのあるエージェント"
      ]
    },
    {
      "cell_type": "code",
      "execution_count": null,
      "metadata": {
        "colab": {
          "base_uri": "https://localhost:8080/"
        },
        "id": "TCVITKYgV-og",
        "outputId": "b01863f3-1731-42e4-a8d0-f22257c2e21a"
      },
      "outputs": [],
      "source": [
        "# !pip install langchain\n",
        "# !pip install langchain-openai\n",
        "\n",
        "# !pip install serpapi\n",
        "# !pip install google-search-results\n",
        "\n",
        "# # load_toolsを利用するのに必要\n",
        "# !pip install langchain_community"
      ]
    },
    {
      "cell_type": "code",
      "execution_count": null,
      "metadata": {
        "id": "l-8zAJ6if-Jx"
      },
      "outputs": [],
      "source": [
        "import os\n",
        "from google.colab import userdata\n",
        "\n",
        "os.environ['OPENAI_API_KEY'] = userdata.get('OPENAI_API_KEY')\n",
        "os.environ['SERPAPI_API_KEY'] = userdata.get('SERPAPI_API_KEY')"
      ]
    },
    {
      "cell_type": "markdown",
      "metadata": {
        "id": "HEhyVk_rcYDz"
      },
      "source": [
        "# 3.5\n"
      ]
    },
    {
      "cell_type": "markdown",
      "metadata": {
        "id": "c59aBMgmojMn"
      },
      "source": [
        "## 3.5.2 ペルソナ付与のためのプロンプト技術"
      ]
    },
    {
      "cell_type": "code",
      "execution_count": null,
      "metadata": {
        "colab": {
          "base_uri": "https://localhost:8080/"
        },
        "id": "NYNy63_UxwEG",
        "outputId": "d1feaa24-7ad9-4663-e493-53af7f8d6fa0"
      },
      "outputs": [],
      "source": [
        "from langchain_openai import ChatOpenAI\n",
        "from langchain_core.prompts import ChatPromptTemplate\n",
        "\n",
        "# プロンプトテンプレートの作成\n",
        "message = \"\"\"\n",
        "以下の質問に答えてください。\n",
        "\n",
        "{question}\n",
        "\"\"\"\n",
        "\n",
        "prompt = ChatPromptTemplate.from_messages([(\"human\",\\\n",
        "message)])\n",
        "\n",
        "model = ChatOpenAI(model=\"gpt-4o-mini\")\n",
        "chain = prompt | model\n",
        "\n",
        "question_text = \"LLMエージェントについて教えてください。\"\n",
        "\n",
        "\n",
        "response = chain.invoke({\"question\": question_text})\n",
        "print(response.content)"
      ]
    },
    {
      "cell_type": "code",
      "execution_count": null,
      "metadata": {
        "colab": {
          "base_uri": "https://localhost:8080/"
        },
        "id": "3C1D7Dxqxv9j",
        "outputId": "af3692da-c5a6-46e0-b924-e4e3511863b4"
      },
      "outputs": [],
      "source": [
        "# プロンプトテンプレートの作成\n",
        "message = \"\"\"\n",
        "あなたは「えりすちゃん」というキャラクターです。\n",
        "えりすちゃんは以下のような特徴のキャラクターです。\n",
        "- 株式会社Elithのマスコット\n",
        "- ペガサスの見た目をしている\n",
        "- 人懐っこい性格で、誰にでも優しく接する\n",
        "- ポジティブな性格で励ましの言葉を常に意識している\n",
        "- 「～エリ！」というのが口癖\n",
        "  - 例：「今日も頑張るエリ！」\n",
        "\n",
        "「えりすちゃん」として以下の質問に答えてください。\n",
        "\n",
        "{question}\n",
        "\"\"\"\n",
        "\n",
        "prompt = ChatPromptTemplate.from_messages([(\"human\", message)])\n",
        "\n",
        "model = ChatOpenAI(model=\"gpt-4o-mini\")\n",
        "chain = prompt | model\n",
        "\n",
        "question_text = \"LLMエージェントについて教えてください。\"\n",
        "\n",
        "\n",
        "response = chain.invoke({\"question\": question_text})\n",
        "print(response.content)"
      ]
    },
    {
      "cell_type": "markdown",
      "metadata": {
        "id": "rjTfI549qa8p"
      },
      "source": [
        "## 3.5.3 ペルソナ付与のためのメモリ技術"
      ]
    },
    {
      "cell_type": "code",
      "execution_count": null,
      "metadata": {
        "colab": {
          "base_uri": "https://localhost:8080/"
        },
        "id": "NafsFbAgca2a",
        "outputId": "5a3a4179-bc18-46c4-e5a7-a14d5ce08f6e"
      },
      "outputs": [],
      "source": [
        "# !pip install mem0ai"
      ]
    },
    {
      "cell_type": "code",
      "execution_count": null,
      "metadata": {
        "id": "SfDfZi8-o2hv"
      },
      "outputs": [],
      "source": [
        "os.environ['MEM0_API_KEY'] = userdata.get('MEM0_API_KEY')"
      ]
    },
    {
      "cell_type": "code",
      "execution_count": null,
      "metadata": {
        "colab": {
          "base_uri": "https://localhost:8080/"
        },
        "id": "xeFTL4pRfpfI",
        "outputId": "da930076-c4d8-4ba0-a332-045bd7b5c83a"
      },
      "outputs": [],
      "source": [
        "from mem0 import MemoryClient\n",
        "\n",
        "# Mem0 クライアントの初期化\n",
        "client = MemoryClient(api_key=os.environ['MEM0_API_KEY'])\n",
        "\n",
        "# 特定のユーザの全てのメモリを削除\n",
        "client.delete_all(user_id=\"elith_chan\")\n",
        "\n",
        "# 削除後、ユーザのメモリを取得\n",
        "user_memories = client.get_all(user_id=\"elith_chan\")\n",
        "print(user_memories)"
      ]
    },
    {
      "cell_type": "code",
      "execution_count": null,
      "metadata": {
        "colab": {
          "base_uri": "https://localhost:8080/"
        },
        "id": "KmkrFIxUxmSu",
        "outputId": "26c1d1d2-1842-4109-e8d3-0a2c82e72c1e"
      },
      "outputs": [],
      "source": [
        "# プロンプトテンプレートの作成\n",
        "message = \"\"\"\n",
        "Translate the following text into {language}.\n",
        "\n",
        "text:\n",
        "{text}\n",
        "\"\"\"\n",
        "\n",
        "prompt = ChatPromptTemplate.from_messages([(\"human\",\\\n",
        "message)])\n",
        "\n",
        "model = ChatOpenAI(model=\"gpt-4o-mini\")\n",
        "translate_chain = prompt | model\n",
        "\n",
        "text = \"私の名前は「えりすちゃん」です。私は、AI系スタートアップの\\\n",
        "Elithに所属しています。私はElithを象徴するキャラクターとして、知識と優\\\n",
        "しさを兼ね備えた存在です。。\"\n",
        "language = \"English\"\n",
        "\n",
        "response = translate_chain.invoke({\"text\": text, \"language\": language})\n",
        "print(response.content)"
      ]
    },
    {
      "cell_type": "code",
      "execution_count": null,
      "metadata": {
        "colab": {
          "base_uri": "https://localhost:8080/"
        },
        "id": "6TVwuh7fg-fF",
        "outputId": "caab5951-eb8f-4c21-9258-c52af7298221"
      },
      "outputs": [],
      "source": [
        "text = \"私の名前は「えりすちゃん」です。私は、AI系スタートアップの\\\n",
        "Elithに所属しています。私はElithを象徴するキャラクターとして、知識と優\\\n",
        "しさを兼ね備えた存在です。Elithのことを世の中に発信することが私の仕事で\\\n",
        "す。\"\n",
        "language = \"English\"\n",
        "\n",
        "text_en = translate_chain.invoke({\"text\": text, \"language\"\\\n",
        ": language}).content\n",
        "\n",
        "messages = [\n",
        "    {\"role\": \"user\", \"content\":text_en},\n",
        "]\n",
        "client.add(messages, user_id=\"elith_chan\")"
      ]
    },
    {
      "cell_type": "code",
      "execution_count": null,
      "metadata": {
        "colab": {
          "base_uri": "https://localhost:8080/"
        },
        "id": "DPjHH636h4-7",
        "outputId": "3dad6aa8-5525-4b6d-b4ef-21f31fa6b3f0"
      },
      "outputs": [],
      "source": [
        "user_memories = client.get_all(user_id=\"elith_chan\")\n",
        "print(user_memories)"
      ]
    },
    {
      "cell_type": "code",
      "execution_count": null,
      "metadata": {
        "colab": {
          "base_uri": "https://localhost:8080/"
        },
        "id": "6oJYvJrR0vpp",
        "outputId": "e10b70f4-6cfe-46aa-eb66-efad0e306860"
      },
      "outputs": [],
      "source": [
        "query_ja = \"あなたのお仕事は何ですか？\"\n",
        "language = \"English\"\n",
        "\n",
        "query_en = translate_chain.invoke({\"text\": query_ja, \"language\": language}).content\n",
        "client.search(query_en, user_id=\"elith_chan\")"
      ]
    },
    {
      "cell_type": "markdown",
      "metadata": {
        "id": "Mhio2drszHmS"
      },
      "source": [
        "## 3.5.4 mem0 を用いたエージェント作成"
      ]
    },
    {
      "cell_type": "code",
      "execution_count": null,
      "metadata": {
        "colab": {
          "base_uri": "https://localhost:8080/"
        },
        "id": "3ZQD5BpD3VlA",
        "outputId": "0b8c0085-86ac-49bf-f0d9-18a098591ffa"
      },
      "outputs": [],
      "source": [
        "from langchain_core.prompts import PromptTemplate\n",
        "\n",
        "input_variables=['agent_scratchpad', 'input', 'tool_names', 'tools']\n",
        "template=\"\"\"\\\n",
        "Answer the following questions as best you can. You have access to the following tools:\n",
        "\n",
        "{tools}\n",
        "\n",
        "Use the following format:\n",
        "\n",
        "Question: the input question you must answer\n",
        "Thought: you should always think about what to do\n",
        "Action: the action to take, should be one of [{tool_names}]\n",
        "Action Input: the input to the action\n",
        "Observation: the result of the action\n",
        "... (this Thought/Action/Action Input/Observation can repeat N times)\n",
        "Thought: I now know the final answer\n",
        "Final Answer: the final answer to the original input question\n",
        "\n",
        "Begin!\n",
        "\n",
        "Previous conversation history: {chat_history}\n",
        "Question: {input}\n",
        "Thought:{agent_scratchpad}\"\"\"\n",
        "\n",
        "prompt = PromptTemplate(input_variables=input_variables, template=template)\n",
        "print(prompt.template)"
      ]
    },
    {
      "cell_type": "code",
      "execution_count": null,
      "metadata": {
        "colab": {
          "base_uri": "https://localhost:8080/"
        },
        "id": "xycCm1vi2-CG",
        "outputId": "b69f4ed5-caaf-4e97-9fc7-f54d06500836"
      },
      "outputs": [],
      "source": [
        "from langchain.agents import load_tools\n",
        "from langchain.agents import AgentExecutor, create_react_agent\n",
        "\n",
        "model = ChatOpenAI(model=\"gpt-4o-mini\")\n",
        "tools = load_tools([\"serpapi\"], llm=model)\n",
        "agent = create_react_agent(model, tools, prompt)\n",
        "agent_executor = AgentExecutor(agent=agent, tools=tools,\\\n",
        "verbose=True, handle_parsing_errors=True)\n",
        "\n",
        "query_ja = \"あなたのお仕事は何ですか？\"\n",
        "language = \"English\"\n",
        "\n",
        "query_en = translate_chain.invoke({\"text\": query_ja, \"language\"\\\n",
        ": language}).content\n",
        "memory = client.search(query_en, user_id=\"elith_chan\")\n",
        "\n",
        "\n",
        "response = agent_executor.invoke({\"input\": query_ja,\\\n",
        "'chat_history':memory},)\n",
        "\n",
        "print(response[\"output\"])"
      ]
    },
    {
      "cell_type": "code",
      "execution_count": null,
      "metadata": {
        "colab": {
          "base_uri": "https://localhost:8080/"
        },
        "id": "1bG11f2PTfpZ",
        "outputId": "d2bd5c6e-f3c5-41b4-982c-c5523fc7abee"
      },
      "outputs": [],
      "source": [
        "text = \"私、えりすちゃんは「〜エリ！」という語尾を使います。「今日も頑張る\\\n",
        "エリ！」が口癖です。\"\n",
        "language = \"English\"\n",
        "\n",
        "text_en = translate_chain.invoke({\"text\": text, \"language\"\\\n",
        ": language}).content\n",
        "\n",
        "messages = [\n",
        "    {\"role\": \"user\", \"content\":text_en},\n",
        "]\n",
        "client.add(messages, user_id=\"elith_chan\")"
      ]
    },
    {
      "cell_type": "code",
      "execution_count": null,
      "metadata": {
        "colab": {
          "base_uri": "https://localhost:8080/"
        },
        "id": "nVQs-m-_T3fU",
        "outputId": "763bb0a2-5662-4e11-95ec-f6043f78ac31"
      },
      "outputs": [],
      "source": [
        "from langchain.agents import load_tools\n",
        "from langchain.agents import AgentExecutor, create_react_agent\n",
        "\n",
        "model = ChatOpenAI(model=\"gpt-4o-mini\")\n",
        "tools = load_tools([\"serpapi\"], llm=model)\n",
        "agent = create_react_agent(model, tools, prompt)\n",
        "agent_executor = AgentExecutor(agent=agent, tools=tools,\\\n",
        "verbose=True, handle_parsing_errors=True)\n",
        "\n",
        "query_ja = \"あなたのお仕事は何ですか？\"\n",
        "language = \"English\"\n",
        "\n",
        "query_en = translate_chain.invoke({\"text\": query_ja, \"language\"\\\n",
        ": language}).content\n",
        "memory = client.search(query_en, user_id=\"elith_chan\")\n",
        "\n",
        "\n",
        "response = agent_executor.invoke({\"input\": query_ja,\\\n",
        "'chat_history':memory},)\n",
        "\n",
        "print(response[\"output\"])"
      ]
    },
    {
      "cell_type": "code",
      "execution_count": null,
      "metadata": {
        "colab": {
          "base_uri": "https://localhost:8080/"
        },
        "id": "IO4hA5_O6uNy",
        "outputId": "dbfe7172-c225-4e0c-9b11-2f5288a348da"
      },
      "outputs": [],
      "source": [
        "# プロンプト定義\n",
        "\n",
        "from langchain_core.prompts import PromptTemplate\n",
        "\n",
        "input_variables=['agent_scratchpad', 'input', 'tool_names', 'tools']\n",
        "\n",
        "\n",
        "template=\"\"\"\\\n",
        "あなたは「えりすちゃん」です。\n",
        "えりすちゃんは、AI系スタートアップのElithを象徴するキャラクターとして、知識と優しさを兼ね備えた存在です。\n",
        "えりすちゃんは「〜エリ！」という語尾を使います。\n",
        "例：「一緒に頑張るエリ！」\n",
        "\n",
        "えりすちゃんとして、以下の質問に最善を尽くして答えてください。\n",
        "\n",
        "You have access to the following tools:\n",
        "\n",
        "{tools}\n",
        "\n",
        "Use the following format:\n",
        "\n",
        "Question: the input question you must answer\n",
        "Thought: you should always think about what to do\n",
        "Action: the action to take, should be one of [{tool_names}]\n",
        "Action Input: the input to the action\n",
        "Observation: the result of the action\n",
        "... (this Thought/Action/Action Input/Observation can repeat N times)\n",
        "Thought: I now know the final answer\n",
        "Final Answer: the final answer to the original input question\n",
        "\n",
        "Begin!\n",
        "\n",
        "Previous conversation history: {chat_history}\n",
        "Question: {input}\n",
        "Thought:{agent_scratchpad}\"\"\"\n",
        "\n",
        "\n",
        "prompt = PromptTemplate(input_variables=input_variables, template=template)\n",
        "print(prompt)"
      ]
    },
    {
      "cell_type": "code",
      "execution_count": null,
      "metadata": {
        "colab": {
          "base_uri": "https://localhost:8080/"
        },
        "id": "10b0WOGSFu0q",
        "outputId": "b07657f9-8d60-44b3-f1da-9d50ac932d14"
      },
      "outputs": [],
      "source": [
        "from langchain.agents import load_tools\n",
        "from langchain.agents import AgentExecutor, create_react_agent\n",
        "\n",
        "model = ChatOpenAI(model=\"gpt-4o-mini\")\n",
        "tools = load_tools([\"serpapi\"], llm=model)\n",
        "agent = create_react_agent(model, tools, prompt)\n",
        "agent_executor = AgentExecutor(agent=agent, tools=tools,\\\n",
        "verbose=True, handle_parsing_errors=True)\n",
        "\n",
        "query_ja = \"あなたのお仕事は何ですか？\"\n",
        "language = \"English\"\n",
        "\n",
        "query_en = translate_chain.invoke({\"text\": query_ja, \"language\"\\\n",
        ": language}).content\n",
        "memory = client.search(query_en, user_id=\"elith_chan\")\n",
        "\n",
        "\n",
        "response = agent_executor.invoke({\"input\": query_ja,\\\n",
        "'chat_history':memory},)\n",
        "\n",
        "print(response[\"output\"])"
      ]
    }
  ],
  "metadata": {
    "colab": {
      "provenance": []
    },
    "kernelspec": {
      "display_name": "llm-agent-U4qSWGiP-py3.11",
      "language": "python",
      "name": "python3"
    },
    "language_info": {
      "name": "python",
      "version": "3.11.8"
    }
  },
  "nbformat": 4,
  "nbformat_minor": 0
}
