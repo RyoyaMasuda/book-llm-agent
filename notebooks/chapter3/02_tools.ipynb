{
  "cells": [
    {
      "cell_type": "markdown",
      "metadata": {
        "id": "IekT2f3zZXSq"
      },
      "source": [
        "# 3.2章　LLM にツールを与える"
      ]
    },
    {
      "cell_type": "code",
      "execution_count": null,
      "metadata": {
        "colab": {
          "base_uri": "https://localhost:8080/"
        },
        "id": "akxteNI1JM7i",
        "outputId": "85ff2ec1-6b33-4538-84d9-3b5b6716067d"
      },
      "outputs": [],
      "source": [
        "!pip install langchain\n",
        "!pip install langchain-openai"
      ]
    },
    {
      "cell_type": "code",
      "execution_count": null,
      "metadata": {
        "id": "oWpcctbXuU6u"
      },
      "outputs": [],
      "source": [
        "import os\n",
        "from google.colab import userdata\n",
        "\n",
        "os.environ['OPENAI_API_KEY'] = userdata.get('OPENAI_API_KEY')\n",
        "os.environ['SERPAPI_API_KEY'] = userdata.get('SERPAPI_\\\n",
        "API_KEY')"
      ]
    },
    {
      "cell_type": "markdown",
      "metadata": {
        "id": "WPvPr1gGZ4_S"
      },
      "source": [
        "## 3.2.1 検索ツール"
      ]
    },
    {
      "cell_type": "code",
      "execution_count": null,
      "metadata": {
        "colab": {
          "base_uri": "https://localhost:8080/"
        },
        "id": "TSDvWNv7TMPO",
        "outputId": "0368e9ff-779a-4bdc-d4a7-e5134ac33a36"
      },
      "outputs": [],
      "source": [
        "from langchain_openai import ChatOpenAI\n",
        "from langchain.schema import HumanMessage\n",
        "\n",
        "question = \"株式会社Elithの住所を教えてください。最新の公式情報として\\\n",
        "公開されているものを教えてください。\"\n",
        "\n",
        "model = ChatOpenAI(model=\"gpt-4o-mini\")\n",
        "result = model.invoke([HumanMessage(content=question)])\n",
        "\n",
        "print(result.content)"
      ]
    },
    {
      "cell_type": "code",
      "execution_count": null,
      "metadata": {
        "colab": {
          "base_uri": "https://localhost:8080/"
        },
        "id": "fiwKwICdU3jz",
        "outputId": "15ba7bc6-9ae8-4ccf-912c-c48b69653be6"
      },
      "outputs": [],
      "source": [
        "!pip install serpapi\n",
        "!pip install google-search-results"
      ]
    },
    {
      "cell_type": "code",
      "execution_count": null,
      "metadata": {
        "colab": {
          "base_uri": "https://localhost:8080/"
        },
        "id": "vrTTNmINeDQr",
        "outputId": "2ec28ca2-77de-451d-9742-ebb35eb3ee4c"
      },
      "outputs": [],
      "source": [
        "# load_toolsを利用するのに必要\n",
        "!pip install langchain_community"
      ]
    },
    {
      "cell_type": "code",
      "execution_count": null,
      "metadata": {
        "colab": {
          "base_uri": "https://localhost:8080/"
        },
        "id": "8ORWNe8lTTCv",
        "outputId": "d75185df-51da-4569-c57e-a985d634fc0f"
      },
      "outputs": [],
      "source": [
        "from langchain.agents import load_tools\n",
        "\n",
        "model = ChatOpenAI(model=\"gpt-4o-mini\")\n",
        "\n",
        "#1 ツールをロード\n",
        "tools = load_tools([\"serpapi\"], llm=model)\n",
        "\n",
        "#2 LLMにツールを紐付け\n",
        "model_with_tools = model.bind_tools(tools)\n",
        "\n",
        "question = \"株式会社Elithの住所を教えてください。最新の公式情報として\\\n",
        "公開されているものを教えてください。\"\n",
        "\n",
        "response = model_with_tools.invoke([HumanMessage(content=\\\n",
        "question)])\n",
        "\n",
        "print(f\"ContentString: {response.content}\")\n",
        "print(f\"ToolCalls: {response.tool_calls}\")"
      ]
    },
    {
      "cell_type": "code",
      "execution_count": null,
      "metadata": {
        "colab": {
          "base_uri": "https://localhost:8080/",
          "height": 164
        },
        "id": "IAjdBqnATfW8",
        "outputId": "df5c0005-d40b-4152-e7e3-8baca3b4bdb2"
      },
      "outputs": [],
      "source": [
        "tools = load_tools([\"serpapi\"], llm=model)\n",
        "search_tool = tools[0]\n",
        "search_tool.invoke(response.tool_calls[0][\"args\"])"
      ]
    },
    {
      "cell_type": "markdown",
      "metadata": {
        "id": "WmTQGidwaYfc"
      },
      "source": [
        "## 3.2.2 プログラム実行ツール"
      ]
    },
    {
      "cell_type": "code",
      "execution_count": null,
      "metadata": {
        "colab": {
          "base_uri": "https://localhost:8080/"
        },
        "id": "K9K0NYnokt4i",
        "outputId": "261aca54-9af3-40bf-d2f6-55dc1949eb63"
      },
      "outputs": [],
      "source": [
        "question = \"以下をPythonで実行した場合の結果を教えてください。print\\\n",
        "(1873648+9285928+3759182+2398597)\"\n",
        "\n",
        "model = ChatOpenAI(model=\"gpt-4o-mini\")\n",
        "result = model.invoke([HumanMessage(content=question)])\n",
        "\n",
        "print(result.content)"
      ]
    },
    {
      "cell_type": "code",
      "execution_count": null,
      "metadata": {
        "colab": {
          "base_uri": "https://localhost:8080/"
        },
        "id": "yPHB1WtUlPrn",
        "outputId": "f9f08b99-dde2-42aa-8d3e-d5994185e6ea"
      },
      "outputs": [],
      "source": [
        "print(1873648+9285928+3759182+2398597)"
      ]
    },
    {
      "cell_type": "code",
      "execution_count": null,
      "metadata": {
        "colab": {
          "base_uri": "https://localhost:8080/"
        },
        "id": "NW0KKgK7jncx",
        "outputId": "1068c13d-013c-4323-a200-8f2ec059b0b2"
      },
      "outputs": [],
      "source": [
        "!pip install langchain_experimental"
      ]
    },
    {
      "cell_type": "code",
      "execution_count": null,
      "metadata": {
        "colab": {
          "base_uri": "https://localhost:8080/"
        },
        "id": "e91GFj4mjddI",
        "outputId": "31233bb4-cb6d-46fb-f32d-bccfa70683ae"
      },
      "outputs": [],
      "source": [
        "from langchain_experimental.tools.python.tool import\\\n",
        "PythonREPLTool\n",
        "\n",
        "model = ChatOpenAI(model=\"gpt-4o-mini\")\n",
        "tools = [PythonREPLTool()]\n",
        "model_with_tools = model.bind_tools(tools)\n",
        "\n",
        "question = \"以下をPythonで実行した場合の結果を教えてください。print\\\n",
        "(1873648+9285928+3759182+2398597)\"\n",
        "\n",
        "response = model_with_tools.invoke([HumanMessage(content=\\\n",
        "question)])\n",
        "\n",
        "print(f\"ContentString: {response.content}\")\n",
        "print(f\"ToolCalls: {response.tool_calls}\")"
      ]
    },
    {
      "cell_type": "code",
      "execution_count": null,
      "metadata": {
        "colab": {
          "base_uri": "https://localhost:8080/",
          "height": 54
        },
        "id": "uW2zoV4QkiIa",
        "outputId": "9caf695d-1e7b-4206-eb55-dcb6e2598d54"
      },
      "outputs": [],
      "source": [
        "pythonrepltool = PythonREPLTool()\n",
        "pythonrepltool.invoke(response.tool_calls[0][\"args\"])"
      ]
    },
    {
      "cell_type": "markdown",
      "metadata": {
        "id": "V5x-zrmobPS6"
      },
      "source": [
        "## 3.2.3 ツールを自作する"
      ]
    },
    {
      "cell_type": "code",
      "execution_count": null,
      "metadata": {
        "colab": {
          "base_uri": "https://localhost:8080/",
          "height": 35
        },
        "id": "Jf1QurbrbcSk",
        "outputId": "aa581735-03f3-4b4f-b6e0-7e09d0b1808c"
      },
      "outputs": [],
      "source": [
        "# おみくじ関数\n",
        "\n",
        "import random\n",
        "from datetime import datetime\n",
        "\n",
        "def get_fortune(date_string):\n",
        "    # 日付文字列を解析\n",
        "    try:\n",
        "        date = datetime.strptime(date_string, \"%m月%d日\")\n",
        "    except ValueError:\n",
        "        return \"無効な日付形式です。'X月X日'の形式で入力してくださ\\\n",
        "い。\"\n",
        "\n",
        "    # 運勢のリスト\n",
        "    fortunes = [\n",
        "        \"大吉\", \"中吉\", \"小吉\", \"吉\", \"末吉\", \"凶\", \"大凶\"\n",
        "    ]\n",
        "\n",
        "    # 運勢の重み付け（大吉と大凶の確率を低くする）\n",
        "    weights = [1, 3, 3, 4, 3, 2, 1]\n",
        "\n",
        "    # 日付に基づいてシードを設定（同じ日付なら同じ運勢を返す）\n",
        "    random.seed(date.month * 100 + date.day)\n",
        "\n",
        "    # 運勢をランダムに選択\n",
        "    fortune = random.choices(fortunes, weights=weights)[0]\n",
        "\n",
        "    return f\"{date_string}の運勢は【{fortune}】です。\"\n",
        "\n",
        "# 出力例\n",
        "get_fortune(\"10月22日\")"
      ]
    },
    {
      "cell_type": "code",
      "execution_count": null,
      "metadata": {
        "id": "D3G7mUfOdUVO"
      },
      "outputs": [],
      "source": [
        "from langchain.tools import BaseTool\n",
        "\n",
        "#1 ツールの定義\n",
        "class Get_fortune(BaseTool):\n",
        "    name: str = 'Get_fortune'\n",
        "    description: str = (\n",
        "        \"特定の日付の運勢を占う。インプットは  'date_string'です。\\\n",
        "'date_string' は、占いを行う日付で、mm月dd日 という形式です。「1月1日」\\\n",
        "のように入力し、「'1月1日'」のように余計な文字列を付けてはいけません。\"\n",
        "    )\n",
        "\n",
        "    def _run(self, date_string) -> str:\n",
        "        return get_fortune(date_string)\n",
        "\n",
        "\n",
        "    async def _arun(self, query: str) -> str:\n",
        "        raise NotImplementedError(\"does not support async\")"
      ]
    },
    {
      "cell_type": "code",
      "execution_count": null,
      "metadata": {
        "colab": {
          "base_uri": "https://localhost:8080/"
        },
        "id": "E-wz2idMd96E",
        "outputId": "721b7a70-6961-4438-b8eb-08aaebafdc9d"
      },
      "outputs": [],
      "source": [
        "tools = [Get_fortune()]\n",
        "\n",
        "model = ChatOpenAI(model=\"gpt-4o-mini\")\n",
        "model_with_tools = model.bind_tools(tools)\n",
        "\n",
        "question = \"10月22日の運勢を教えてください。\"\n",
        "\n",
        "response = model_with_tools.invoke([HumanMessage(content=\\\n",
        "question)])\n",
        "\n",
        "print(f\"ContentString: {response.content}\")\n",
        "print(f\"ToolCalls: {response.tool_calls}\")"
      ]
    },
    {
      "cell_type": "code",
      "execution_count": null,
      "metadata": {
        "colab": {
          "base_uri": "https://localhost:8080/"
        },
        "id": "q4f_qEFOee51",
        "outputId": "e320f18b-4690-4546-89ed-92781036b900"
      },
      "outputs": [],
      "source": [
        "tool = Get_fortune()\n",
        "tool.invoke(response.tool_calls[0])"
      ]
    },
    {
      "cell_type": "code",
      "execution_count": null,
      "metadata": {
        "colab": {
          "base_uri": "https://localhost:8080/"
        },
        "id": "ci5RimKbwLak",
        "outputId": "35efab9d-a3de-473a-91fe-6ae9b7f60997"
      },
      "outputs": [],
      "source": [
        "tools = [Get_fortune()]\n",
        "\n",
        "model = ChatOpenAI(model=\"gpt-4o-mini\")\n",
        "model_with_tools = model.bind_tools(tools)\n",
        "\n",
        "question = \"今日の運勢を教えてください。\"\n",
        "\n",
        "response = model_with_tools.invoke([HumanMessage(content=\\\n",
        "question)])\n",
        "\n",
        "print(f\"ContentString: {response.content}\")\n",
        "print(f\"ToolCalls: {response.tool_calls}\")"
      ]
    },
    {
      "cell_type": "code",
      "execution_count": null,
      "metadata": {
        "colab": {
          "base_uri": "https://localhost:8080/"
        },
        "id": "xRF1G72iedPF",
        "outputId": "4e30eb86-978b-4869-ce88-0ed17611936b"
      },
      "outputs": [],
      "source": [
        "from datetime import timedelta\n",
        "from zoneinfo import ZoneInfo\n",
        "\n",
        "# 日付取得関数\n",
        "\n",
        "def get_date(date):\n",
        "    date_now = datetime.now(ZoneInfo(\"Asia/Tokyo\"))\n",
        "    if (\"今日\" in date):\n",
        "        date_delta = 0\n",
        "    elif (\"明日\" in date):\n",
        "        date_delta = 1\n",
        "    elif (\"明後日\" in date):\n",
        "        date_delta = 2\n",
        "    else:\n",
        "        return \"サポートしていません\"\n",
        "    return (date_now + timedelta(days=date_delta)).strftime\\\n",
        "('%m月%d日')\n",
        "\n",
        "# 出力例\n",
        "print(get_date(\"今日\"))"
      ]
    },
    {
      "cell_type": "code",
      "execution_count": null,
      "metadata": {
        "id": "h0iQgMS8eLih"
      },
      "outputs": [],
      "source": [
        "class Get_date(BaseTool):\n",
        "    name: str = 'Get_date'\n",
        "    description: str = (\n",
        "        \"今日の日付を取得する。インプットは 'date'です。'date' は、日\\\n",
        "付を取得する対象の日で、'今日', '明日', '明後日' という3種類の文字列\\\n",
        "から指定します。「今日」のように入力し、「'今日'」のように余計な文字列を付\\\n",
        "けてはいけません。\"\n",
        "    )\n",
        "\n",
        "    def _run(self, date) -> str:\n",
        "        return get_date(date)\n",
        "\n",
        "    async def _arun(self, query: str) -> str:\n",
        "        raise NotImplementedError(\"does not support async\")"
      ]
    },
    {
      "cell_type": "code",
      "execution_count": null,
      "metadata": {
        "colab": {
          "base_uri": "https://localhost:8080/"
        },
        "id": "rJ_rseXRfyu9",
        "outputId": "5176665b-f645-4b8e-bb50-8c6ab1847925"
      },
      "outputs": [],
      "source": [
        "tools = [Get_date()]\n",
        "\n",
        "model = ChatOpenAI(model=\"gpt-4o-mini\")\n",
        "model_with_tools = model.bind_tools(tools)\n",
        "\n",
        "question = \"今日の日付を教えてください。。\"\n",
        "\n",
        "response = model_with_tools.invoke([HumanMessage(content=\\\n",
        "question)])\n",
        "\n",
        "print(f\"ContentString: {response.content}\")\n",
        "print(f\"ToolCalls: {response.tool_calls}\")"
      ]
    },
    {
      "cell_type": "code",
      "execution_count": null,
      "metadata": {
        "colab": {
          "base_uri": "https://localhost:8080/"
        },
        "id": "DD5MmTjOf77F",
        "outputId": "35f8115e-b2aa-4219-df7c-68e938a63019"
      },
      "outputs": [],
      "source": [
        "tool = Get_date()\n",
        "tool.invoke(response.tool_calls[0])"
      ]
    },
    {
      "cell_type": "code",
      "execution_count": null,
      "metadata": {
        "colab": {
          "base_uri": "https://localhost:8080/"
        },
        "id": "Bj46Qgv5rBP0",
        "outputId": "2c568f9f-f393-4301-da93-b4ab85ca5a9c"
      },
      "outputs": [],
      "source": [
        "tools = [Get_fortune(), Get_date()]\n",
        "\n",
        "model = ChatOpenAI(model=\"gpt-4o-mini\")\n",
        "model_with_tools = model.bind_tools(tools)\n",
        "\n",
        "question = \"今日の運勢を教えてください。。\"\n",
        "\n",
        "response = model_with_tools.invoke([HumanMessage(content=question)])\n",
        "\n",
        "print(f\"ContentString: {response.content}\")\n",
        "print(f\"ToolCalls: {response.tool_calls}\")"
      ]
    },
    {
      "cell_type": "markdown",
      "metadata": {
        "id": "x3rfQs0rfHx8"
      },
      "source": [
        "## appendix"
      ]
    },
    {
      "cell_type": "code",
      "execution_count": null,
      "metadata": {
        "colab": {
          "base_uri": "https://localhost:8080/"
        },
        "id": "eMJ7jxZ3fGcI",
        "outputId": "1661b771-83d2-4580-f833-f3e9929595d3"
      },
      "outputs": [],
      "source": [
        "# ツール定義（別パターン）\n",
        "\n",
        "from langchain_core.tools import Tool\n",
        "\n",
        "get_date_tool = Tool(\n",
        "    name=\"Get_date\",\n",
        "    description =\"今日の日付を取得する。インプットは 'date'です。'date' は、日付を取得する対象の日で、'今日', '明日', '明後日' という3種類の文字列から指定します。今日の日付を知りたい際は'今日'を入力します\",\n",
        "    func=get_date\n",
        ")\n",
        "get_fortune_tool = Tool(\n",
        "    name=\"Get_fortune\",\n",
        "    description = \"特定の日付の運勢を占う。インプットは  'date_string'です。'date_string' は、占いを行う日付で、mm月dd日 という形式です。1月1日の占いを行う際は'1月1日'を入力します\",\n",
        "    func=get_fortune\n",
        ")\n",
        "\n",
        "# 出力例\n",
        "print(get_date_tool.invoke(\"今日\"))\n",
        "print(get_fortune_tool.invoke(\"10月23日\"))"
      ]
    }
  ],
  "metadata": {
    "colab": {
      "provenance": []
    },
    "kernelspec": {
      "display_name": "Python 3",
      "name": "python3"
    },
    "language_info": {
      "name": "python"
    }
  },
  "nbformat": 4,
  "nbformat_minor": 0
}
