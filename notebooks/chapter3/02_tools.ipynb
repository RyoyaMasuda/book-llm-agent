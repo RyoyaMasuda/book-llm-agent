{
  "nbformat": 4,
  "nbformat_minor": 0,
  "metadata": {
    "colab": {
      "provenance": []
    },
    "kernelspec": {
      "name": "python3",
      "display_name": "Python 3"
    },
    "language_info": {
      "name": "python"
    }
  },
  "cells": [
    {
      "cell_type": "markdown",
      "source": [
        "# 3.2章　ツールを利用する"
      ],
      "metadata": {
        "id": "IekT2f3zZXSq"
      }
    },
    {
      "cell_type": "code",
      "source": [
        "!pip install langchain\n",
        "!pip install langchain-openai"
      ],
      "metadata": {
        "id": "akxteNI1JM7i"
      },
      "execution_count": null,
      "outputs": []
    },
    {
      "cell_type": "code",
      "source": [
        "import os\n",
        "from google.colab import userdata\n",
        "os.environ['OPENAI_API_KEY'] = userdata.get('OPENAI_API_KEY')\n",
        "os.environ['SERPAPI_API_KEY'] = userdata.get('SERPAPI_API_KEY')"
      ],
      "metadata": {
        "id": "AZwOvtUQL39U"
      },
      "execution_count": null,
      "outputs": []
    },
    {
      "cell_type": "markdown",
      "source": [
        "# 3.2章"
      ],
      "metadata": {
        "id": "yG7S87oyr9wq"
      }
    },
    {
      "cell_type": "markdown",
      "source": [
        "## 3.2.1 検索ツール"
      ],
      "metadata": {
        "id": "WPvPr1gGZ4_S"
      }
    },
    {
      "cell_type": "code",
      "source": [
        "# 普通に質問\n",
        "\n",
        "from langchain_openai import ChatOpenAI\n",
        "from langchain.schema import HumanMessage\n",
        "\n",
        "question = \"株式会社Elithの住所を教えてください。最新の公式情報として公開されているものを教えてください。\"\n",
        "\n",
        "model = ChatOpenAI(model=\"gpt-4o-mini\")\n",
        "result = model.invoke([HumanMessage(content=question)])\n",
        "\n",
        "print(result.content)"
      ],
      "metadata": {
        "id": "TSDvWNv7TMPO"
      },
      "execution_count": null,
      "outputs": []
    },
    {
      "cell_type": "code",
      "source": [
        "!pip install serpapi\n",
        "!pip install google-search-results"
      ],
      "metadata": {
        "id": "fiwKwICdU3jz"
      },
      "execution_count": null,
      "outputs": []
    },
    {
      "cell_type": "code",
      "source": [
        "# load_toolsを利用するのに必要\n",
        "!pip install langchain_community"
      ],
      "metadata": {
        "id": "vrTTNmINeDQr"
      },
      "execution_count": null,
      "outputs": []
    },
    {
      "cell_type": "code",
      "source": [
        "# ツールを与える\n",
        "\n",
        "from langchain.agents import load_tools\n",
        "\n",
        "model = ChatOpenAI(model=\"gpt-4o-mini\")\n",
        "tools = load_tools([\"serpapi\"], llm=model)\n",
        "model_with_tools = model.bind_tools(tools)\n",
        "\n",
        "question = \"株式会社Elithの住所を教えてください。最新の公式情報として公開されているものを教えてください。\"\n",
        "\n",
        "response = model_with_tools.invoke([HumanMessage(content=question)])\n",
        "\n",
        "print(f\"ContentString: {response.content}\")\n",
        "print(f\"ToolCalls: {response.tool_calls}\")"
      ],
      "metadata": {
        "id": "8ORWNe8lTTCv"
      },
      "execution_count": null,
      "outputs": []
    },
    {
      "cell_type": "code",
      "source": [
        "# ツールを使ってみる\n",
        "\n",
        "tools = load_tools([\"serpapi\"], llm=model)\n",
        "search_tool = tools[0]\n",
        "search_tool.invoke(response.tool_calls[0][\"args\"][\"args\"][0])"
      ],
      "metadata": {
        "id": "IAjdBqnATfW8"
      },
      "execution_count": null,
      "outputs": []
    },
    {
      "cell_type": "markdown",
      "source": [
        "## 3.2.2 コード実行ツール"
      ],
      "metadata": {
        "id": "WmTQGidwaYfc"
      }
    },
    {
      "cell_type": "code",
      "source": [
        "# 普通に質問\n",
        "\n",
        "from langchain_openai import ChatOpenAI\n",
        "from langchain.schema import HumanMessage\n",
        "\n",
        "question = \"以下をPythonで実行した場合の結果を教えてください。print(1873648+9285928+3759182+2398597)\"\n",
        "\n",
        "model = ChatOpenAI(model=\"gpt-4o-mini\")\n",
        "result = model.invoke([HumanMessage(content=question)])\n",
        "\n",
        "print(result.content)"
      ],
      "metadata": {
        "id": "K9K0NYnokt4i"
      },
      "execution_count": null,
      "outputs": []
    },
    {
      "cell_type": "code",
      "source": [
        "# 正しい出力\n",
        "print(1873648+9285928+3759182+2398597)"
      ],
      "metadata": {
        "id": "yPHB1WtUlPrn"
      },
      "execution_count": null,
      "outputs": []
    },
    {
      "cell_type": "code",
      "source": [
        "!pip install langchain_experimental"
      ],
      "metadata": {
        "id": "NW0KKgK7jncx"
      },
      "execution_count": null,
      "outputs": []
    },
    {
      "cell_type": "code",
      "source": [
        "# ツールを与える\n",
        "\n",
        "from langchain_experimental.tools.python.tool import PythonREPLTool\n",
        "\n",
        "model = ChatOpenAI(model=\"gpt-4o-mini\")\n",
        "tools = [PythonREPLTool()]\n",
        "model_with_tools = model.bind_tools(tools)\n",
        "\n",
        "question = \"以下をPythonで実行した場合の結果を教えてください。print(1873648+9285928+3759182+2398597)\"\n",
        "\n",
        "response = model_with_tools.invoke([HumanMessage(content=question)])\n",
        "\n",
        "print(f\"ContentString: {response.content}\")\n",
        "print(f\"ToolCalls: {response.tool_calls}\")"
      ],
      "metadata": {
        "id": "e91GFj4mjddI"
      },
      "execution_count": null,
      "outputs": []
    },
    {
      "cell_type": "code",
      "source": [
        "# ツールを使ってみる\n",
        "\n",
        "pythonrepltool = PythonREPLTool()\n",
        "pythonrepltool.invoke(response.tool_calls[0][\"args\"])"
      ],
      "metadata": {
        "id": "uW2zoV4QkiIa"
      },
      "execution_count": null,
      "outputs": []
    },
    {
      "cell_type": "markdown",
      "source": [
        "## 3.2.3 ツールを自作する"
      ],
      "metadata": {
        "id": "V5x-zrmobPS6"
      }
    },
    {
      "cell_type": "code",
      "source": [
        "# おみくじ関数\n",
        "\n",
        "import random\n",
        "from datetime import datetime\n",
        "\n",
        "def get_fortune(date_string):\n",
        "    # 日付文字列を解析\n",
        "    try:\n",
        "        date = datetime.strptime(date_string, \"%m月%d日\")\n",
        "    except ValueError:\n",
        "        return \"無効な日付形式です。'X月X日'の形式で入力してください。\"\n",
        "\n",
        "    # 運勢のリスト\n",
        "    fortunes = [\n",
        "        \"大吉\", \"中吉\", \"小吉\", \"吉\", \"末吉\", \"凶\", \"大凶\"\n",
        "    ]\n",
        "\n",
        "    # 運勢の重み付け（大吉と大凶の確率を低くする）\n",
        "    weights = [1, 3, 3, 4, 3, 2, 1]\n",
        "\n",
        "    # 日付に基づいてシードを設定（同じ日付なら同じ運勢を返す）\n",
        "    random.seed(date.month * 100 + date.day)\n",
        "\n",
        "    # 運勢をランダムに選択\n",
        "    fortune = random.choices(fortunes, weights=weights)[0]\n",
        "\n",
        "    return f\"{date_string}の運勢は【{fortune}】です。\"\n",
        "\n",
        "# 出力例\n",
        "get_fortune(\"8月11日\")"
      ],
      "metadata": {
        "id": "Jf1QurbrbcSk"
      },
      "execution_count": null,
      "outputs": []
    },
    {
      "cell_type": "code",
      "source": [
        "# ツール作成\n",
        "\n",
        "from langchain.tools import BaseTool\n",
        "\n",
        "class Get_fortune(BaseTool):\n",
        "    name = 'Get_fortune'\n",
        "    description = (\n",
        "        \"特定の日付の運勢を占う。インプットは  'date_string'です。'date_string' は、占いを行う日付で、mm月dd日 という形式です。「1月1日」のように入力し、「'1月1日'」のように余計な文字列を付けてはいけません。\"\n",
        "    )\n",
        "\n",
        "    def _run(self, date_string) -> str:\n",
        "        return get_fortune(date_string)\n",
        "\n",
        "\n",
        "    async def _arun(self, query: str) -> str:\n",
        "        raise NotImplementedError(\"does not support async\")"
      ],
      "metadata": {
        "id": "D3G7mUfOdUVO"
      },
      "execution_count": null,
      "outputs": []
    },
    {
      "cell_type": "code",
      "source": [
        "# ツールを与える\n",
        "\n",
        "from langchain_core.tools import Tool\n",
        "\n",
        "model = ChatOpenAI(model=\"gpt-4o-mini\")\n",
        "\n",
        "tools = [Get_fortune()]\n",
        "\n",
        "model = ChatOpenAI(model=\"gpt-4o-mini\")\n",
        "model_with_tools = model.bind_tools(tools)\n",
        "\n",
        "question = \"8月11日の運勢を教えてください。\"\n",
        "\n",
        "response = model_with_tools.invoke([HumanMessage(content=question)])\n",
        "\n",
        "print(f\"ContentString: {response.content}\")\n",
        "print(f\"ToolCalls: {response.tool_calls}\")"
      ],
      "metadata": {
        "id": "E-wz2idMd96E"
      },
      "execution_count": null,
      "outputs": []
    },
    {
      "cell_type": "code",
      "source": [
        "# ツールを使ってみる\n",
        "tool = Get_fortune()\n",
        "tool.invoke(response.tool_calls[0])"
      ],
      "metadata": {
        "id": "q4f_qEFOee51"
      },
      "execution_count": null,
      "outputs": []
    },
    {
      "cell_type": "code",
      "source": [
        "# 日付取得関数\n",
        "\n",
        "from datetime import timedelta\n",
        "from zoneinfo import ZoneInfo\n",
        "\n",
        "\n",
        "def get_date(date):\n",
        "    date_now = datetime.now(ZoneInfo(\"Asia/Tokyo\"))\n",
        "    if (\"今日\" in date):\n",
        "        return date_now.strftime('%m月%d日')\n",
        "    elif (\"明日\" in date):\n",
        "        return (date_now + datetime.timedelta(days=1)).strftime('%m月%d日')\n",
        "    elif (\"明後日\" in date):\n",
        "        return (date_now + datetime.timedelta(days=2)).strftime('%m月%d日')\n",
        "    else:\n",
        "        return \"サポートしていません\"\n",
        "\n",
        "# 出力例\n",
        "print(get_date(\"今日\"))"
      ],
      "metadata": {
        "id": "xRF1G72iedPF"
      },
      "execution_count": null,
      "outputs": []
    },
    {
      "cell_type": "code",
      "source": [
        "# ツール作成\n",
        "\n",
        "from langchain.tools import BaseTool\n",
        "\n",
        "class Get_date(BaseTool):\n",
        "    name = 'Get_date'\n",
        "    description = (\n",
        "        \"今日の日付を取得する。インプットは 'date'です。'date' は、日付を取得する対象の日で、'今日', '明日', '明後日' という3種類の文字列から指定します。「今日」のように入力し、「'今日'」のように余計な文字列を付けてはいけません。\"\n",
        "    )\n",
        "\n",
        "    def _run(self, date) -> str:\n",
        "        return get_date(date)\n",
        "\n",
        "    async def _arun(self, query: str) -> str:\n",
        "        raise NotImplementedError(\"does not support async\")"
      ],
      "metadata": {
        "id": "h0iQgMS8eLih"
      },
      "execution_count": null,
      "outputs": []
    },
    {
      "cell_type": "code",
      "source": [
        "# ツールを与える\n",
        "\n",
        "from langchain_core.tools import Tool\n",
        "\n",
        "model = ChatOpenAI(model=\"gpt-4o-mini\")\n",
        "\n",
        "tools = [Get_date()]\n",
        "\n",
        "model = ChatOpenAI(model=\"gpt-4o-mini\")\n",
        "model_with_tools = model.bind_tools(tools)\n",
        "\n",
        "question = \"今日の日付を教えてください。。\"\n",
        "\n",
        "response = model_with_tools.invoke([HumanMessage(content=question)])\n",
        "\n",
        "print(f\"ContentString: {response.content}\")\n",
        "print(f\"ToolCalls: {response.tool_calls}\")"
      ],
      "metadata": {
        "id": "rJ_rseXRfyu9"
      },
      "execution_count": null,
      "outputs": []
    },
    {
      "cell_type": "code",
      "source": [
        "# ツールを使ってみる\n",
        "\n",
        "tool = Get_date()\n",
        "tool.invoke(response.tool_calls[0])"
      ],
      "metadata": {
        "id": "DD5MmTjOf77F"
      },
      "execution_count": null,
      "outputs": []
    },
    {
      "cell_type": "markdown",
      "source": [
        "## appendix"
      ],
      "metadata": {
        "id": "x3rfQs0rfHx8"
      }
    },
    {
      "cell_type": "code",
      "source": [
        "# ツール定義（別パターン）\n",
        "\n",
        "get_date_tool = Tool(\n",
        "    name=\"Get_date\",\n",
        "    description =\"今日の日付を取得する。インプットは 'date'です。'date' は、日付を取得する対象の日で、'今日', '明日', '明後日' という3種類の文字列から指定します。今日の日付を知りたい際は'今日'を入力します\",\n",
        "    func=get_date\n",
        ")\n",
        "get_fortune_tool = Tool(\n",
        "    name=\"Get_fortune\",\n",
        "    description = \"特定の日付の運勢を占う。インプットは  'date_string'です。'date_string' は、占いを行う日付で、mm月dd日 という形式です。1月1日の占いを行う際は'1月1日'を入力します\",\n",
        "    func=get_fortune\n",
        ")\n",
        "\n",
        "# 出力例\n",
        "print(get_date_tool.invoke(\"今日\"))\n",
        "print(get_fortune_tool.invoke(\"8月13日\"))"
      ],
      "metadata": {
        "id": "eMJ7jxZ3fGcI"
      },
      "execution_count": null,
      "outputs": []
    }
  ]
}