{
  "cells": [
    {
      "cell_type": "markdown",
      "metadata": {},
      "source": [
        "# 3.3章　複雑なフローをこなすエージェント"
      ]
    },
    {
      "cell_type": "code",
      "execution_count": null,
      "metadata": {
        "colab": {
          "base_uri": "https://localhost:8080/"
        },
        "id": "akxteNI1JM7i",
        "outputId": "d42491d3-6e2d-49a9-b8aa-2103b0040e43"
      },
      "outputs": [],
      "source": [
        "!pip install langchain\n",
        "!pip install langchain-openai\n",
        "\n",
        "!pip install serpapi\n",
        "!pip install google-search-results\n",
        "\n",
        "# load_toolsを利用するのに必要\n",
        "!pip install langchain_community"
      ]
    },
    {
      "cell_type": "code",
      "execution_count": null,
      "metadata": {
        "id": "AZwOvtUQL39U"
      },
      "outputs": [],
      "source": [
        "import os\n",
        "# from google.colab import userdata\n",
        "from dotenv import load_dotenv\n",
        "load_dotenv(\"/home/rmasuda/book-llm-agent/.env\")\n",
        "\n",
        "os.environ['OPENAI_API_KEY'] = os.getenv('OPENAI_API_KEY')\n",
        "os.environ['SERPAPI_API_KEY'] = os.getenv('SERPAPI_API_KEY')"
      ]
    },
    {
      "cell_type": "markdown",
      "metadata": {
        "id": "tfLJfsb7kXFI"
      },
      "source": [
        "# 3.3章"
      ]
    },
    {
      "cell_type": "code",
      "execution_count": null,
      "metadata": {
        "colab": {
          "base_uri": "https://localhost:8080/"
        },
        "id": "LBS07Mq2BC-l",
        "outputId": "b5316ff0-3cde-4dea-fa47-9541c4a142ee"
      },
      "outputs": [],
      "source": [
        "!pip install langchainhub"
      ]
    },
    {
      "cell_type": "code",
      "execution_count": null,
      "metadata": {
        "colab": {
          "base_uri": "https://localhost:8080/"
        },
        "id": "5qk8cVRpA-pS",
        "outputId": "ede2cfd1-f438-499f-c93e-28aa0e5fe60d"
      },
      "outputs": [],
      "source": [
        "from langchain import hub\n",
        "\n",
        "prompt = hub.pull(\"hwchase17/react\")\n",
        "\n",
        "print(prompt.template)"
      ]
    },
    {
      "cell_type": "code",
      "execution_count": null,
      "metadata": {
        "id": "wBsk5cY6fvnu"
      },
      "outputs": [],
      "source": [
        "# おみくじツール定義（再掲）\n",
        "\n",
        "# おみくじ関数\n",
        "\n",
        "import random\n",
        "from datetime import datetime\n",
        "\n",
        "def get_fortune(date_string):\n",
        "    # 日付文字列を解析\n",
        "    try:\n",
        "        date = datetime.strptime(date_string, \"%m月%d日\")\n",
        "    except ValueError:\n",
        "        return \"無効な日付形式です。'X月X日'の形式で入力してくださ\\\n",
        "い。\"\n",
        "\n",
        "    # 運勢のリスト\n",
        "    fortunes = [\n",
        "        \"大吉\", \"中吉\", \"小吉\", \"吉\", \"末吉\", \"凶\", \"大凶\"\n",
        "    ]\n",
        "\n",
        "    # 運勢の重み付け（大吉と大凶の確率を低くする）\n",
        "    weights = [1, 3, 3, 4, 3, 2, 1]\n",
        "\n",
        "    # 日付に基づいてシードを設定（同じ日付なら同じ運勢を返す）\n",
        "    random.seed(date.month * 100 + date.day)\n",
        "\n",
        "    # 運勢をランダムに選択\n",
        "    fortune = random.choices(fortunes, weights=weights)[0]\n",
        "\n",
        "    return f\"{date_string}の運勢は【{fortune}】です。\"\n",
        "\n",
        "# ツール作成\n",
        "\n",
        "from langchain.tools import BaseTool\n",
        "\n",
        "class Get_fortune(BaseTool):\n",
        "    name: str = 'Get_fortune'\n",
        "    description: str = (\n",
        "        \"特定の日付の運勢を占う。インプットは  'date_string'です。\\\n",
        "'date_string' は、占いを行う日付で、mm月dd日 という形式です。「1月1日」\\\n",
        "のように入力し、「'1月1日'」のように余計な文字列を付けてはいけません。\"\n",
        "    )\n",
        "\n",
        "    def _run(self, date_string) -> str:\n",
        "        return get_fortune(date_string)\n",
        "\n",
        "\n",
        "    async def _arun(self, query: str) -> str:\n",
        "        raise NotImplementedError(\"does not support async\")"
      ]
    },
    {
      "cell_type": "code",
      "execution_count": null,
      "metadata": {
        "id": "eAhTEA4Yf8iM"
      },
      "outputs": [],
      "source": [
        "# 日付ツール定義（再掲）\n",
        "\n",
        "# 日付取得関数\n",
        "\n",
        "from datetime import timedelta\n",
        "from zoneinfo import ZoneInfo\n",
        "\n",
        "\n",
        "def get_date(date):\n",
        "    date_now = datetime.now(ZoneInfo(\"Asia/Tokyo\"))\n",
        "    if (\"今日\" in date):\n",
        "        date_delta = 0\n",
        "    elif (\"明日\" in date):\n",
        "        date_delta = 1\n",
        "    elif (\"明後日\" in date):\n",
        "        date_delta = 2\n",
        "    else:\n",
        "        return \"サポートしていません\"\n",
        "    return (date_now + timedelta(days=date_delta)).strftime\\\n",
        "('%m月%d日')\n",
        "\n",
        "class Get_date(BaseTool):\n",
        "    name: str = 'Get_date'\n",
        "    description: str = (\n",
        "        \"今日の日付を取得する。インプットは 'date'です。'date' は、日\\\n",
        "付を取得する対象の日で、'今日', '明日', '明後日' という3種類の文字列\\\n",
        "から指定します。「今日」のように入力し、「'今日'」のように余計な文字列を付\\\n",
        "けてはいけません。\"\n",
        "    )\n",
        "\n",
        "    def _run(self, date) -> str:\n",
        "        return get_date(date)\n",
        "\n",
        "    async def _arun(self, query: str) -> str:\n",
        "        raise NotImplementedError(\"does not support async\")"
      ]
    },
    {
      "cell_type": "code",
      "execution_count": null,
      "metadata": {
        "colab": {
          "base_uri": "https://localhost:8080/"
        },
        "id": "VX3VtomhAoHG",
        "outputId": "cc8bf29b-b6aa-4a15-b2e8-3044c5c465d1"
      },
      "outputs": [],
      "source": [
        "# エージェントの作成\n",
        "\n",
        "from langchain_openai import ChatOpenAI\n",
        "from langchain.schema import HumanMessage\n",
        "from langchain.agents import AgentExecutor, create_react_agent\n",
        "\n",
        "model = ChatOpenAI(model=\"gpt-4o-mini\")\n",
        "\n",
        "tools = [Get_date(), Get_fortune()]\n",
        "\n",
        "#1 エージェントの作成\n",
        "agent = create_react_agent(model, tools, prompt)\n",
        "\n",
        "#2 エージェントの実行準備\n",
        "agent_executor = AgentExecutor(agent=agent, tools=tools, verbose=True)\n",
        "\n",
        "\n",
        "response = agent_executor.invoke({\"input\": [HumanMessage\\\n",
        "(content=\"今日の運勢を教えてください。\")]})\n",
        "\n",
        "print(response)"
      ]
    },
    {
      "cell_type": "code",
      "execution_count": null,
      "metadata": {
        "colab": {
          "base_uri": "https://localhost:8080/"
        },
        "id": "KspH82xVKS_g",
        "outputId": "ed2ec95f-b73f-47a9-e7c1-a62e33dd6e75"
      },
      "outputs": [],
      "source": [
        "# 検索できるエージェント作成\n",
        "\n",
        "from langchain.agents import load_tools\n",
        "\n",
        "model = ChatOpenAI(model=\"gpt-4o-mini\")\n",
        "tools = load_tools([\"serpapi\"], llm=model)\n",
        "agent = create_react_agent(model, tools, prompt)\n",
        "agent_executor = AgentExecutor(agent=agent, tools=tools, verbose=True)\n",
        "\n",
        "\n",
        "response = agent_executor.invoke({\"input\": [HumanMessage\\\n",
        " (content=\"株式会社Elithの住所を教えてください。最新の公式情報として公\\\n",
        " 開されているものを教えてください。\")]})\n",
        "\n",
        "print(response)"
      ]
    }
  ],
  "metadata": {
    "colab": {
      "provenance": []
    },
    "kernelspec": {
      "display_name": "llm-agent-U4qSWGiP-py3.11",
      "language": "python",
      "name": "python3"
    },
    "language_info": {
      "name": "python",
      "version": "3.11.8"
    }
  },
  "nbformat": 4,
  "nbformat_minor": 0
}
