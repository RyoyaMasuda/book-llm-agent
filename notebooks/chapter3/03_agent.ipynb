{
  "nbformat": 4,
  "nbformat_minor": 0,
  "metadata": {
    "colab": {
      "provenance": []
    },
    "kernelspec": {
      "name": "python3",
      "display_name": "Python 3"
    },
    "language_info": {
      "name": "python"
    }
  },
  "cells": [
    {
      "cell_type": "code",
      "source": [
        "!pip install langchain\n",
        "!pip install langchain-openai\n",
        "\n",
        "!pip install serpapi\n",
        "!pip install google-search-results\n",
        "# load_toolsを利用するのに必要\n",
        "!pip install langchain_community"
      ],
      "metadata": {
        "id": "akxteNI1JM7i"
      },
      "execution_count": null,
      "outputs": []
    },
    {
      "cell_type": "code",
      "source": [
        "import os\n",
        "from google.colab import userdata\n",
        "os.environ['OPENAI_API_KEY'] = userdata.get('OPENAI_API_KEY')\n",
        "os.environ['SERPAPI_API_KEY'] = userdata.get('SERPAPI_API_KEY')"
      ],
      "metadata": {
        "id": "AZwOvtUQL39U"
      },
      "execution_count": null,
      "outputs": []
    },
    {
      "cell_type": "markdown",
      "source": [
        "# 3.3章"
      ],
      "metadata": {
        "id": "tfLJfsb7kXFI"
      }
    },
    {
      "cell_type": "code",
      "source": [
        "!pip install langchainhub"
      ],
      "metadata": {
        "id": "LBS07Mq2BC-l"
      },
      "execution_count": null,
      "outputs": []
    },
    {
      "cell_type": "code",
      "source": [
        "# プロンプトの取得\n",
        "from langchain import hub\n",
        "\n",
        "prompt = hub.pull(\"hwchase17/react\")\n",
        "\n",
        "print(prompt)"
      ],
      "metadata": {
        "id": "5qk8cVRpA-pS"
      },
      "execution_count": null,
      "outputs": []
    },
    {
      "cell_type": "code",
      "source": [
        "# おみくじツール定義（再掲）\n",
        "\n",
        "# おみくじ関数\n",
        "\n",
        "import random\n",
        "from datetime import datetime\n",
        "\n",
        "def get_fortune(date_string):\n",
        "    # 日付文字列を解析\n",
        "    try:\n",
        "        date = datetime.strptime(date_string, \"%m月%d日\")\n",
        "    except ValueError:\n",
        "        return \"無効な日付形式です。'X月X日'の形式で入力してください。\"\n",
        "\n",
        "    # 運勢のリスト\n",
        "    fortunes = [\n",
        "        \"大吉\", \"中吉\", \"小吉\", \"吉\", \"末吉\", \"凶\", \"大凶\"\n",
        "    ]\n",
        "\n",
        "    # 運勢の重み付け（大吉と大凶の確率を低くする）\n",
        "    weights = [1, 3, 3, 4, 3, 2, 1]\n",
        "\n",
        "    # 日付に基づいてシードを設定（同じ日付なら同じ運勢を返す）\n",
        "    random.seed(date.month * 100 + date.day)\n",
        "\n",
        "    # 運勢をランダムに選択\n",
        "    fortune = random.choices(fortunes, weights=weights)[0]\n",
        "\n",
        "    return f\"{date_string}の運勢は【{fortune}】です。\"\n",
        "\n",
        "# ツール作成\n",
        "\n",
        "from langchain.tools import BaseTool\n",
        "\n",
        "class Get_fortune(BaseTool):\n",
        "    name = 'Get_fortune'\n",
        "    description = (\n",
        "        \"特定の日付の運勢を占う。インプットは  'date_string'です。'date_string' は、占いを行う日付で、mm月dd日 という形式です。「1月1日」のように入力し、「'1月1日'」のように余計な文字列を付けてはいけません。\"\n",
        "    )\n",
        "\n",
        "    def _run(self, date_string) -> str:\n",
        "        return get_fortune(date_string)\n",
        "\n",
        "\n",
        "    async def _arun(self, query: str) -> str:\n",
        "        raise NotImplementedError(\"does not support async\")"
      ],
      "metadata": {
        "id": "wBsk5cY6fvnu"
      },
      "execution_count": null,
      "outputs": []
    },
    {
      "cell_type": "code",
      "source": [
        "# 日付ツール定義（再掲）\n",
        "\n",
        "# 日付取得関数\n",
        "\n",
        "from datetime import timedelta\n",
        "from zoneinfo import ZoneInfo\n",
        "\n",
        "\n",
        "def get_date(date):\n",
        "    date_now = datetime.now(ZoneInfo(\"Asia/Tokyo\"))\n",
        "    if (\"今日\" in date):\n",
        "        return date_now.strftime('%m月%d日')\n",
        "    elif (\"明日\" in date):\n",
        "        return (date_now + datetime.timedelta(days=1)).strftime('%m月%d日')\n",
        "    elif (\"明後日\" in date):\n",
        "        return (date_now + datetime.timedelta(days=2)).strftime('%m月%d日')\n",
        "    else:\n",
        "        return \"サポートしていません\"\n",
        "\n",
        "class Get_date(BaseTool):\n",
        "    name = 'Get_date'\n",
        "    description = (\n",
        "        \"今日の日付を取得する。インプットは 'date'です。'date' は、日付を取得する対象の日で、'今日', '明日', '明後日' という3種類の文字列から指定します。「今日」のように入力し、「'今日'」のように余計な文字列を付けてはいけません。\"\n",
        "    )\n",
        "\n",
        "    def _run(self, date) -> str:\n",
        "        return get_date(date)\n",
        "\n",
        "    async def _arun(self, query: str) -> str:\n",
        "        raise NotImplementedError(\"does not support async\")"
      ],
      "metadata": {
        "id": "eAhTEA4Yf8iM"
      },
      "execution_count": null,
      "outputs": []
    },
    {
      "cell_type": "code",
      "source": [
        "# エージェントの作成\n",
        "\n",
        "from langchain_openai import ChatOpenAI\n",
        "from langchain.schema import HumanMessage\n",
        "from langchain.agents import AgentExecutor, create_react_agent\n",
        "\n",
        "model = ChatOpenAI(model=\"gpt-4o-mini\")\n",
        "\n",
        "tools = [Get_date(), Get_fortune()]\n",
        "agent = create_react_agent(model, tools, prompt)\n",
        "agent_executor = AgentExecutor(agent=agent, tools=tools, verbose=True)\n",
        "\n",
        "\n",
        "response = agent_executor.invoke({\"input\": [HumanMessage(content=\"今日の運勢を教えてください。\")]})\n",
        "\n",
        "print(response)"
      ],
      "metadata": {
        "id": "VX3VtomhAoHG"
      },
      "execution_count": null,
      "outputs": []
    },
    {
      "cell_type": "code",
      "source": [
        "# 検索できるエージェント作成\n",
        "\n",
        "from langchain.agents import AgentExecutor, create_react_agent, load_tools\n",
        "\n",
        "model = ChatOpenAI(model=\"gpt-4o-mini\")\n",
        "tools = load_tools([\"serpapi\"], llm=model)\n",
        "agent = create_react_agent(model, tools, prompt)\n",
        "agent_executor = AgentExecutor(agent=agent, tools=tools, verbose=True)\n",
        "\n",
        "\n",
        "response = agent_executor.invoke({\"input\": [HumanMessage(content=\"株式会社Elithの住所を教えてください。最新の公式情報として公開されているものを教えてください。\")]})\n",
        "\n",
        "print(response)"
      ],
      "metadata": {
        "id": "KspH82xVKS_g"
      },
      "execution_count": null,
      "outputs": []
    }
  ]
}