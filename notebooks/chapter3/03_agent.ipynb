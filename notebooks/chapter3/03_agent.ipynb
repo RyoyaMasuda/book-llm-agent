{
  "cells": [
    {
      "cell_type": "markdown",
      "metadata": {},
      "source": [
        "# 3.3章　複雑なフローをこなすエージェント"
      ]
    },
    {
      "cell_type": "code",
      "execution_count": 2,
      "metadata": {
        "colab": {
          "base_uri": "https://localhost:8080/"
        },
        "id": "akxteNI1JM7i",
        "outputId": "d42491d3-6e2d-49a9-b8aa-2103b0040e43"
      },
      "outputs": [],
      "source": [
        "# !pip install langchain\n",
        "# !pip install langchain-openai\n",
        "\n",
        "# !pip install serpapi\n",
        "# !pip install google-search-results\n",
        "\n",
        "# # load_toolsを利用するのに必要\n",
        "# !pip install langchain_community"
      ]
    },
    {
      "cell_type": "code",
      "execution_count": 3,
      "metadata": {
        "id": "AZwOvtUQL39U"
      },
      "outputs": [],
      "source": [
        "import os\n",
        "# from google.colab import userdata\n",
        "from dotenv import load_dotenv\n",
        "load_dotenv(\"/home/rmasuda/book-llm-agent/.env\")\n",
        "\n",
        "os.environ['OPENAI_API_KEY'] = os.getenv('OPENAI_API_KEY')\n",
        "os.environ['SERPAPI_API_KEY'] = os.getenv('SERPAPI_API_KEY')"
      ]
    },
    {
      "cell_type": "markdown",
      "metadata": {
        "id": "tfLJfsb7kXFI"
      },
      "source": [
        "# 3.3章"
      ]
    },
    {
      "cell_type": "code",
      "execution_count": 4,
      "metadata": {
        "colab": {
          "base_uri": "https://localhost:8080/"
        },
        "id": "LBS07Mq2BC-l",
        "outputId": "b5316ff0-3cde-4dea-fa47-9541c4a142ee"
      },
      "outputs": [],
      "source": [
        "# !pip install langchainhub"
      ]
    },
    {
      "cell_type": "code",
      "execution_count": 5,
      "metadata": {
        "colab": {
          "base_uri": "https://localhost:8080/"
        },
        "id": "5qk8cVRpA-pS",
        "outputId": "ede2cfd1-f438-499f-c93e-28aa0e5fe60d"
      },
      "outputs": [
        {
          "name": "stderr",
          "output_type": "stream",
          "text": [
            "/home/rmasuda/.cache/pypoetry/virtualenvs/llm-agent-U4qSWGiP-py3.11/lib/python3.11/site-packages/langsmith/client.py:241: LangSmithMissingAPIKeyWarning: API key must be provided when using hosted LangSmith API\n",
            "  warnings.warn(\n"
          ]
        },
        {
          "name": "stdout",
          "output_type": "stream",
          "text": [
            "Answer the following questions as best you can. You have access to the following tools:\n",
            "\n",
            "{tools}\n",
            "\n",
            "Use the following format:\n",
            "\n",
            "Question: the input question you must answer\n",
            "Thought: you should always think about what to do\n",
            "Action: the action to take, should be one of [{tool_names}]\n",
            "Action Input: the input to the action\n",
            "Observation: the result of the action\n",
            "... (this Thought/Action/Action Input/Observation can repeat N times)\n",
            "Thought: I now know the final answer\n",
            "Final Answer: the final answer to the original input question\n",
            "\n",
            "Begin!\n",
            "\n",
            "Question: {input}\n",
            "Thought:{agent_scratchpad}\n"
          ]
        }
      ],
      "source": [
        "from langchain import hub\n",
        "\n",
        "prompt = hub.pull(\"hwchase17/react\")\n",
        "\n",
        "print(prompt.template)"
      ]
    },
    {
      "cell_type": "code",
      "execution_count": 6,
      "metadata": {
        "id": "wBsk5cY6fvnu"
      },
      "outputs": [],
      "source": [
        "# おみくじツール定義（再掲）\n",
        "\n",
        "# おみくじ関数\n",
        "\n",
        "import random\n",
        "from datetime import datetime\n",
        "\n",
        "def get_fortune(date_string):\n",
        "    # 日付文字列を解析\n",
        "    try:\n",
        "        date = datetime.strptime(date_string, \"%m月%d日\")\n",
        "    except ValueError:\n",
        "        return \"無効な日付形式です。'X月X日'の形式で入力してくださ\\\n",
        "い。\"\n",
        "\n",
        "    # 運勢のリスト\n",
        "    fortunes = [\n",
        "        \"大吉\", \"中吉\", \"小吉\", \"吉\", \"末吉\", \"凶\", \"大凶\"\n",
        "    ]\n",
        "\n",
        "    # 運勢の重み付け（大吉と大凶の確率を低くする）\n",
        "    weights = [1, 3, 3, 4, 3, 2, 1]\n",
        "\n",
        "    # 日付に基づいてシードを設定（同じ日付なら同じ運勢を返す）\n",
        "    random.seed(date.month * 100 + date.day)\n",
        "\n",
        "    # 運勢をランダムに選択\n",
        "    fortune = random.choices(fortunes, weights=weights)[0]\n",
        "\n",
        "    return f\"{date_string}の運勢は【{fortune}】です。\"\n",
        "\n",
        "# ツール作成\n",
        "\n",
        "from langchain.tools import BaseTool\n",
        "\n",
        "class Get_fortune(BaseTool):\n",
        "    name: str = 'Get_fortune'\n",
        "    description: str = (\n",
        "        \"特定の日付の運勢を占う。インプットは  'date_string'です。\\\n",
        "'date_string' は、占いを行う日付で、mm月dd日 という形式です。「1月1日」\\\n",
        "のように入力し、「'1月1日'」のように余計な文字列を付けてはいけません。\"\n",
        "    )\n",
        "\n",
        "    def _run(self, date_string) -> str:\n",
        "        return get_fortune(date_string)\n",
        "\n",
        "\n",
        "    async def _arun(self, query: str) -> str:\n",
        "        raise NotImplementedError(\"does not support async\")"
      ]
    },
    {
      "cell_type": "code",
      "execution_count": 7,
      "metadata": {
        "id": "eAhTEA4Yf8iM"
      },
      "outputs": [],
      "source": [
        "# 日付ツール定義（再掲）\n",
        "\n",
        "# 日付取得関数\n",
        "\n",
        "from datetime import timedelta\n",
        "from zoneinfo import ZoneInfo\n",
        "\n",
        "\n",
        "def get_date(date):\n",
        "    date_now = datetime.now(ZoneInfo(\"Asia/Tokyo\"))\n",
        "    if (\"今日\" in date):\n",
        "        date_delta = 0\n",
        "    elif (\"明日\" in date):\n",
        "        date_delta = 1\n",
        "    elif (\"明後日\" in date):\n",
        "        date_delta = 2\n",
        "    else:\n",
        "        return \"サポートしていません\"\n",
        "    return (date_now + timedelta(days=date_delta)).strftime\\\n",
        "('%m月%d日')\n",
        "\n",
        "class Get_date(BaseTool):\n",
        "    name: str = 'Get_date'\n",
        "    description: str = (\n",
        "        \"今日の日付を取得する。インプットは 'date'です。'date' は、日\\\n",
        "付を取得する対象の日で、'今日', '明日', '明後日' という3種類の文字列\\\n",
        "から指定します。「今日」のように入力し、「'今日'」のように余計な文字列を付\\\n",
        "けてはいけません。\"\n",
        "    )\n",
        "\n",
        "    def _run(self, date) -> str:\n",
        "        return get_date(date)\n",
        "\n",
        "    async def _arun(self, query: str) -> str:\n",
        "        raise NotImplementedError(\"does not support async\")"
      ]
    },
    {
      "cell_type": "code",
      "execution_count": 8,
      "metadata": {
        "colab": {
          "base_uri": "https://localhost:8080/"
        },
        "id": "VX3VtomhAoHG",
        "outputId": "cc8bf29b-b6aa-4a15-b2e8-3044c5c465d1"
      },
      "outputs": [
        {
          "name": "stderr",
          "output_type": "stream",
          "text": [
            "Error in StdOutCallbackHandler.on_chain_start callback: AttributeError(\"'NoneType' object has no attribute 'get'\")\n"
          ]
        },
        {
          "name": "stdout",
          "output_type": "stream",
          "text": [
            "\u001b[32;1m\u001b[1;3mI need to find out today's date in order to get the fortune for today. \n",
            "Action: Get_date\n",
            "Action Input: 今日\u001b[0m\u001b[36;1m\u001b[1;3m05月01日\u001b[0m\u001b[32;1m\u001b[1;3mI now have today's date, which is May 1st. Now, I will use this date to get the fortune for today. \n",
            "Action: Get_fortune\n",
            "Action Input: 5月01日\u001b[0m\u001b[33;1m\u001b[1;3m5月01日の運勢は【吉】です。\u001b[0m\u001b[32;1m\u001b[1;3mI now know the final answer. \n",
            "Final Answer: 今日の運勢は【吉】です。\u001b[0m\n",
            "\n",
            "\u001b[1m> Finished chain.\u001b[0m\n",
            "{'input': [HumanMessage(content='今日の運勢を教えてください。')], 'output': '今日の運勢は【吉】です。'}\n"
          ]
        }
      ],
      "source": [
        "# エージェントの作成\n",
        "\n",
        "from langchain_openai import ChatOpenAI\n",
        "from langchain.schema import HumanMessage\n",
        "from langchain.agents import AgentExecutor, create_react_agent\n",
        "\n",
        "model = ChatOpenAI(model=\"gpt-4o-mini\")\n",
        "\n",
        "tools = [Get_date(), Get_fortune()]\n",
        "\n",
        "#1 エージェントの作成\n",
        "agent = create_react_agent(model, tools, prompt)\n",
        "\n",
        "#2 エージェントの実行準備\n",
        "agent_executor = AgentExecutor(agent=agent, tools=tools, verbose=True)\n",
        "\n",
        "\n",
        "response = agent_executor.invoke({\"input\": [HumanMessage\\\n",
        "(content=\"今日の運勢を教えてください。\")]})\n",
        "\n",
        "print(response)"
      ]
    },
    {
      "cell_type": "code",
      "execution_count": 9,
      "metadata": {},
      "outputs": [],
      "source": [
        "# /home/rmasuda/.cache/pypoetry/virtualenvs/llm-agent-U4qSWGiP-py3.11/lib/python3.11/site-packages/langchain_community/utilities/serpapi.py\n",
        "# の67行目を以下に変更する。\n",
        "from serpapi.google_search import GoogleSearch"
      ]
    },
    {
      "cell_type": "code",
      "execution_count": 10,
      "metadata": {
        "colab": {
          "base_uri": "https://localhost:8080/"
        },
        "id": "KspH82xVKS_g",
        "outputId": "ed2ec95f-b73f-47a9-e7c1-a62e33dd6e75"
      },
      "outputs": [
        {
          "name": "stderr",
          "output_type": "stream",
          "text": [
            "Error in StdOutCallbackHandler.on_chain_start callback: AttributeError(\"'NoneType' object has no attribute 'get'\")\n"
          ]
        },
        {
          "name": "stdout",
          "output_type": "stream",
          "text": [
            "\u001b[32;1m\u001b[1;3m株式会社Elithの最新の公式情報を確認するために、住所を検索する必要があります。公式ウェブサイトや最新のプレスリリースを探すのが良いでしょう。  \n",
            "Action: Search  \n",
            "Action Input: 株式会社Elith 住所 公式サイト  \u001b[0m\u001b[36;1m\u001b[1;3m['株式会社エリスの公式HPです。 Elithは、最先端のAI技術をビジネス実装し価値を生み出す松尾研発スタートアップです.', '\\u200bElith OFFICE · 東京都文京区本郷3-30-10本郷 K&Kビル1F · 東京メトロ丸ノ内線 / 本郷三丁目駅 徒歩約2分 都営大江戸線 / 本郷三丁目駅 徒歩約3分 東京メトロ千代田線 / ...', '株式会社Elith_オートクチュールAI開発_パンフレット202409. ソーシャルメディア. 連絡先. https://elith.co.jp contact@elith.co.jp 03-6822-5999. 住所. 日本113-0033 ...', '連絡先. https://www.elith.co.jp/ contact@elith.co.jp. 住所. 日本113-0033東京都文京区本郷3-30-10本郷 K&Kビル1F. この出展社を見ている人は、こちらの出展社も見てい ...', '井上 顧基 氏. 株式会社Elith Founder & CTO. 北陸先端科学技術大学院大学にて量子コンピュータの材料探索の研究で修士号を取得。会社経営と同時に東北 ...', '\"AIの「今」をON AIR\" 株式会社Elithが主催する、AIの最新動向についてラフに語るラジオです 「AIでこれから世の中はどう変わるのか？」「自分たちはAIをどのように ...', '東大・松尾研発スタートアップの株式会社Elith(エリス)の公式アカウントです。 AI開発・研究を行っています。気軽にリプください、たくさん交流しましょう！', '代表取締役CEO及びCTOの井上顧基氏が率いるElithは、東京都文京区に本社を構え、最前線での技術革新を追求しています。 詳細情報. 本シンポジウムの詳細や ...', '参加無料！「今、知っておきたい！生成AIエージェントの世界」など講演や展示を2024年3月14日（木）～3月15日（金）に開催。先着100名の入場となります。', 'elith.co.jp/ contact@elith.co.jp. COMPANY ADDRESS. 日本113-0033東京都文京区本郷3-30-10本郷K&Kビル1F. STAND(S) SHARED WITH. Main standholder. 株式会社アウト ...']\u001b[0m\u001b[32;1m\u001b[1;3m株式会社Elithの住所は以下の通りです。\n",
            "\n",
            "- **住所**: 東京都文京区本郷3-30-10 本郷 K&Kビル1F\n",
            "- **郵便番号**: 113-0033\n",
            "\n",
            "この情報は公式ウェブサイトおよび関連情報から得られました。  \n",
            "Final Answer: 株式会社Elithの住所は東京都文京区本郷3-30-10 本郷 K&Kビル1F、郵便番号は113-0033です。\u001b[0m\n",
            "\n",
            "\u001b[1m> Finished chain.\u001b[0m\n",
            "{'input': [HumanMessage(content='株式会社Elithの住所を教えてください。最新の公式情報として公 開されているものを教えてください。')], 'output': '株式会社Elithの住所は東京都文京区本郷3-30-10 本郷 K&Kビル1F、郵便番号は113-0033です。'}\n"
          ]
        }
      ],
      "source": [
        "# 検索できるエージェント作成\n",
        "\n",
        "from langchain.agents import load_tools\n",
        "\n",
        "model = ChatOpenAI(model=\"gpt-4o-mini\")\n",
        "tools = load_tools([\"serpapi\"], llm=model)\n",
        "agent = create_react_agent(model, tools, prompt)\n",
        "agent_executor = AgentExecutor(agent=agent, tools=tools, verbose=True)\n",
        "\n",
        "\n",
        "response = agent_executor.invoke({\"input\": [HumanMessage\\\n",
        " (content=\"株式会社Elithの住所を教えてください。最新の公式情報として公\\\n",
        " 開されているものを教えてください。\")]})\n",
        "\n",
        "print(response)"
      ]
    }
  ],
  "metadata": {
    "colab": {
      "provenance": []
    },
    "kernelspec": {
      "display_name": "llm-agent-U4qSWGiP-py3.11",
      "language": "python",
      "name": "python3"
    },
    "language_info": {
      "codemirror_mode": {
        "name": "ipython",
        "version": 3
      },
      "file_extension": ".py",
      "mimetype": "text/x-python",
      "name": "python",
      "nbconvert_exporter": "python",
      "pygments_lexer": "ipython3",
      "version": "3.11.8"
    }
  },
  "nbformat": 4,
  "nbformat_minor": 0
}
