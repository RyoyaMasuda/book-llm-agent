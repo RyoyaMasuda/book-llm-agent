{
  "nbformat": 4,
  "nbformat_minor": 0,
  "metadata": {
    "colab": {
      "provenance": []
    },
    "kernelspec": {
      "name": "python3",
      "display_name": "Python 3"
    },
    "language_info": {
      "name": "python"
    }
  },
  "cells": [
    {
      "cell_type": "code",
      "source": [
        "!pip install langchain\n",
        "!pip install langchain-openai\n",
        "\n",
        "!pip install serpapi\n",
        "!pip install google-search-results\n",
        "# load_toolsを利用するのに必要\n",
        "!pip install langchain_community"
      ],
      "metadata": {
        "id": "akxteNI1JM7i"
      },
      "execution_count": null,
      "outputs": []
    },
    {
      "cell_type": "code",
      "source": [
        "import os\n",
        "from google.colab import userdata\n",
        "os.environ['OPENAI_API_KEY'] = userdata.get('OPENAI_API_KEY')\n",
        "os.environ['SERPAPI_API_KEY'] = userdata.get('SERPAPI_API_KEY')"
      ],
      "metadata": {
        "id": "AZwOvtUQL39U"
      },
      "execution_count": null,
      "outputs": []
    },
    {
      "cell_type": "markdown",
      "source": [
        "# 3.4章"
      ],
      "metadata": {
        "id": "1MD4CvRQKZnv"
      }
    },
    {
      "cell_type": "code",
      "source": [
        "# プロンプト定義\n",
        "\n",
        "from langchain_core.prompts import PromptTemplate\n",
        "\n",
        "message = \"\"\"\n",
        "Answer this question using the provided context only.\n",
        "\n",
        "{question}\n",
        "\n",
        "Context:\n",
        "{context}\n",
        "\"\"\"\n",
        "\n",
        "input_variables=['agent_scratchpad', 'input', 'tool_names', 'tools']\n",
        "template='Answer the following questions as best you can. You have access to the following tools:\\n\\n{tools}\\n\\nUse the following format:\\n\\nQuestion: the input question you must answer\\nThought: you should always think about what to do\\nAction: the action to take, should be one of [{tool_names}]\\nAction Input: the input to the action\\nObservation: the result of the action\\n... (this Thought/Action/Action Input/Observation can repeat N times)\\nThought: I now know the final answer\\nFinal Answer: the final answer to the original input question\\n\\nBegin!\\n\\nChat history: {chat_history}\\n\\nQuestion: {input}\\nThought:{agent_scratchpad}'\n",
        "\n",
        "\n",
        "prompt = PromptTemplate(input_variables=input_variables, template=template)\n",
        "print(prompt)"
      ],
      "metadata": {
        "id": "e3KbFb6ed4Ub"
      },
      "execution_count": null,
      "outputs": []
    },
    {
      "cell_type": "code",
      "source": [
        "# メモリの作成\n",
        "\n",
        "from langchain.memory import ChatMessageHistory\n",
        "\n",
        "store = {}\n",
        "\n",
        "def get_by_session_id(session_id: str) -> ChatMessageHistory:\n",
        "    if session_id not in store:\n",
        "        store[session_id] = ChatMessageHistory()\n",
        "    return store[session_id]"
      ],
      "metadata": {
        "id": "HboQJ764GDcb"
      },
      "execution_count": null,
      "outputs": []
    },
    {
      "cell_type": "code",
      "source": [
        "# 記憶を持つエージェントの作成\n",
        "\n",
        "from langchain_openai import ChatOpenAI\n",
        "from langchain.agents import load_tools\n",
        "from langchain.agents import AgentExecutor, create_react_agent\n",
        "from langchain_core.runnables.history import RunnableWithMessageHistory\n",
        "from langchain.memory import ChatMessageHistory\n",
        "\n",
        "model = ChatOpenAI(model=\"gpt-4o-mini\")\n",
        "tools = load_tools([\"serpapi\"], llm=model)\n",
        "agent = create_react_agent(model, tools, prompt)\n",
        "agent_executor = AgentExecutor(agent=agent, tools=tools, verbose=True)\n",
        "\n",
        "agent_with_chat_history = RunnableWithMessageHistory(\n",
        "    agent_executor,\n",
        "    get_by_session_id,\n",
        "    input_messages_key=\"input\",\n",
        "    history_messages_key=\"chat_history\",\n",
        ")\n",
        "\n",
        "response = agent_with_chat_history.invoke({\"input\": \"株式会社Elithの住所を教えてください。最新の公式情報として公開されているものを教えてください。\"},\n",
        "    config={\"configurable\": {\"session_id\": \"test-session1\"}})"
      ],
      "metadata": {
        "id": "8JXcSlf7KYfm"
      },
      "execution_count": null,
      "outputs": []
    },
    {
      "cell_type": "code",
      "source": [
        "# 記憶の確認\n",
        "print(get_by_session_id(\"test-session1\"))"
      ],
      "metadata": {
        "id": "plxI1w4baNG9"
      },
      "execution_count": null,
      "outputs": []
    },
    {
      "cell_type": "code",
      "source": [
        "# 再度質問\n",
        "response = agent_with_chat_history.invoke({\"input\": \"先ほど尋ねた会社は何の会社ですか？\"},\n",
        "    config={\"configurable\": {\"session_id\": \"test-session1\"}})"
      ],
      "metadata": {
        "id": "PuC6bbJyXO5b"
      },
      "execution_count": null,
      "outputs": []
    },
    {
      "cell_type": "code",
      "source": [
        "# 記憶の確認\n",
        "print(get_by_session_id(\"test-session1\"))"
      ],
      "metadata": {
        "id": "JAB-rBsflMFz"
      },
      "execution_count": null,
      "outputs": []
    },
    {
      "cell_type": "code",
      "source": [
        "# 記憶の確認（別セッション）\n",
        "print(get_by_session_id(\"test-session2\"))"
      ],
      "metadata": {
        "id": "5Q-idfiqGzEY"
      },
      "execution_count": null,
      "outputs": []
    },
    {
      "cell_type": "code",
      "source": [
        "# 別セッションで質問\n",
        "response = agent_with_chat_history.invoke({\"input\": \"先ほど尋ねた会社は何の会社ですか？\"},\n",
        "    config={\"configurable\": {\"session_id\": \"test-session2\"}})"
      ],
      "metadata": {
        "id": "ACk0_4HKlQkl"
      },
      "execution_count": null,
      "outputs": []
    },
    {
      "cell_type": "code",
      "source": [
        "print(get_by_session_id(\"test-session2\"))"
      ],
      "metadata": {
        "id": "z5AVO4FoGsUU"
      },
      "execution_count": null,
      "outputs": []
    }
  ]
}