{
  "cells": [
    {
      "cell_type": "markdown",
      "metadata": {},
      "source": [
        "# 3.4章　記憶を持つエージェント"
      ]
    },
    {
      "cell_type": "code",
      "execution_count": null,
      "metadata": {
        "colab": {
          "base_uri": "https://localhost:8080/"
        },
        "id": "akxteNI1JM7i",
        "outputId": "999d99e2-5875-4590-ebac-f376aae2c70f"
      },
      "outputs": [],
      "source": [
        "!pip install langchain\n",
        "!pip install langchain-openai\n",
        "\n",
        "!pip install serpapi\n",
        "!pip install google-search-results\n",
        "\n",
        "# load_toolsを利用するのに必要\n",
        "!pip install langchain_community"
      ]
    },
    {
      "cell_type": "code",
      "execution_count": null,
      "metadata": {
        "id": "AZwOvtUQL39U"
      },
      "outputs": [],
      "source": [
        "import os\n",
        "from google.colab import userdata\n",
        "\n",
        "os.environ['OPENAI_API_KEY'] = userdata.get('OPENAI_API_KEY')\n",
        "os.environ['SERPAPI_API_KEY'] = userdata.get('SERPAPI_API_KEY')"
      ]
    },
    {
      "cell_type": "markdown",
      "metadata": {
        "id": "1MD4CvRQKZnv"
      },
      "source": [
        "# 3.4章"
      ]
    },
    {
      "cell_type": "code",
      "execution_count": null,
      "metadata": {
        "colab": {
          "base_uri": "https://localhost:8080/"
        },
        "id": "e3KbFb6ed4Ub",
        "outputId": "4a404e23-2c61-4900-8a8c-0d31687c9e1d"
      },
      "outputs": [],
      "source": [
        "from langchain_core.prompts import PromptTemplate\n",
        "\n",
        "input_variables=['agent_scratchpad', 'input', 'tool_names', 'tools']\n",
        "template=\"\"\"\\\n",
        "Answer the following questions as best you can. You have access to the following tools:\n",
        "\n",
        "{tools}\n",
        "\n",
        "Use the following format:\n",
        "\n",
        "Question: the input question you must answer\n",
        "Thought: you should always think about what to do\n",
        "Action: the action to take, should be one of [{tool_names}]\n",
        "Action Input: the input to the action\n",
        "Observation: the result of the action\n",
        "... (this Thought/Action/Action Input/Observation can repeat N times)\n",
        "Thought: I now know the final answer\n",
        "Final Answer: the final answer to the original input question\n",
        "\n",
        "Begin!\n",
        "\n",
        "Previous conversation history: {chat_history}\n",
        "Question: {input}\n",
        "Thought:{agent_scratchpad}\"\"\"\n",
        "\n",
        "prompt = PromptTemplate(input_variables=input_variables, template=template)\n",
        "print(prompt.template)"
      ]
    },
    {
      "cell_type": "code",
      "execution_count": null,
      "metadata": {
        "id": "HboQJ764GDcb"
      },
      "outputs": [],
      "source": [
        "from langchain.memory import ChatMessageHistory\n",
        "\n",
        "store = {}\n",
        "\n",
        "def get_by_session_id(session_id: str) -> ChatMessageHistory:\n",
        "    if session_id not in store:\n",
        "        store[session_id] = ChatMessageHistory()\n",
        "    return store[session_id]"
      ]
    },
    {
      "cell_type": "code",
      "execution_count": null,
      "metadata": {
        "colab": {
          "base_uri": "https://localhost:8080/"
        },
        "id": "8JXcSlf7KYfm",
        "outputId": "26cd43f5-3f96-4ef1-c292-fb973e567d44"
      },
      "outputs": [],
      "source": [
        "from langchain_openai import ChatOpenAI\n",
        "from langchain.agents import load_tools\n",
        "from langchain.agents import AgentExecutor, create_react_agent\n",
        "from langchain_core.runnables.history import\\\n",
        "RunnableWithMessageHistory\n",
        "\n",
        "model = ChatOpenAI(model=\"gpt-4o-mini\")\n",
        "tools = load_tools([\"serpapi\"], llm=model)\n",
        "agent = create_react_agent(model, tools, prompt)\n",
        "agent_executor = AgentExecutor(agent=agent, tools=tools,\\\n",
        "verbose=True)\n",
        "\n",
        "agent_with_chat_history = RunnableWithMessageHistory(\n",
        "    agent_executor,\n",
        "    get_by_session_id,\n",
        "    input_messages_key=\"input\",\n",
        "    history_messages_key=\"chat_history\",\n",
        ")\n",
        "\n",
        "response = agent_with_chat_history.invoke({\"input\": \"株式会社\\\n",
        "Elithの住所を教えてください。最新の公式情報として公開されているものを教え\\\n",
        "てください。\"},\n",
        "    config={\"configurable\": {\"session_id\": \"test-session1\"}})"
      ]
    },
    {
      "cell_type": "code",
      "execution_count": null,
      "metadata": {
        "colab": {
          "base_uri": "https://localhost:8080/"
        },
        "id": "plxI1w4baNG9",
        "outputId": "023bc94a-5cf9-44be-c4ac-f7d2e7188e78"
      },
      "outputs": [],
      "source": [
        "print(get_by_session_id(\"test-session1\"))"
      ]
    },
    {
      "cell_type": "code",
      "execution_count": null,
      "metadata": {
        "colab": {
          "base_uri": "https://localhost:8080/"
        },
        "id": "PuC6bbJyXO5b",
        "outputId": "2e397b11-5a8c-44d6-98e8-66852cc5aa7d"
      },
      "outputs": [],
      "source": [
        "response = agent_with_chat_history.invoke({\"input\": \"先ほど尋ね\\\n",
        "た会社は何の会社ですか？\"},\n",
        "    config={\"configurable\": {\"session_id\": \"test-session1\"}})"
      ]
    },
    {
      "cell_type": "code",
      "execution_count": null,
      "metadata": {
        "colab": {
          "base_uri": "https://localhost:8080/"
        },
        "id": "JAB-rBsflMFz",
        "outputId": "413f282d-900b-4e8a-82ec-079d61e9a4af"
      },
      "outputs": [],
      "source": [
        "print(get_by_session_id(\"test-session1\"))"
      ]
    },
    {
      "cell_type": "code",
      "execution_count": null,
      "metadata": {
        "colab": {
          "base_uri": "https://localhost:8080/"
        },
        "id": "5Q-idfiqGzEY",
        "outputId": "9cac879a-8da6-4cfc-8506-d2b9f53ed2ac"
      },
      "outputs": [],
      "source": [
        "print(get_by_session_id(\"test-session2\"))"
      ]
    },
    {
      "cell_type": "code",
      "execution_count": null,
      "metadata": {
        "colab": {
          "base_uri": "https://localhost:8080/"
        },
        "id": "ACk0_4HKlQkl",
        "outputId": "f8fd5554-5c23-4af1-ff80-0d24863e2073"
      },
      "outputs": [],
      "source": [
        "response = agent_with_chat_history.invoke({\"input\": \"先ほど尋ね\\\n",
        "た会社は何の会社ですか？\"},\n",
        "    config={\"configurable\": {\"session_id\": \"test-session2\"}})"
      ]
    },
    {
      "cell_type": "code",
      "execution_count": null,
      "metadata": {
        "colab": {
          "base_uri": "https://localhost:8080/"
        },
        "id": "z5AVO4FoGsUU",
        "outputId": "b102b599-f58a-443b-a520-cf979b5f5a13"
      },
      "outputs": [],
      "source": [
        "print(get_by_session_id(\"test-session2\"))"
      ]
    }
  ],
  "metadata": {
    "colab": {
      "provenance": []
    },
    "kernelspec": {
      "display_name": "Python 3",
      "name": "python3"
    },
    "language_info": {
      "name": "python"
    }
  },
  "nbformat": 4,
  "nbformat_minor": 0
}
