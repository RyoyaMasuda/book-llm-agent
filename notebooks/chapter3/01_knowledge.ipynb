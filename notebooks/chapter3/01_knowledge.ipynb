{
  "cells": [
    {
      "cell_type": "markdown",
      "metadata": {
        "id": "g8rO7Fp5nOAx"
      },
      "source": [
        "# 3.1章　LLMに知識を与える"
      ]
    },
    {
      "cell_type": "markdown",
      "metadata": {
        "id": "srSBnZ_knwn4"
      },
      "source": [
        "## 3.1.1 LLM に知識を与える"
      ]
    },
    {
      "cell_type": "code",
      "execution_count": null,
      "metadata": {
        "colab": {
          "base_uri": "https://localhost:8080/"
        },
        "id": "oh7PG3aJWn6H",
        "outputId": "7f2ba520-7108-4a04-bcec-16e6c5c795d5"
      },
      "outputs": [],
      "source": [
        "!pip install langchain\n",
        "!pip install langchain-openai"
      ]
    },
    {
      "cell_type": "code",
      "execution_count": null,
      "metadata": {
        "id": "SPMHGl6_ZX8s"
      },
      "outputs": [],
      "source": [
        "import os\n",
        "from google.colab import userdata\n",
        "\n",
        "os.environ[\"OPENAI_API_KEY\"] = userdata.get('OPENAI_API_KEY')"
      ]
    },
    {
      "cell_type": "code",
      "execution_count": null,
      "metadata": {
        "colab": {
          "base_uri": "https://localhost:8080/"
        },
        "id": "9Wb7oue_Y3tU",
        "outputId": "8ad41b9f-ef11-4361-a0cb-0839f8e89462"
      },
      "outputs": [],
      "source": [
        "from langchain_openai import ChatOpenAI\n",
        "from langchain.schema import HumanMessage\n",
        "\n",
        "model = ChatOpenAI(model=\"gpt-4o-mini\")\n",
        "result = model.invoke([HumanMessage(content=\"熊童子について教えて\\\n",
        "ください。\")])\n",
        "print(result.content)"
      ]
    },
    {
      "cell_type": "code",
      "execution_count": null,
      "metadata": {
        "colab": {
          "base_uri": "https://localhost:8080/"
        },
        "id": "0dHmKRPoZ7F1",
        "outputId": "f7f7abdc-8d91-481f-deaf-d314d9854238"
      },
      "outputs": [],
      "source": [
        "from langchain_core.prompts import ChatPromptTemplate\n",
        "\n",
        "#1 プロンプトテンプレートの作成\n",
        "message = \"\"\"\n",
        "Answer this question using the provided context only.\n",
        "\n",
        "{question}\n",
        "\n",
        "Context:\n",
        "{context}\n",
        "\"\"\"\n",
        "\n",
        "prompt = ChatPromptTemplate.from_messages([(\"human\", message)])\n",
        "\n",
        "model = ChatOpenAI(model=\"gpt-4o-mini\")\n",
        "chain = prompt | model\n",
        "\n",
        "question_text = \" 熊童子について教えてください。\"\n",
        "information_text = \"\"\"\\\n",
        "熊童子はベンケイソウ科コチレドン属の多肉植物です。\n",
        "葉に丸みや厚みがあり、先端には爪のような突起があることから「熊の手」という\\\n",
        "愛称で人気を集めています。\n",
        "花はオレンジ色のベル型の花を咲かせることがあります。\"\"\"\n",
        "\n",
        "response = chain.invoke({\"context\": information_text, \"question\":\n",
        "question_text})\n",
        "print(response.content)"
      ]
    },
    {
      "cell_type": "markdown",
      "metadata": {
        "id": "pBp9Zkm7n6AG"
      },
      "source": [
        "## 3.1.2 文書の構造化"
      ]
    },
    {
      "cell_type": "code",
      "execution_count": null,
      "metadata": {
        "colab": {
          "base_uri": "https://localhost:8080/"
        },
        "id": "arof7KOwbFN8",
        "outputId": "f8f80c4a-8827-4025-bcb7-b9883b4b498f"
      },
      "outputs": [],
      "source": [
        "from langchain_core.documents import Document\n",
        "\n",
        "#1 Documentクラスオブジェクトの作成\n",
        "document = Document(\n",
        "        page_content=\"\"\"\\\n",
        "セダムはベンケイソウ科マンネングザ属で、日本にも自生しているポピュラーな多\\\n",
        "肉植物です。\n",
        "種類が多くて葉の大きさや形状、カラーバリエーションも豊富なので、組み合わせ\\\n",
        "て寄せ植えにしたり、庭のグランドカバーにしたりして楽しむことができます。\n",
        "とても丈夫で育てやすく、多肉植物を初めて育てる方にもおすすめです。\"\"\",\n",
        "        metadata={\"source\": \"succulent-plants-doc\"},\n",
        "    )\n",
        "\n",
        "print(document)"
      ]
    },
    {
      "cell_type": "code",
      "execution_count": null,
      "metadata": {
        "colab": {
          "base_uri": "https://localhost:8080/"
        },
        "id": "fHwh7QmddTbg",
        "outputId": "d778e279-a611-4f51-9118-3139ceff7351"
      },
      "outputs": [],
      "source": [
        "!pip install langchain_chroma"
      ]
    },
    {
      "cell_type": "code",
      "execution_count": null,
      "metadata": {
        "id": "nSL4q-vwdZa0"
      },
      "outputs": [],
      "source": [
        "from langchain_chroma import Chroma\n",
        "from langchain_openai import OpenAIEmbeddings\n",
        "\n",
        "#1 Documentクラスオブジェクトの作成\n",
        "documents = [\n",
        "    Document(\n",
        "        page_content=\"\"\"\\\n",
        "セダムはベンケイソウ科マンネングザ属で、日本にも自生しているポピュラーな多\\\n",
        "肉植物です。\n",
        "種類が多くて葉の大きさや形状、カラーバリエーションも豊富なので、組み合わせ\\\n",
        "て寄せ植えにしたり、庭のグランドカバーにしたりして楽しむことができます。\n",
        "とても丈夫で育てやすく、多肉植物を初めて育てる方にもおすすめです。\"\"\",\n",
        "        metadata={\"source\": \"succulent-plants-doc\"},\n",
        "    ),\n",
        "    Document(\n",
        "        page_content=\"\"\"\\\n",
        "熊童子はベンケイソウ科コチレドン属の多肉植物です。\n",
        "葉に丸みや厚みがあり、先端には爪のような突起があることから「熊の手」という\\\n",
        "愛称で人気を集めています。\n",
        "花はオレンジ色のベル型の花を咲かせることがあります。\"\"\",\n",
        "        metadata={\"source\": \"succulent-plants-doc\"},\n",
        "    ),\n",
        "    Document(\n",
        "        page_content=\"\"\"\\\n",
        "エケベリアはベンケイソウ科エケベリア属の多肉植物で、メキシコなど中南米が原\\\n",
        "産です。\n",
        "まるで花びらのように広がる肉厚な葉が特徴で、秋には紅葉も楽しめます。\n",
        "品種が多く、室内でも気軽に育てられるので、人気のある多肉植物です。\"\"\",\n",
        "        metadata={\"source\": \"succulent-plants-doc\"},\n",
        "    ),\n",
        "    Document(\n",
        "        page_content=\"\"\"\\\n",
        "ハオルチアは、春と秋に成長するロゼット形の多肉植物です。\n",
        "密に重なった葉が放射状に展開し、幾何学的で整った株姿になるのが魅力です。\n",
        "室内でも育てやすく手頃なサイズの多肉植物です。\"\"\",\n",
        "        metadata={\"source\": \"succulent-plants-doc\"},\n",
        "    ),\n",
        "]\n",
        "\n",
        "#2 Chromaデータベースの作成\n",
        "vectorstore = Chroma.from_documents(\n",
        "    documents,\n",
        "    embedding=OpenAIEmbeddings(),\n",
        ")\n"
      ]
    },
    {
      "cell_type": "code",
      "execution_count": null,
      "metadata": {
        "colab": {
          "base_uri": "https://localhost:8080/"
        },
        "id": "-WSzY5zXe5pL",
        "outputId": "6f37c049-c79c-43a6-d58c-f148cc703545"
      },
      "outputs": [],
      "source": [
        "vectorstore.similarity_search(\"熊童子\")"
      ]
    },
    {
      "cell_type": "code",
      "execution_count": null,
      "metadata": {
        "colab": {
          "base_uri": "https://localhost:8080/"
        },
        "id": "jQSBpAJDe_SW",
        "outputId": "8b590a62-642f-459f-a4cf-6ecc0a7414e0"
      },
      "outputs": [],
      "source": [
        "vectorstore.similarity_search_with_score(\"熊童子\")"
      ]
    },
    {
      "cell_type": "markdown",
      "metadata": {
        "id": "VuI7iHjRoAu5"
      },
      "source": [
        "## 3.1.3 文書検索機能を持つLLM"
      ]
    },
    {
      "cell_type": "code",
      "execution_count": null,
      "metadata": {
        "colab": {
          "base_uri": "https://localhost:8080/"
        },
        "id": "OI__7lAOfP_g",
        "outputId": "6cb46eb6-acfe-4c6b-c6cd-ddfa8988e402"
      },
      "outputs": [],
      "source": [
        "from langchain_core.runnables import RunnableLambda\n",
        "\n",
        "#1 Runnable オブジェクトの作成\n",
        "retriever = RunnableLambda(vectorstore.similarity_search).bind\\\n",
        "(k=1)\n",
        "retriever.invoke(\"熊童子\")"
      ]
    },
    {
      "cell_type": "code",
      "execution_count": null,
      "metadata": {
        "colab": {
          "base_uri": "https://localhost:8080/"
        },
        "id": "Fe9qGmuEfnB9",
        "outputId": "7b8fc329-5eb3-490d-f92c-a0fadf32a31e"
      },
      "outputs": [],
      "source": [
        "from langchain_core.runnables import RunnablePassthrough\n",
        "\n",
        "message = \"\"\"\n",
        "Answer this question using the provided context only.\n",
        "\n",
        "{question}\n",
        "\n",
        "Context:\n",
        "{context}\n",
        "\"\"\"\n",
        "\n",
        "prompt = ChatPromptTemplate.from_messages([(\"human\", message)])\n",
        "model = ChatOpenAI(model=\"gpt-4o-mini\")\n",
        "\n",
        "#1 Chainの作成\n",
        "rag_chain = {\"context\": retriever,\n",
        "             \"question\": RunnablePassthrough()} | prompt | model\n",
        "\n",
        "result = rag_chain.invoke(\"熊童子について教えてください。\")\n",
        "print(result.content)"
      ]
    }
  ],
  "metadata": {
    "colab": {
      "provenance": []
    },
    "kernelspec": {
      "display_name": "Python 3",
      "name": "python3"
    },
    "language_info": {
      "name": "python"
    }
  },
  "nbformat": 4,
  "nbformat_minor": 0
}
