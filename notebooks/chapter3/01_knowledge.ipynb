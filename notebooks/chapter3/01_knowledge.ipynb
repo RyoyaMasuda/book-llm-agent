{
  "nbformat": 4,
  "nbformat_minor": 0,
  "metadata": {
    "colab": {
      "provenance": []
    },
    "kernelspec": {
      "name": "python3",
      "display_name": "Python 3"
    },
    "language_info": {
      "name": "python"
    }
  },
  "cells": [
    {
      "cell_type": "markdown",
      "source": [
        "# 3.1章　LLMに知識を与える"
      ],
      "metadata": {
        "id": "IHmir5ojU-_y"
      }
    },
    {
      "cell_type": "code",
      "source": [
        "!pip install langchain\n",
        "!pip install langchain-openai"
      ],
      "metadata": {
        "id": "akxteNI1JM7i"
      },
      "execution_count": null,
      "outputs": []
    },
    {
      "cell_type": "code",
      "source": [
        "# colabで実行する場合（本には載せない）　TODO：dotenvを利用\n",
        "import os\n",
        "from google.colab import userdata\n",
        "os.environ['OPENAI_API_KEY'] = userdata.get('OPENAI_API_KEY')\n",
        "os.environ['SERPAPI_API_KEY'] = userdata.get('SERPAPI_API_KEY')"
      ],
      "metadata": {
        "id": "AZwOvtUQL39U"
      },
      "execution_count": null,
      "outputs": []
    },
    {
      "cell_type": "code",
      "execution_count": null,
      "metadata": {
        "id": "V15Til8tA8AR"
      },
      "outputs": [],
      "source": [
        "# 普通に質問\n",
        "\n",
        "from langchain_openai import ChatOpenAI\n",
        "from langchain.schema import HumanMessage\n",
        "\n",
        "model = ChatOpenAI(model=\"gpt-4o-mini\")\n",
        "result = model.invoke([HumanMessage(content=\"熊童子について教えてください。\")])\n",
        "\n",
        "result.content"
      ]
    },
    {
      "cell_type": "code",
      "source": [
        "# 知識を前もって与えておく\n",
        "\n",
        "from langchain_core.prompts import ChatPromptTemplate\n",
        "\n",
        "# プロンプトテンプレートの作成\n",
        "message = \"\"\"\n",
        "Answer this question using the provided context only.\n",
        "\n",
        "{question}\n",
        "\n",
        "Context:\n",
        "{context}\n",
        "\"\"\"\n",
        "\n",
        "prompt = ChatPromptTemplate.from_messages([(\"human\", message)])\n",
        "\n",
        "model = ChatOpenAI(model=\"gpt-4o-mini\")\n",
        "chain = prompt | model\n",
        "\n",
        "question_text = \"熊童子について教えてください。\"\n",
        "information_text = \"\"\"\n",
        "熊童子はベンケイソウ科コチレドン属の多肉植物です。\n",
        "葉に丸みや厚みがあり、先端には爪のような突起があることから「熊の手」という愛称で人気を集めています。\n",
        "花はオレンジ色のベル型の花を咲かせることがあります。\n",
        "\"\"\"\n",
        "\n",
        "response = chain.invoke({\"context\": information_text, \"question\": question_text})\n",
        "response.content"
      ],
      "metadata": {
        "id": "PpwdvGFyUtsc"
      },
      "execution_count": null,
      "outputs": []
    },
    {
      "cell_type": "code",
      "source": [
        "# Documentクラスで文書を管理\n",
        "\n",
        "from langchain_core.documents import Document\n",
        "\n",
        "document = Document(\n",
        "        page_content=\"\"\"\n",
        "セダムはベンケイソウ科マンネングザ属で、日本にも自生しているポピュラーな多肉植物です。\n",
        "種類が多くて葉の大きさや形状、カラーバリエーションも豊富なので、組み合わせて寄せ植えにしたり、庭のグランドカバーにしたりして楽しむことができます。\n",
        "とても丈夫で育てやすく、多肉植物を初めて育てる方にもおすすめです。\n",
        "\"\"\",\n",
        "        metadata={\"source\": \"succulent-plants-doc\"},\n",
        "    )\n",
        "\n",
        "document"
      ],
      "metadata": {
        "id": "uUF4Lq8XzdRp"
      },
      "execution_count": null,
      "outputs": []
    },
    {
      "cell_type": "code",
      "source": [
        "!pip install langchain_chroma"
      ],
      "metadata": {
        "id": "6sjHz28W0t5S"
      },
      "execution_count": null,
      "outputs": []
    },
    {
      "cell_type": "code",
      "source": [
        "# データベースの作成\n",
        "from langchain_chroma import Chroma\n",
        "from langchain_openai import OpenAIEmbeddings\n",
        "\n",
        "documents = [\n",
        "    Document(\n",
        "        page_content=\"\"\"\n",
        "セダムはベンケイソウ科マンネングザ属で、日本にも自生しているポピュラーな多肉植物です。\n",
        "種類が多くて葉の大きさや形状、カラーバリエーションも豊富なので、組み合わせて寄せ植えにしたり、庭のグランドカバーにしたりして楽しむことができます。\n",
        "とても丈夫で育てやすく、多肉植物を初めて育てる方にもおすすめです。\n",
        "\"\"\",\n",
        "        metadata={\"source\": \"succulent-plants-doc\"},\n",
        "    ),\n",
        "    Document(\n",
        "        page_content=\"\"\"\n",
        "熊童子はベンケイソウ科コチレドン属の多肉植物です。\n",
        "葉に丸みや厚みがあり、先端には爪のような突起があることから「熊の手」という愛称で人気を集めています。\n",
        "花はオレンジ色のベル型の花を咲かせることがあります。\n",
        "\"\"\",\n",
        "        metadata={\"source\": \"succulent-plants-doc\"},\n",
        "    ),\n",
        "    Document(\n",
        "        page_content=\"\"\"\n",
        "エケベリアはベンケイソウ科エケベリア属の多肉植物で、メキシコなど中南米が原産です。\n",
        "まるで花びらのように広がる肉厚な葉が特徴で、秋には紅葉も楽しめます。\n",
        "品種が多く、室内でも気軽に育てられるので、人気のある多肉植物です。\n",
        "\"\"\",\n",
        "        metadata={\"source\": \"succulent-plants-doc\"},\n",
        "    ),\n",
        "]\n",
        "\n",
        "vectorstore = Chroma.from_documents(\n",
        "    documents,\n",
        "    embedding=OpenAIEmbeddings(),\n",
        ")\n"
      ],
      "metadata": {
        "id": "ReMsl6rC0o7s"
      },
      "execution_count": null,
      "outputs": []
    },
    {
      "cell_type": "code",
      "source": [
        "vectorstore.similarity_search(\"熊童子\")"
      ],
      "metadata": {
        "id": "NThsdUIL1Em1"
      },
      "execution_count": null,
      "outputs": []
    },
    {
      "cell_type": "code",
      "source": [
        "vectorstore.similarity_search_with_score(\"熊童子\")"
      ],
      "metadata": {
        "id": "KOruz15w1ZeT"
      },
      "execution_count": null,
      "outputs": []
    },
    {
      "cell_type": "code",
      "source": [
        "# retrieverの作成\n",
        "from langchain_core.runnables import RunnableLambda\n",
        "\n",
        "retriever = RunnableLambda(vectorstore.similarity_search).bind(k=1)  # select top result\n",
        "retriever.invoke(\"熊童子\")"
      ],
      "metadata": {
        "id": "0IOf-hiU_HAR"
      },
      "execution_count": null,
      "outputs": []
    },
    {
      "cell_type": "code",
      "source": [
        "# RAG\n",
        "\n",
        "from langchain_core.runnables import RunnablePassthrough\n",
        "\n",
        "message = \"\"\"\n",
        "Answer this question using the provided context only.\n",
        "\n",
        "{question}\n",
        "\n",
        "Context:\n",
        "{context}\n",
        "\"\"\"\n",
        "\n",
        "prompt = ChatPromptTemplate.from_messages([(\"human\", message)])\n",
        "model = ChatOpenAI(model=\"gpt-4o-mini\")\n",
        "\n",
        "rag_chain = {\"context\": retriever, \"question\": RunnablePassthrough()} | prompt | model\n",
        "\n",
        "result = rag_chain.invoke(\"セダムについて教えてください。\")\n",
        "result.content"
      ],
      "metadata": {
        "id": "19ZUCB3W_gQF"
      },
      "execution_count": null,
      "outputs": []
    }
  ]
}