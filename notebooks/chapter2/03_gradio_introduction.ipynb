{
 "cells": [
  {
   "cell_type": "markdown",
   "metadata": {},
   "source": [
    "# 準備"
   ]
  },
  {
   "cell_type": "code",
   "execution_count": 2,
   "metadata": {},
   "outputs": [],
   "source": [
    "import getpass\n",
    "import os\n",
    "\n",
    "import gradio as gr\n",
    "\n",
    "from dotenv import load_dotenv\n",
    "load_dotenv(dotenv_path=\"/home/rmasuda/book-llm-agent/.env\")\n",
    "\n",
    "# OpenAI API キーの設定\n",
    "api_key = os.getenv(\"OPENAI_API_KEY\")\n",
    "os.environ[\"OPENAI_API_KEY\"] = api_key"
   ]
  },
  {
   "cell_type": "markdown",
   "metadata": {},
   "source": [
    "# Gradio の基礎"
   ]
  },
  {
   "cell_type": "markdown",
   "metadata": {},
   "source": [
    "## 簡単なインターフェースの実装"
   ]
  },
  {
   "cell_type": "code",
   "execution_count": 3,
   "metadata": {},
   "outputs": [
    {
     "name": "stdout",
     "output_type": "stream",
     "text": [
      "Running on local URL:  http://127.0.0.1:7860\n",
      "\n",
      "To create a public link, set `share=True` in `launch()`.\n"
     ]
    },
    {
     "data": {
      "text/html": [
       "<div><iframe src=\"http://127.0.0.1:7860/\" width=\"100%\" height=\"500\" allow=\"autoplay; camera; microphone; clipboard-read; clipboard-write;\" frameborder=\"0\" allowfullscreen></iframe></div>"
      ],
      "text/plain": [
       "<IPython.core.display.HTML object>"
      ]
     },
     "metadata": {},
     "output_type": "display_data"
    },
    {
     "name": "stdout",
     "output_type": "stream",
     "text": [
      "IMPORTANT: You are using gradio version 4.36.1, however version 4.44.1 is available, please upgrade.\n",
      "--------\n",
      "Keyboard interruption in main thread... closing server.\n"
     ]
    },
    {
     "data": {
      "text/plain": []
     },
     "execution_count": 3,
     "metadata": {},
     "output_type": "execute_result"
    }
   ],
   "source": [
    "# 必要なモジュールをインポート\n",
    "import gradio as gr\n",
    "\n",
    "# ユーザー入力に対して実行される関数を定義\n",
    "def text2text(text):\n",
    "    # 入力されたテキストを、<< >> で囲んで返すだけのシンプルな関数\n",
    "    text = \"<<\" + text + \">>\"\n",
    "    return text\n",
    "\n",
    "# 入力コンポーネントを定義\n",
    "input_text = gr.Text(\n",
    "    label=\"入力\"  # ユーザーがテキストを入力するテキストボックス。ラベルは「入力」。\n",
    ")\n",
    "\n",
    "# 出力コンポーネントを定義\n",
    "output_text = gr.Text(\n",
    "    label=\"出力\"  # 関数の返り値（加工されたテキスト）を表示するテキストボックス。ラベルは「出力」。\n",
    ")\n",
    "\n",
    "# インターフェース（Webアプリ）を作成\n",
    "demo = gr.Interface(\n",
    "    inputs=input_text,   # 入力コンポーネント（input_text）を使用\n",
    "    outputs=output_text, # 出力コンポーネント（output_text）を使用\n",
    "    fn=text2text         # 実際に呼び出す関数は text2text\n",
    ")\n",
    "\n",
    "# Webアプリを起動\n",
    "demo.launch(\n",
    "    debug=True  # デバッグモードON：エラーが出たときに詳細情報を表示してくれる\n",
    ")\n"
   ]
  },
  {
   "cell_type": "markdown",
   "metadata": {},
   "source": [
    "## ブロックの実装"
   ]
  },
  {
   "cell_type": "code",
   "execution_count": null,
   "metadata": {},
   "outputs": [
    {
     "name": "stdout",
     "output_type": "stream",
     "text": [
      "Running on local URL:  http://127.0.0.1:7861\n",
      "\n",
      "To create a public link, set `share=True` in `launch()`.\n"
     ]
    },
    {
     "data": {
      "text/html": [
       "<div><iframe src=\"http://127.0.0.1:7861/\" width=\"100%\" height=\"500\" allow=\"autoplay; camera; microphone; clipboard-read; clipboard-write;\" frameborder=\"0\" allowfullscreen></iframe></div>"
      ],
      "text/plain": [
       "<IPython.core.display.HTML object>"
      ]
     },
     "metadata": {},
     "output_type": "display_data"
    },
    {
     "data": {
      "text/plain": []
     },
     "execution_count": 5,
     "metadata": {},
     "output_type": "execute_result"
    },
    {
     "name": "stdout",
     "output_type": "stream",
     "text": [
      "IMPORTANT: You are using gradio version 4.36.1, however version 4.44.1 is available, please upgrade.\n",
      "--------\n"
     ]
    }
   ],
   "source": [
    "# 必要なモジュールをインポート\n",
    "import gradio as gr\n",
    "\n",
    "# シンプルにテキストを<<>>で囲む関数（前に作ったやつ）\n",
    "def text2text(text):\n",
    "    text = \"<<\" + text + \">>\"\n",
    "    return text\n",
    "\n",
    "# テキストをリッチに装飾する関数\n",
    "def text2text_rich(text):\n",
    "    # 入力テキストと同じ長さ分、上に^、下にvを並べる\n",
    "    top = \"^\" * len(text)       # 例: 入力が\"Hello\"なら top = \"^^^^^\"\n",
    "    bottom = \"v\" * len(text)    # 例: 入力が\"Hello\"なら bottom = \"vvvvv\"\n",
    "    \n",
    "    # 上下に装飾をつけて、真ん中にテキストを挟み込むフォーマットを作る\n",
    "    text = f\" {top}\\n<{text}>\\n {bottom}\"\n",
    "    \n",
    "    # 最後に成形したテキストを返す\n",
    "    return text\n",
    "\n",
    "# GradioのBlocksレイアウトを使ってインターフェースを作成\n",
    "with gr.Blocks() as demo:\n",
    "    # ユーザー入力用のテキストボックス\n",
    "    input_text = gr.Text(label=\"入力\")\n",
    "    \n",
    "    # 「Normal」ボタン（押すとtext2textが呼ばれる）\n",
    "    button1 = gr.Button(value=\"Normal\")\n",
    "    \n",
    "    # 「Rich」ボタン（押すとtext2text_richが呼ばれる）\n",
    "    button2 = gr.Button(value=\"Rich\")\n",
    "    \n",
    "    # 出力用のテキストボックス\n",
    "    output_text = gr.Text(label=\"出力\")\n",
    "\n",
    "    # Normalボタンがクリックされたときの処理を設定\n",
    "    button1.click(\n",
    "        inputs=input_text,   # どのコンポーネントの入力を使うか\n",
    "        outputs=output_text, # 出力先はここ\n",
    "        fn=text2text         # 実行する関数（シンプルな<<text>>）\n",
    "    )\n",
    "\n",
    "    # Richボタンがクリックされたときの処理を設定\n",
    "    button2.click(\n",
    "        inputs=input_text,      # 入力は同じテキストボックス\n",
    "        outputs=output_text,    # 出力も同じ\n",
    "        fn=text2text_rich       # 実行する関数はこちら（リッチな出力）\n",
    "    )\n",
    "\n",
    "# インターフェースをWebブラウザ上で起動する\n",
    "demo.launch()\n"
   ]
  },
  {
   "cell_type": "markdown",
   "metadata": {},
   "source": [
    "## 重要なコンポーネント"
   ]
  },
  {
   "cell_type": "code",
   "execution_count": 6,
   "metadata": {},
   "outputs": [
    {
     "name": "stdout",
     "output_type": "stream",
     "text": [
      "Running on local URL:  http://127.0.0.1:7862\n",
      "\n",
      "To create a public link, set `share=True` in `launch()`.\n"
     ]
    },
    {
     "data": {
      "text/html": [
       "<div><iframe src=\"http://127.0.0.1:7862/\" width=\"100%\" height=\"1200\" allow=\"autoplay; camera; microphone; clipboard-read; clipboard-write;\" frameborder=\"0\" allowfullscreen></iframe></div>"
      ],
      "text/plain": [
       "<IPython.core.display.HTML object>"
      ]
     },
     "metadata": {},
     "output_type": "display_data"
    },
    {
     "data": {
      "text/plain": []
     },
     "execution_count": 6,
     "metadata": {},
     "output_type": "execute_result"
    },
    {
     "name": "stdout",
     "output_type": "stream",
     "text": [
      "IMPORTANT: You are using gradio version 4.36.1, however version 4.44.1 is available, please upgrade.\n",
      "--------\n"
     ]
    }
   ],
   "source": [
    "# 必要なモジュールをインポート\n",
    "import gradio as gr\n",
    "\n",
    "# アップロードされた音声ファイルをそのまま返す関数\n",
    "def audio_upload(audio):\n",
    "    return audio\n",
    "\n",
    "# Gradio Blocks を使って、複数のコンポーネントをまとめて作成\n",
    "with gr.Blocks() as demo:\n",
    "    # Audio（音声ファイルアップロード用コンポーネント）\n",
    "    audio = gr.Audio(\n",
    "        label=\"音声\",       # ラベルに「音声」と表示\n",
    "        type=\"filepath\"    # アップロード後、ファイルパス形式で渡す（デフォルトはnumpy配列）\n",
    "    )\n",
    "    \n",
    "    # Checkbox（チェックボックス）\n",
    "    checkbox = gr.Checkbox(\n",
    "        label=\"チェックボックス\"  # チェックを入れられる単純なボックス\n",
    "    )\n",
    "    \n",
    "    # File（ファイルアップロード）\n",
    "    file = gr.File(\n",
    "        label=\"ファイル\",              # ラベルに「ファイル」と表示\n",
    "        file_types=[\"image\"]            # 画像ファイルのみ受け付ける（jpg/pngなど）\n",
    "    )\n",
    "    \n",
    "    # Number（数値入力フィールド）\n",
    "    number = gr.Number(\n",
    "        label=\"数値\"  # 数字を入力するためのフィールド（小数・整数両方OK）\n",
    "    )\n",
    "    \n",
    "    # Markdown（Markdownを表示するフィールド）\n",
    "    markdown = gr.Markdown(\n",
    "        label=\"Markdown\",  # ラベルに「Markdown」と表示（※見た目に出るのは中の内容）\n",
    "        value=\"# タイトル\\n## サブタイトル\\n本文\"  # 初期表示するMarkdownテキスト\n",
    "    )\n",
    "    \n",
    "    # Slider（スライダー）\n",
    "    slider = gr.Slider(\n",
    "        label=\"スライダー\",    # ラベルに「スライダー」\n",
    "        minimum=-10,          # スライダーの最小値\n",
    "        maximum=10,           # スライダーの最大値\n",
    "        step=0.5,             # スライドする間隔（0.5単位）\n",
    "        interactive=True      # 値をユーザーが動かして変更できるようにする\n",
    "    )\n",
    "    \n",
    "    # Textbox（テキスト入力フィールド）\n",
    "    textbox = gr.Textbox(\n",
    "        label=\"テキストボックス\"  # ラベルに「テキストボックス」\n",
    "    )\n",
    "\n",
    "# Webインターフェースを起動\n",
    "demo.launch(\n",
    "    height=1200  # インターフェース全体の高さを1200pxに設定（縦に長くスペースを取る）\n",
    ")\n"
   ]
  },
  {
   "cell_type": "markdown",
   "metadata": {},
   "source": [
    "## UI の工夫"
   ]
  },
  {
   "cell_type": "code",
   "execution_count": 7,
   "metadata": {},
   "outputs": [
    {
     "name": "stdout",
     "output_type": "stream",
     "text": [
      "Running on local URL:  http://127.0.0.1:7863\n",
      "\n",
      "To create a public link, set `share=True` in `launch()`.\n"
     ]
    },
    {
     "data": {
      "text/html": [
       "<div><iframe src=\"http://127.0.0.1:7863/\" width=\"100%\" height=\"800\" allow=\"autoplay; camera; microphone; clipboard-read; clipboard-write;\" frameborder=\"0\" allowfullscreen></iframe></div>"
      ],
      "text/plain": [
       "<IPython.core.display.HTML object>"
      ]
     },
     "metadata": {},
     "output_type": "display_data"
    },
    {
     "data": {
      "text/plain": []
     },
     "execution_count": 7,
     "metadata": {},
     "output_type": "execute_result"
    },
    {
     "name": "stdout",
     "output_type": "stream",
     "text": [
      "IMPORTANT: You are using gradio version 4.36.1, however version 4.44.1 is available, please upgrade.\n",
      "--------\n"
     ]
    }
   ],
   "source": [
    "# 必要なモジュールをインポート\n",
    "import gradio as gr\n",
    "\n",
    "# Gradio Blocksレイアウトを作成\n",
    "with gr.Blocks() as demo:\n",
    "    # --- アコーディオン領域 ---\n",
    "    with gr.Accordion(label=\"アコーディオン\"):\n",
    "        # 折りたたみ可能なエリアの中に、テキストを1つ表示\n",
    "        gr.Text(value=\"アコーディオンの中身\")\n",
    "\n",
    "    # --- 横並び（Row）レイアウト 1 ---\n",
    "    with gr.Row():\n",
    "        # Rowの中に2つのテキストを横並びで配置\n",
    "        gr.Text(value=\"左\")  # 左側のテキスト\n",
    "        gr.Text(value=\"右\")  # 右側のテキスト\n",
    "\n",
    "    # --- 横並び（Row）レイアウト 2 ---\n",
    "    with gr.Row():\n",
    "        # 左カラム（縦並び）\n",
    "        with gr.Column():\n",
    "            gr.Text(value=\"(0, 0)\")  # 左上\n",
    "            gr.Text(value=\"(1, 0)\")  # 左下\n",
    "        # 右カラム（縦並び）\n",
    "        with gr.Column():\n",
    "            gr.Text(value=\"(0, 1)\")  # 右上\n",
    "            gr.Text(value=\"(1, 1)\")  # 右下\n",
    "\n",
    "    # --- タブレイアウト ---\n",
    "    with gr.Tab(label=\"タブ1\"):\n",
    "        # 「タブ1」を選んだときに表示される内容\n",
    "        gr.Text(value=\"コンテンツ1\")\n",
    "    with gr.Tab(label=\"タブ2\"):\n",
    "        # 「タブ2」を選んだときに表示される内容\n",
    "        gr.Text(value=\"コンテンツ2\")\n",
    "\n",
    "# ブラウザ上でインターフェースを起動\n",
    "demo.launch(\n",
    "    height=800  # アプリ全体の縦の高さを800pxに設定\n",
    ")\n"
   ]
  },
  {
   "cell_type": "code",
   "execution_count": 8,
   "metadata": {},
   "outputs": [
    {
     "name": "stdout",
     "output_type": "stream",
     "text": [
      "Running on local URL:  http://127.0.0.1:7864\n",
      "\n",
      "To create a public link, set `share=True` in `launch()`.\n"
     ]
    },
    {
     "data": {
      "text/html": [
       "<div><iframe src=\"http://127.0.0.1:7864/\" width=\"100%\" height=\"500\" allow=\"autoplay; camera; microphone; clipboard-read; clipboard-write;\" frameborder=\"0\" allowfullscreen></iframe></div>"
      ],
      "text/plain": [
       "<IPython.core.display.HTML object>"
      ]
     },
     "metadata": {},
     "output_type": "display_data"
    },
    {
     "data": {
      "text/plain": []
     },
     "execution_count": 8,
     "metadata": {},
     "output_type": "execute_result"
    },
    {
     "name": "stdout",
     "output_type": "stream",
     "text": [
      "IMPORTANT: You are using gradio version 4.36.1, however version 4.44.1 is available, please upgrade.\n",
      "--------\n"
     ]
    }
   ],
   "source": [
    "# 必要なモジュールをインポート\n",
    "import gradio as gr\n",
    "\n",
    "# Gradio Blocksレイアウトを作成\n",
    "with gr.Blocks() as demo:\n",
    "    # --- スライダーコンポーネントを作成 ---\n",
    "    slider = gr.Slider(\n",
    "        label=\"個数\",   # ラベルは「個数」\n",
    "        minimum=0,     # スライダーの最小値（0）\n",
    "        maximum=10,    # スライダーの最大値（10）\n",
    "        step=1         # スライドする単位（1個ずつ）\n",
    "    )\n",
    "\n",
    "    # --- スライダーの値に応じて動的にブロックを描画する関数を定義 ---\n",
    "    @gr.render(inputs=slider)  # スライダーが動くたびに呼ばれる（動的描画）\n",
    "    def render_blocks(value):\n",
    "        # valueはスライダーの現在値（選ばれた個数）\n",
    "        for i in range(value):\n",
    "            # 指定された個数だけ Textコンポーネントを作成して表示\n",
    "            gr.Text(value=f\"Block {i}\")\n",
    "\n",
    "# 作成したインターフェースを起動\n",
    "demo.launch()\n"
   ]
  },
  {
   "cell_type": "code",
   "execution_count": 9,
   "metadata": {},
   "outputs": [
    {
     "name": "stdout",
     "output_type": "stream",
     "text": [
      "Running on local URL:  http://127.0.0.1:7865\n",
      "\n",
      "To create a public link, set `share=True` in `launch()`.\n"
     ]
    },
    {
     "data": {
      "text/html": [
       "<div><iframe src=\"http://127.0.0.1:7865/\" width=\"100%\" height=\"500\" allow=\"autoplay; camera; microphone; clipboard-read; clipboard-write;\" frameborder=\"0\" allowfullscreen></iframe></div>"
      ],
      "text/plain": [
       "<IPython.core.display.HTML object>"
      ]
     },
     "metadata": {},
     "output_type": "display_data"
    },
    {
     "data": {
      "text/plain": []
     },
     "execution_count": 9,
     "metadata": {},
     "output_type": "execute_result"
    },
    {
     "name": "stdout",
     "output_type": "stream",
     "text": [
      "IMPORTANT: You are using gradio version 4.36.1, however version 4.44.1 is available, please upgrade.\n",
      "--------\n"
     ]
    }
   ],
   "source": [
    "# 必要なモジュールをインポート\n",
    "import gradio as gr\n",
    "import time\n",
    "\n",
    "# --- 1つずつ結果を順番に出力する関数を定義 ---\n",
    "def iterative_output():\n",
    "    for i in range(10):\n",
    "        time.sleep(0.5)  # 0.5秒待つ（処理を少しずつ遅延させる）\n",
    "        yield str(i)     # 現在のカウント（i）を文字列にして順番に出力する（yieldでストリーミング出力）\n",
    "\n",
    "# --- Gradio Blocksレイアウトを作成 ---\n",
    "with gr.Blocks() as demo:\n",
    "    # 実行用のボタンを作成\n",
    "    button = gr.Button(\"実行\")  # ボタンに「実行」とラベル付け\n",
    "\n",
    "    # 出力先となるテキストボックスを作成\n",
    "    output = gr.Text(label=\"出力\")  # ラベルは「出力」\n",
    "\n",
    "    # ボタンが押されたときの動作を設定\n",
    "    button.click(\n",
    "        outputs=output,         # 出力先は上で作ったテキストボックス\n",
    "        fn=iterative_output      # 呼び出す関数は iterative_output\n",
    "        # ※入力(inputs)はないので省略\n",
    "        # ※Gradioは、yieldを使った関数だと自動的にストリーミング動作になる\n",
    "    )\n",
    "\n",
    "# --- インターフェースをブラウザで起動 ---\n",
    "demo.launch()\n"
   ]
  },
  {
   "cell_type": "markdown",
   "metadata": {},
   "source": [
    "## 状態を保持する"
   ]
  },
  {
   "cell_type": "code",
   "execution_count": 10,
   "metadata": {},
   "outputs": [
    {
     "name": "stdout",
     "output_type": "stream",
     "text": [
      "Running on local URL:  http://127.0.0.1:7866\n",
      "\n",
      "To create a public link, set `share=True` in `launch()`.\n"
     ]
    },
    {
     "data": {
      "text/html": [
       "<div><iframe src=\"http://127.0.0.1:7866/\" width=\"100%\" height=\"500\" allow=\"autoplay; camera; microphone; clipboard-read; clipboard-write;\" frameborder=\"0\" allowfullscreen></iframe></div>"
      ],
      "text/plain": [
       "<IPython.core.display.HTML object>"
      ]
     },
     "metadata": {},
     "output_type": "display_data"
    },
    {
     "data": {
      "text/plain": []
     },
     "execution_count": 10,
     "metadata": {},
     "output_type": "execute_result"
    },
    {
     "name": "stdout",
     "output_type": "stream",
     "text": [
      "IMPORTANT: You are using gradio version 4.36.1, however version 4.44.1 is available, please upgrade.\n",
      "--------\n"
     ]
    }
   ],
   "source": [
    "# 必要なモジュールをインポート\n",
    "import gradio as gr\n",
    "\n",
    "# --- Gradio Blocksレイアウトを作成 ---\n",
    "with gr.Blocks() as demo:\n",
    "    # --- 内部的に値を保持するための「状態」コンポーネントを作成 ---\n",
    "    username = gr.State(\"\")  \n",
    "    # 初期値は空文字(\"\")  \n",
    "    # Stateは隠しデータとして「裏で値を持っておくため」のコンポーネント\n",
    "\n",
    "    # --- ユーザーから名前を入力するテキストボックス ---\n",
    "    text_input = gr.Text(label=\"ユーザ名\")\n",
    "\n",
    "    # --- 「決定」ボタン（入力した名前を保存するボタン） ---\n",
    "    button1 = gr.Button(\"決定\")\n",
    "\n",
    "    # --- 「自分の名前を表示」ボタン（保存した名前を出力するボタン） ---\n",
    "    button2 = gr.Button(\"自分の名前を表示\")\n",
    "\n",
    "    # --- 出力用のテキストボックス（保存された名前を表示する） ---\n",
    "    text_output = gr.Text(label=\"出力\")\n",
    "\n",
    "    # --- ボタン1が押されたときの動作設定 ---\n",
    "    button1.click(\n",
    "        inputs=text_input,    # 入力として text_input（ユーザが入力した名前）を渡す\n",
    "        outputs=username,     # 出力として username（内部状態）に保存する\n",
    "        fn=lambda x: x        # 入力された値そのままを返して、Stateに保存\n",
    "    )\n",
    "\n",
    "    # --- ボタン2が押されたときの動作設定 ---\n",
    "    button2.click(\n",
    "        inputs=username,      # 入力として username（保存済みの名前）を渡す\n",
    "        outputs=text_output,  # 出力として text_output（画面に表示するテキストボックス）に出す\n",
    "        fn=lambda x: x        # 保存されていた名前をそのまま表示する\n",
    "    )\n",
    "\n",
    "# --- 作成したインターフェースをブラウザで起動 ---\n",
    "demo.launch()\n"
   ]
  },
  {
   "cell_type": "markdown",
   "metadata": {},
   "source": [
    "## チャット UI を作る"
   ]
  },
  {
   "cell_type": "code",
   "execution_count": 11,
   "metadata": {},
   "outputs": [
    {
     "name": "stdout",
     "output_type": "stream",
     "text": [
      "Running on local URL:  http://127.0.0.1:7867\n",
      "\n",
      "To create a public link, set `share=True` in `launch()`.\n"
     ]
    },
    {
     "data": {
      "text/html": [
       "<div><iframe src=\"http://127.0.0.1:7867/\" width=\"100%\" height=\"500\" allow=\"autoplay; camera; microphone; clipboard-read; clipboard-write;\" frameborder=\"0\" allowfullscreen></iframe></div>"
      ],
      "text/plain": [
       "<IPython.core.display.HTML object>"
      ]
     },
     "metadata": {},
     "output_type": "display_data"
    },
    {
     "data": {
      "text/plain": []
     },
     "execution_count": 11,
     "metadata": {},
     "output_type": "execute_result"
    },
    {
     "name": "stdout",
     "output_type": "stream",
     "text": [
      "IMPORTANT: You are using gradio version 4.36.1, however version 4.44.1 is available, please upgrade.\n",
      "--------\n"
     ]
    }
   ],
   "source": [
    "# 必要なモジュールをインポート\n",
    "import gradio as gr\n",
    "from langchain_openai.chat_models import ChatOpenAI\n",
    "\n",
    "# --- OpenAIチャットモデル（gpt-4o-mini）を準備 ---\n",
    "llm = ChatOpenAI(model=\"gpt-4o-mini\")\n",
    "# これで、会話形式のLLM（gpt-4o-mini）を使えるようにする\n",
    "\n",
    "# --- 会話履歴（history）を OpenAIのmessage形式に変換する関数 ---\n",
    "def history2messages(history):\n",
    "    messages = []\n",
    "    for user, assistant in history:\n",
    "        # ユーザーの発言を\"role: user\"として追加\n",
    "        messages.append({\"role\": \"user\", \"content\": user})\n",
    "        # アシスタントの応答を\"role: assistant\"として追加\n",
    "        messages.append({\"role\": \"assistant\", \"content\": assistant})\n",
    "    return messages\n",
    "    # => OpenAI APIが理解できる「会話履歴リスト」を返す\n",
    "\n",
    "# --- ユーザーからのメッセージに対して応答を生成する関数 ---\n",
    "def chat(message, history):\n",
    "    # 会話履歴をOpenAI用メッセージ形式に変換\n",
    "    messages = history2messages(history)\n",
    "\n",
    "    # 現在のユーザーメッセージも追加\n",
    "    messages.append({\"role\": \"user\", \"content\": message})\n",
    "\n",
    "    # モデルに最新のユーザーメッセージを送信して応答を取得\n",
    "    response = llm.invoke(message)\n",
    "    # ※ここでは \"history\" は使わず、単純に \"message\" 単体だけを投げている\n",
    "\n",
    "    # 応答のテキストだけ取り出して返す\n",
    "    return response.content\n",
    "\n",
    "# --- GradioのChatインターフェースを作成 ---\n",
    "demo = gr.ChatInterface(\n",
    "    chat  # 会話用関数を接続（ユーザー入力をchat関数に渡す）\n",
    ")\n",
    "\n",
    "# --- インターフェースをブラウザで起動 ---\n",
    "demo.launch()"
   ]
  },
  {
   "cell_type": "markdown",
   "metadata": {},
   "source": [
    "## Stream チャットボット"
   ]
  },
  {
   "cell_type": "code",
   "execution_count": 12,
   "metadata": {},
   "outputs": [
    {
     "name": "stdout",
     "output_type": "stream",
     "text": [
      "Running on local URL:  http://127.0.0.1:7868\n",
      "\n",
      "To create a public link, set `share=True` in `launch()`.\n"
     ]
    },
    {
     "data": {
      "text/html": [
       "<div><iframe src=\"http://127.0.0.1:7868/\" width=\"100%\" height=\"500\" allow=\"autoplay; camera; microphone; clipboard-read; clipboard-write;\" frameborder=\"0\" allowfullscreen></iframe></div>"
      ],
      "text/plain": [
       "<IPython.core.display.HTML object>"
      ]
     },
     "metadata": {},
     "output_type": "display_data"
    },
    {
     "name": "stdout",
     "output_type": "stream",
     "text": [
      "IMPORTANT: You are using gradio version 4.36.1, however version 4.44.1 is available, please upgrade.\n",
      "--------\n",
      "Keyboard interruption in main thread... closing server.\n"
     ]
    },
    {
     "data": {
      "text/plain": []
     },
     "execution_count": 12,
     "metadata": {},
     "output_type": "execute_result"
    }
   ],
   "source": [
    "# 必要なモジュールをインポート\n",
    "import gradio as gr\n",
    "from langchain_openai.chat_models import ChatOpenAI\n",
    "\n",
    "# --- OpenAIチャットモデル（gpt-4o-mini）を準備 ---\n",
    "llm = ChatOpenAI(model=\"gpt-4o-mini\")\n",
    "# これでgpt-4o-miniを使った会話型モデルが利用できるようになる\n",
    "\n",
    "# --- ユーザーからのメッセージに応答する関数を定義 ---\n",
    "def chat(message, history):\n",
    "    # 過去の会話履歴を OpenAI APIが受け取れるメッセージ形式に変換\n",
    "    messages = history2messages(history)\n",
    "    \n",
    "    # 最新のユーザーメッセージも追加\n",
    "    messages.append({\"role\": \"user\", \"content\": message})\n",
    "    \n",
    "    # 出力テキストの初期化\n",
    "    output = \"\"\n",
    "\n",
    "    # モデルからストリーム（逐次生成）でレスポンスを受け取る\n",
    "    for chunk in llm.stream(messages):\n",
    "        output += chunk.content   # 生成された内容を順次追加していく\n",
    "        yield output              # 現時点のテキストをストリーム出力する（リアルタイムで画面更新）\n",
    "\n",
    "# --- GradioのChatインターフェースを作成 ---\n",
    "demo = gr.ChatInterface(\n",
    "    chat  # 会話用関数を接続（ユーザー入力をchat関数に渡す）\n",
    ")\n",
    "\n",
    "# --- インターフェースをブラウザで起動 ---\n",
    "demo.launch(\n",
    "    debug=True  # エラー時に詳細なデバッグ情報をブラウザに表示できるモード\n",
    ")\n"
   ]
  },
  {
   "cell_type": "markdown",
   "metadata": {},
   "source": [
    "# Gradio の応用"
   ]
  },
  {
   "cell_type": "markdown",
   "metadata": {},
   "source": [
    "## 翻訳アプリケーション"
   ]
  },
  {
   "cell_type": "code",
   "execution_count": 13,
   "metadata": {},
   "outputs": [],
   "source": [
    "# 2.2.3 の Runnable\n",
    "from langchain_core.prompts import PromptTemplate\n",
    "from langchain_openai.chat_models import ChatOpenAI\n",
    "\n",
    "llm = ChatOpenAI(model=\"gpt-4o-mini\")\n",
    "\n",
    "# 1 テンプレートの作成\n",
    "TRANSLATION_PROMPT = \"\"\"\\\n",
    "以下の文章を {language} に翻訳し、翻訳結果のみを返してください。\n",
    "{source_text}\n",
    "\"\"\"\n",
    "prompt = PromptTemplate.from_template(TRANSLATION_PROMPT)\n",
    "\n",
    "# 2 Runnable の作成\n",
    "runnable = prompt | llm"
   ]
  },
  {
   "cell_type": "code",
   "execution_count": null,
   "metadata": {},
   "outputs": [
    {
     "name": "stdout",
     "output_type": "stream",
     "text": [
      "Running on local URL:  http://127.0.0.1:7869\n",
      "\n",
      "To create a public link, set `share=True` in `launch()`.\n"
     ]
    },
    {
     "data": {
      "text/html": [
       "<div><iframe src=\"http://127.0.0.1:7869/\" width=\"100%\" height=\"500\" allow=\"autoplay; camera; microphone; clipboard-read; clipboard-write;\" frameborder=\"0\" allowfullscreen></iframe></div>"
      ],
      "text/plain": [
       "<IPython.core.display.HTML object>"
      ]
     },
     "metadata": {},
     "output_type": "display_data"
    },
    {
     "data": {
      "text/plain": []
     },
     "execution_count": 15,
     "metadata": {},
     "output_type": "execute_result"
    },
    {
     "name": "stdout",
     "output_type": "stream",
     "text": [
      "IMPORTANT: You are using gradio version 4.36.1, however version 4.44.1 is available, please upgrade.\n",
      "--------\n"
     ]
    }
   ],
   "source": [
    "languages = [\"日本語\", \"英語\", \"中国語\", \"ラテン語\", \"ギリシャ語\"]\n",
    "\n",
    "\n",
    "def translate(source_text, language):\n",
    "    # 3 Runnable の実行\n",
    "    response = runnable.invoke(dict(source_text=source_text, language=language))\n",
    "    return response.content\n",
    "\n",
    "\n",
    "with gr.Blocks() as demo:\n",
    "    # 入力テキスト\n",
    "    source_text = gr.Textbox(label=\"翻訳元の文章\")\n",
    "    # 言語を選択\n",
    "    language = gr.Dropdown(label=\"言語\", choices=languages)\n",
    "    button = gr.Button(\"翻訳\")\n",
    "    # 出力テキスト\n",
    "    translated_text = gr.Textbox(label=\"翻訳結果\")\n",
    "\n",
    "    button.click(inputs=[source_text, language], outputs=translated_text, fn=translate)\n",
    "\n",
    "demo.launch()"
   ]
  },
  {
   "cell_type": "markdown",
   "metadata": {},
   "source": [
    "## テーブル作成アプリケーション"
   ]
  },
  {
   "cell_type": "code",
   "execution_count": 16,
   "metadata": {},
   "outputs": [],
   "source": [
    "# 必要なモジュールをインポート\n",
    "import csv\n",
    "import pandas as pd\n",
    "from langchain_core.prompts import PromptTemplate\n",
    "from langchain_core.pydantic_v1 import BaseModel, Field\n",
    "from langchain_core.tools import tool\n",
    "from langchain_openai.chat_models import ChatOpenAI\n",
    "\n",
    "# --- 1. ツールに渡す入力形式を定義（Pydanticモデルを使う） ---\n",
    "class CSV2DFToolInput(BaseModel):\n",
    "    csv_text: str = Field(description=\"CSVのテキスト\")\n",
    "    # ツールが受け取る引数は1つ：csv形式のテキスト\n",
    "\n",
    "# --- 2. ツール本体を定義 ---\n",
    "@tool(\"csv2json-tool\", args_schema=CSV2DFToolInput, return_direct=True)\n",
    "def csv2json(csv_text: str) -> pd.DataFrame:\n",
    "    \"\"\"\n",
    "    CSV テキストを pandas DataFrame に変換し、それを JSON に変換して返すツール\n",
    "    \"\"\"\n",
    "    try:\n",
    "        # CSVテキストを行ごとに分割してリストに変換\n",
    "        rows = list(csv.reader(csv_text.splitlines()))\n",
    "        # 最初の行をカラム名、2行目以降をデータにしてDataFrameを作成\n",
    "        df = pd.DataFrame(rows[1:], columns=rows[0])\n",
    "    except Exception:\n",
    "        # もしエラーが起きたら、空のDataFrameを返す\n",
    "        df = pd.DataFrame()\n",
    "    \n",
    "    # DataFrameをJSON形式に変換して返す\n",
    "    return df.to_json()\n",
    "\n",
    "# --- 3. LLMとツールを紐づける ---\n",
    "llm = ChatOpenAI(model=\"gpt-4o-mini\")  # gpt-4o-miniを使ったチャット型LLMを作成\n",
    "\n",
    "# 使いたいツールをリストに登録\n",
    "tools = [csv2json]\n",
    "\n",
    "# LLMにツールをbind（紐づけ）して、ツール選択も指定\n",
    "llm_with_tool = llm.bind_tools(tools=tools, tool_choice=\"csv2json-tool\")\n",
    "# - tools=tools : 使うツールを指定\n",
    "# - tool_choice=\"csv2json-tool\" : 強制的にこのツールを使う\n",
    "\n",
    "# --- プロンプトテンプレートを定義 ---\n",
    "TABLE_PROMPT = \"\"\"\\\n",
    "{user_input}\n",
    "結果は CSV で作成し、csv2json-tool を利用して json に変換してください。\n",
    "\"\"\"\n",
    "# ユーザー入力を受け取り、さらに「CSVで作って、ツールでJSONに変換して」と指示を追加する\n",
    "\n",
    "prompt = PromptTemplate.from_template(TABLE_PROMPT)\n",
    "# PromptTemplateオブジェクトを作成\n",
    "\n",
    "# --- 4. Runnableを作成 ---\n",
    "def get_tool_args(x):\n",
    "    return x.tool_calls[0]\n",
    "    # AIから返ってきた応答(AIMessage)の中から\n",
    "    # 最初のツール呼び出し(ToolCallオブジェクト)を取り出す関数\n",
    "\n",
    "# --- Runnableパイプライン構築 ---\n",
    "runnable = prompt | llm_with_tool | get_tool_args | csv2json\n",
    "# 処理の流れ：\n",
    "# - promptにユーザー入力を埋める\n",
    "# - LLMに投げる（ツールを呼び出す）\n",
    "# - 返ってきたツールコールの引数だけ取り出す\n",
    "# - その引数をcsv2jsonツールに渡して実行\n",
    "\n",
    "# これで「ユーザー入力から最終的なJSON出力」までがひとつのRunnableになった！\n"
   ]
  },
  {
   "cell_type": "code",
   "execution_count": null,
   "metadata": {},
   "outputs": [],
   "source": [
    "def create_df(user_input):\n",
    "    response = runnable.invoke(dict(user_input=user_input))\n",
    "    json_str = response.content\n",
    "    df = pd.read_json(json_str)\n",
    "    return df\n",
    "\n",
    "\n",
    "with gr.Blocks() as demo:\n",
    "    # 入力テキスト\n",
    "    user_input = gr.Textbox(label=\"テーブルを作成したい内容のテキスト\")\n",
    "    button = gr.Button(\"実行\")\n",
    "    # 出力テキスト\n",
    "    output_table = gr.DataFrame()\n",
    "\n",
    "    button.click(inputs=user_input, outputs=output_table, fn=create_df)\n",
    "\n",
    "demo.launch(height=1000)"
   ]
  },
  {
   "cell_type": "markdown",
   "metadata": {},
   "source": [
    "## Plan-and-Solve チャットボット"
   ]
  },
  {
   "cell_type": "code",
   "execution_count": 17,
   "metadata": {},
   "outputs": [],
   "source": [
    "from langchain_openai import ChatOpenAI\n",
    "\n",
    "llm = ChatOpenAI(model=\"gpt-4o-mini\")"
   ]
  },
  {
   "cell_type": "code",
   "execution_count": 21,
   "metadata": {},
   "outputs": [],
   "source": [
    "from langchain_core.pydantic_v1 import BaseModel, Field\n",
    "\n",
    "\n",
    "# ツール入力形式の定義\n",
    "class ActionItem(BaseModel):\n",
    "    action_name: str = Field(description=\"アクション名\")\n",
    "    action_description: str = Field(description=\"アクションの詳細\")\n",
    "\n",
    "\n",
    "class Plan(BaseModel):\n",
    "    \"\"\"アクションプランを格納する\"\"\"\n",
    "\n",
    "    problem: str = Field(description=\"問題の説明\")\n",
    "    actions: list[ActionItem] = Field(description=\"実行すべきアクションリスト\")\n",
    "\n",
    "\n",
    "class ActionResult(BaseModel):\n",
    "    \"\"\"実行時の考えと結果を格納する\"\"\"\n",
    "\n",
    "    thoughts: str = Field(description=\"検討内容\")\n",
    "    result: str = Field(description=\"結果\")"
   ]
  },
  {
   "cell_type": "code",
   "execution_count": 22,
   "metadata": {},
   "outputs": [],
   "source": [
    "# 単一アクションの実行\n",
    "from langchain_openai.output_parsers.tools import PydanticToolsParser\n",
    "from langchain_core.prompts import PromptTemplate\n",
    "\n",
    "\n",
    "ACTION_PROMPT = \"\"\"\\\n",
    "問題をアクションプランに分解して解いています。\n",
    "これまでのアクションの結果と、次に行うべきアクションを示すので、実際にアクションを実行してその結果を報告してください。\n",
    "# 問題\n",
    "{problem}\n",
    "# アクションプラン\n",
    "{action_items}\n",
    "# これまでのアクションの結果\n",
    "{action_results}\n",
    "# 次のアクション\n",
    "{next_action}\n",
    "\"\"\"\n",
    "\n",
    "llm_action = llm.bind_tools([ActionResult], tool_choice=\"ActionResult\")\n",
    "action_parser = PydanticToolsParser(tools=[ActionResult], first_tool_only=True)\n",
    "plan_parser = PydanticToolsParser(tools=[Plan], first_tool_only=True)\n",
    "\n",
    "action_prompt = PromptTemplate.from_template(ACTION_PROMPT)\n",
    "action_runnable = action_prompt | llm_action | action_parser"
   ]
  },
  {
   "cell_type": "code",
   "execution_count": 23,
   "metadata": {},
   "outputs": [],
   "source": [
    "# プランに含まれるアクションを実行するループ\n",
    "def action_loop(action_plan: Plan):\n",
    "    problem = action_plan.problem\n",
    "    actions = action_plan.actions\n",
    "\n",
    "    action_items = \"\\n\".join([\"* \" + action.action_name for action in actions])\n",
    "    action_results = []\n",
    "    action_results_str = \"\"\n",
    "    for _, action in enumerate(actions):\n",
    "        next_action = f\"* {action.action_name}  \\n{action.action_description}\"\n",
    "        response = action_runnable.invoke(\n",
    "            dict(\n",
    "                problem=problem,\n",
    "                action_items=action_items,\n",
    "                action_results=action_results_str,\n",
    "                next_action=next_action,\n",
    "            )\n",
    "        )\n",
    "        action_results.append(response)\n",
    "        action_results_str += f\"* {action.action_name}  \\n{response.result}\\n\"\n",
    "        yield (\n",
    "            response.thoughts,\n",
    "            response.result,\n",
    "        )  # 変更ポイント: 途中結果を yield で返す"
   ]
  },
  {
   "cell_type": "code",
   "execution_count": 24,
   "metadata": {},
   "outputs": [],
   "source": [
    "# 全体を通した Runnable 作成\n",
    "from langchain_core.prompts import ChatPromptTemplate, MessagesPlaceholder\n",
    "from langchain_core.messages import SystemMessage\n",
    "\n",
    "PLAN_AND_SOLVE_PROMPT = \"\"\"\\\n",
    "ユーザの質問が複雑な場合は、アクションプランを作成し、その後に1つずつ実行する Plan-and-Solve 形式をとります。\n",
    "これが必要と判断した場合は、Plan ツールによってアクションプランを保存してください。\n",
    "\"\"\"\n",
    "system_prompt = SystemMessage(PLAN_AND_SOLVE_PROMPT)\n",
    "chat_prompt = ChatPromptTemplate.from_messages(\n",
    "    [system_prompt, MessagesPlaceholder(variable_name=\"history\")]\n",
    ")\n",
    "\n",
    "llm_plan = llm.bind_tools(tools=[Plan])\n",
    "planning_runnable = chat_prompt | llm_plan  # route を削除"
   ]
  },
  {
   "cell_type": "code",
   "execution_count": null,
   "metadata": {},
   "outputs": [
    {
     "ename": "ImportError",
     "evalue": "cannot import name 'ChatMessage' from 'gradio' (/home/rmasuda/.cache/pypoetry/virtualenvs/llm-agent-U4qSWGiP-py3.12/lib/python3.12/site-packages/gradio/__init__.py)",
     "output_type": "error",
     "traceback": [
      "\u001b[0;31m---------------------------------------------------------------------------\u001b[0m",
      "\u001b[0;31mImportError\u001b[0m                               Traceback (most recent call last)",
      "Cell \u001b[0;32mIn[27], line 1\u001b[0m\n\u001b[0;32m----> 1\u001b[0m \u001b[38;5;28;01mfrom\u001b[39;00m \u001b[38;5;21;01mgradio\u001b[39;00m \u001b[38;5;28;01mimport\u001b[39;00m ChatMessage\n\u001b[1;32m      2\u001b[0m \u001b[38;5;28;01mfrom\u001b[39;00m \u001b[38;5;21;01mlangchain_core\u001b[39;00m\u001b[38;5;21;01m.\u001b[39;00m\u001b[38;5;21;01mmessages\u001b[39;00m \u001b[38;5;28;01mimport\u001b[39;00m AIMessage, HumanMessage\n\u001b[1;32m      5\u001b[0m \u001b[38;5;28;01mdef\u001b[39;00m \u001b[38;5;21mchat\u001b[39m(prompt, messages, history):\n\u001b[1;32m      6\u001b[0m     \u001b[38;5;66;03m# 描画用の履歴をアップデート\u001b[39;00m\n",
      "\u001b[0;31mImportError\u001b[0m: cannot import name 'ChatMessage' from 'gradio' (/home/rmasuda/.cache/pypoetry/virtualenvs/llm-agent-U4qSWGiP-py3.12/lib/python3.12/site-packages/gradio/__init__.py)"
     ]
    }
   ],
   "source": [
    "# from gradio import ChatMessage\n",
    "# from langchain_core.messages import AIMessage, HumanMessage\n",
    "\n",
    "\n",
    "# def chat(prompt, messages, history):\n",
    "#     # 描画用の履歴をアップデート\n",
    "#     messages.append(ChatMessage(role=\"user\", content=prompt))\n",
    "#     # LangChain 用の履歴をアップデート\n",
    "#     history.append(HumanMessage(content=prompt))\n",
    "#     # プランまたは返答を作成\n",
    "#     response = planning_runnable.invoke(dict(history=history))\n",
    "#     if response.response_metadata[\"finish_reason\"] != \"tool_calls\":\n",
    "#         # タスクが簡単な場合はプランを作らずに返す\n",
    "#         messages.append(ChatMessage(role=\"assistant\", content=response.content))\n",
    "#         history.append(AIMessage(content=response.content))\n",
    "#         yield \"\", messages, history\n",
    "#     else:\n",
    "#         # アクションプランを抽出\n",
    "#         action_plan = plan_parser.invoke(response)\n",
    "\n",
    "#         # アクション名を表示\n",
    "#         action_items = \"\\n\".join(\n",
    "#             [\"* \" + action.action_name for action in action_plan.actions]\n",
    "#         )\n",
    "#         messages.append(\n",
    "#             ChatMessage(\n",
    "#                 role=\"assistant\",\n",
    "#                 content=action_items,\n",
    "#                 metadata={\"title\": \"実行されるアクション\"},\n",
    "#             )\n",
    "#         )\n",
    "#         # プランの段階で一度描画する\n",
    "#         yield \"\", messages, history\n",
    "\n",
    "#         # アクションプランを実行\n",
    "#         action_results_str = \"\"\n",
    "#         for i, (thoughts, result) in enumerate(action_loop(action_plan)):\n",
    "#             action_name = action_plan.actions[i].action_name\n",
    "#             action_results_str += f\"* {action_name}  \\n{result}\\n\"\n",
    "#             text = f\"## {action_name}\\n### 思考過程\\n{thoughts}\\n### 結果\\n{result}\"\n",
    "#             messages.append(ChatMessage(role=\"assistant\", content=text))\n",
    "#             # 実行結果を描画する\n",
    "#             yield \"\", messages, history\n",
    "\n",
    "#         history.append(AIMessage(content=action_results_str))\n",
    "#         # LangChain 用の履歴を更新する\n",
    "#         yield \"\", messages, history\n",
    "\n",
    "# ↓出力結果。ChatMessageがないっぽい。\n",
    "# ---------------------------------------------------------------------------\n",
    "# ImportError                               Traceback (most recent call last)\n",
    "# Cell In[27], line 1\n",
    "# ----> 1 from gradio import ChatMessage\n",
    "#       2 from langchain_core.messages import AIMessage, HumanMessage\n",
    "#       5 def chat(prompt, messages, history):\n",
    "#       6     # 描画用の履歴をアップデート\n",
    "\n",
    "# ImportError: cannot import name 'ChatMessage' from 'gradio' (/home/rmasuda/.cache/pypoetry/virtualenvs/llm-agent-U4qSWGiP-py3.12/lib/python3.12/site-packages/gradio/__init__.py)"
   ]
  },
  {
   "cell_type": "code",
   "execution_count": 28,
   "metadata": {},
   "outputs": [],
   "source": [
    "import gradio as gr\n",
    "from langchain_core.messages import AIMessage, HumanMessage\n",
    "\n",
    "def chat(prompt, messages, history):\n",
    "    # 1. 描画用履歴（messages）にユーザー発言を追加\n",
    "    messages.append((prompt, None))\n",
    "    # 2. LangChain用履歴（history）にもユーザー発言を追加\n",
    "    history.append(HumanMessage(content=prompt))\n",
    "\n",
    "    # 3. LLMにリクエストを送る（planning_runnableは外側で定義されている想定）\n",
    "    response = planning_runnable.invoke(dict(history=history))\n",
    "\n",
    "    if response.response_metadata[\"finish_reason\"] != \"tool_calls\":\n",
    "        # --- プラン不要なシンプル返答の場合 ---\n",
    "        ai_response = response.content\n",
    "\n",
    "        # 描画用履歴にAI応答を追加\n",
    "        messages[-1] = (prompt, ai_response)\n",
    "        # LangChain用履歴にもAI応答を追加\n",
    "        history.append(AIMessage(content=ai_response))\n",
    "\n",
    "        yield \"\", messages, history\n",
    "\n",
    "    else:\n",
    "        # --- プランを作った場合（複雑なタスク） ---\n",
    "        # アクションプランを抽出\n",
    "        action_plan = plan_parser.invoke(response)\n",
    "\n",
    "        # アクション一覧を作成\n",
    "        action_items = \"\\n\".join(\n",
    "            [\"* \" + action.action_name for action in action_plan.actions]\n",
    "        )\n",
    "\n",
    "        # 描画用履歴にアクションリストを追加\n",
    "        messages[-1] = (prompt, action_items)\n",
    "\n",
    "        # プランを表示\n",
    "        yield \"\", messages, history\n",
    "\n",
    "        # --- アクション実行フェーズ ---\n",
    "        action_results_str = \"\"\n",
    "        for i, (thoughts, result) in enumerate(action_loop(action_plan)):\n",
    "            action_name = action_plan.actions[i].action_name\n",
    "\n",
    "            action_results_str += f\"* {action_name}\\n{result}\\n\"\n",
    "\n",
    "            text = f\"## {action_name}\\n### 思考過程\\n{thoughts}\\n### 結果\\n{result}\"\n",
    "\n",
    "            # 新しいメッセージとして追加\n",
    "            messages.append((None, text))\n",
    "\n",
    "            # 実行結果を都度描画\n",
    "            yield \"\", messages, history\n",
    "\n",
    "        # 最後にLangChain履歴をまとめて追加\n",
    "        history.append(AIMessage(content=action_results_str))\n",
    "\n",
    "        yield \"\", messages, history\n"
   ]
  },
  {
   "cell_type": "code",
   "execution_count": 30,
   "metadata": {},
   "outputs": [
    {
     "name": "stdout",
     "output_type": "stream",
     "text": [
      "Running on local URL:  http://127.0.0.1:7870\n",
      "\n",
      "To create a public link, set `share=True` in `launch()`.\n"
     ]
    },
    {
     "data": {
      "text/html": [
       "<div><iframe src=\"http://127.0.0.1:7870/\" width=\"100%\" height=\"500\" allow=\"autoplay; camera; microphone; clipboard-read; clipboard-write;\" frameborder=\"0\" allowfullscreen></iframe></div>"
      ],
      "text/plain": [
       "<IPython.core.display.HTML object>"
      ]
     },
     "metadata": {},
     "output_type": "display_data"
    },
    {
     "data": {
      "text/plain": []
     },
     "execution_count": 30,
     "metadata": {},
     "output_type": "execute_result"
    },
    {
     "name": "stdout",
     "output_type": "stream",
     "text": [
      "IMPORTANT: You are using gradio version 4.36.1, however version 4.44.1 is available, please upgrade.\n",
      "--------\n"
     ]
    }
   ],
   "source": [
    "import gradio as gr\n",
    "\n",
    "with gr.Blocks() as demo:\n",
    "    chatbot = gr.Chatbot(label=\"Assistant\", height=800)\n",
    "    history = gr.State([])\n",
    "    with gr.Row():\n",
    "        user_input = gr.Textbox()\n",
    "        submit_btn = gr.Button(\"送信\")\n",
    "\n",
    "    submit_btn.click(\n",
    "        chat,  # さっきのchat関数！\n",
    "        inputs=[user_input, chatbot, history],\n",
    "        outputs=[user_input, chatbot, history]\n",
    "    )\n",
    "\n",
    "demo.launch()\n"
   ]
  },
  {
   "cell_type": "code",
   "execution_count": null,
   "metadata": {},
   "outputs": [],
   "source": []
  }
 ],
 "metadata": {
  "kernelspec": {
   "display_name": "llm-agent-U4qSWGiP-py3.12",
   "language": "python",
   "name": "python3"
  },
  "language_info": {
   "codemirror_mode": {
    "name": "ipython",
    "version": 3
   },
   "file_extension": ".py",
   "mimetype": "text/x-python",
   "name": "python",
   "nbconvert_exporter": "python",
   "pygments_lexer": "ipython3",
   "version": "3.12.8"
  }
 },
 "nbformat": 4,
 "nbformat_minor": 2
}
