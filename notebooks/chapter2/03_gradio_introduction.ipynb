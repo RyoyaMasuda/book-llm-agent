{
 "cells": [
  {
   "cell_type": "markdown",
   "metadata": {},
   "source": [
    "# 準備"
   ]
  },
  {
   "cell_type": "code",
   "execution_count": 23,
   "metadata": {},
   "outputs": [],
   "source": [
    "import gradio as gr\n",
    "import getpass\n",
    "import os\n",
    "\n",
    "# get password from user\n",
    "api_key = getpass.getpass(\"OpenAI API キーを入力してください: \")\n",
    "os.environ[\"OPENAI_API_KEY\"] = api_key"
   ]
  },
  {
   "cell_type": "markdown",
   "metadata": {},
   "source": [
    "# Gradio の機能紹介"
   ]
  },
  {
   "cell_type": "markdown",
   "metadata": {},
   "source": [
    "## 簡単なインターフェースの実装"
   ]
  },
  {
   "cell_type": "code",
   "execution_count": 4,
   "metadata": {},
   "outputs": [],
   "source": [
    "def text2text(text):\n",
    "    text = \"<<\" + text + \">>\"\n",
    "    return text"
   ]
  },
  {
   "cell_type": "code",
   "execution_count": null,
   "metadata": {},
   "outputs": [],
   "source": [
    "input_text = gr.Text(label=\"入力\")\n",
    "output_text = gr.Text(label=\"出力\")\n",
    "\n",
    "demo = gr.Interface(inputs=input_text, outputs=output_text, fn=text2text)\n",
    "demo.launch(debug=True)"
   ]
  },
  {
   "cell_type": "markdown",
   "metadata": {},
   "source": [
    "## ブロックの実装"
   ]
  },
  {
   "cell_type": "code",
   "execution_count": 5,
   "metadata": {},
   "outputs": [],
   "source": [
    "def text2text_rich(text):\n",
    "    top = \"^\" * len(text)\n",
    "    bottom = \"v\" * len(text)\n",
    "    text = f\" {top}\\n<{text}>\\n {bottom}\"\n",
    "    return text"
   ]
  },
  {
   "cell_type": "code",
   "execution_count": null,
   "metadata": {},
   "outputs": [],
   "source": [
    "with gr.Blocks() as demo:\n",
    "    input_text = gr.Text(label=\"入力\")\n",
    "    button1 = gr.Button(value=\"Normal\")\n",
    "    button2 = gr.Button(value=\"Rich\")\n",
    "    output_text = gr.Text(label=\"出力\")\n",
    "\n",
    "    button1.click(inputs=input_text, outputs=output_text, fn=text2text)\n",
    "    button2.click(inputs=input_text, outputs=output_text, fn=text2text_rich)\n",
    "demo.launch()"
   ]
  },
  {
   "cell_type": "markdown",
   "metadata": {},
   "source": [
    "## 重要なコンポーネント"
   ]
  },
  {
   "cell_type": "code",
   "execution_count": null,
   "metadata": {},
   "outputs": [],
   "source": [
    "def audio_upload(audio):\n",
    "    return audio\n",
    "\n",
    "\n",
    "with gr.Blocks() as demo:\n",
    "    # Audio\n",
    "    audio = gr.Audio(label=\"音声\", type=\"filepath\")\n",
    "    audio_output = gr.Text(label=\"アップロードされたファイル\")\n",
    "    audio.upload(inputs=audio, outputs=audio_output, fn=audio_upload)\n",
    "    # Checkbox\n",
    "    checkbox = gr.Checkbox(label=\"チェックボックス\")\n",
    "    # File\n",
    "    file = gr.File(label=\"ファイル\", file_types=[\"image\"])\n",
    "    # Number\n",
    "    number = gr.Number(label=\"数値\")\n",
    "    # Markdown\n",
    "    markdown = gr.Markdown(label=\"Markdown\", value=\"# タイトル\\n## サブタイトル\\n本文\")\n",
    "    # Slider\n",
    "    slider = gr.Slider(\n",
    "        label=\"スライダー\", minimum=-10, maximum=10, step=0.5, interactive=True\n",
    "    )\n",
    "    # Textbox\n",
    "    textbox = gr.Textbox(label=\"テキストボックス\")\n",
    "\n",
    "demo.launch()"
   ]
  },
  {
   "cell_type": "markdown",
   "metadata": {},
   "source": [
    "## UI の工夫"
   ]
  },
  {
   "cell_type": "code",
   "execution_count": null,
   "metadata": {},
   "outputs": [],
   "source": [
    "with gr.Blocks() as demo:\n",
    "    # Accordion\n",
    "    with gr.Accordion(label=\"アコーディオン\"):\n",
    "        gr.Text(value=\"アコーディオンの中身\")\n",
    "    with gr.Row():\n",
    "        gr.Text(value=\"左\")\n",
    "        gr.Text(value=\"右\")\n",
    "\n",
    "    with gr.Row():\n",
    "        with gr.Column():\n",
    "            gr.Text(value=\"(0, 0)\")\n",
    "            gr.Text(value=\"(1, 0)\")\n",
    "        with gr.Column():\n",
    "            gr.Text(value=\"(0, 1)\")\n",
    "            gr.Text(value=\"(1, 1)\")\n",
    "\n",
    "    with gr.Tab(label=\"タブ1\"):\n",
    "        gr.Text(value=\"コンテンツ1\")\n",
    "    with gr.Tab(label=\"タブ2\"):\n",
    "        gr.Text(value=\"コンテンツ2\")\n",
    "\n",
    "demo.launch()"
   ]
  },
  {
   "cell_type": "code",
   "execution_count": null,
   "metadata": {},
   "outputs": [],
   "source": [
    "with gr.Blocks() as demo:\n",
    "    # render\n",
    "    slider = gr.Slider(label=\"個数\", minimum=0, maximum=10, step=1)\n",
    "\n",
    "    @gr.render(inputs=slider)\n",
    "    def render_blocks(value):\n",
    "        for i in range(value):\n",
    "            gr.Text(value=f\"Block {i}\")\n",
    "\n",
    "\n",
    "demo.launch()"
   ]
  },
  {
   "cell_type": "markdown",
   "metadata": {},
   "source": [
    "## 状態を保持する"
   ]
  },
  {
   "cell_type": "code",
   "execution_count": null,
   "metadata": {},
   "outputs": [],
   "source": [
    "with gr.Blocks() as demo:\n",
    "    username = gr.State(\"\")\n",
    "    text_input = gr.Text(label=\"ユーザ名\")\n",
    "    button1 = gr.Button(\"決定\")\n",
    "    button2 = gr.Button(\"自分の名前を表示\")\n",
    "    text_output = gr.Text(label=\"出力\")\n",
    "    button1.click(inputs=text_input, outputs=username, fn=lambda x: x)\n",
    "    button2.click(inputs=username, outputs=text_output, fn=lambda x: x)\n",
    "\n",
    "demo.launch()"
   ]
  },
  {
   "cell_type": "markdown",
   "metadata": {},
   "source": [
    "## チャット UI を作る"
   ]
  },
  {
   "cell_type": "code",
   "execution_count": null,
   "metadata": {},
   "outputs": [],
   "source": [
    "from langchain_openai.chat_models import ChatOpenAI\n",
    "\n",
    "llm = ChatOpenAI(model=\"gpt-4o-mini\")\n",
    "\n",
    "\n",
    "def history2messages(history):\n",
    "    messages = []\n",
    "    for user, assistant in history:\n",
    "        messages.append({\"role\": \"user\", \"content\": user})\n",
    "        messages.append({\"role\": \"assistant\", \"content\": assistant})\n",
    "    return messages\n",
    "\n",
    "\n",
    "def chat(message, history):\n",
    "    messages = history2messages(history)\n",
    "    messages.append({\"role\": \"user\", \"content\": message})\n",
    "    response = llm.invoke(messages)\n",
    "    return response.content\n",
    "\n",
    "\n",
    "demo = gr.ChatInterface(chat)\n",
    "\n",
    "demo.launch(debug=True)"
   ]
  },
  {
   "cell_type": "code",
   "execution_count": null,
   "metadata": {},
   "outputs": [],
   "source": []
  }
 ],
 "metadata": {
  "kernelspec": {
   "display_name": ".venv",
   "language": "python",
   "name": "python3"
  },
  "language_info": {
   "codemirror_mode": {
    "name": "ipython",
    "version": 3
   },
   "file_extension": ".py",
   "mimetype": "text/x-python",
   "name": "python",
   "nbconvert_exporter": "python",
   "pygments_lexer": "ipython3",
   "version": "3.11.3"
  }
 },
 "nbformat": 4,
 "nbformat_minor": 2
}
