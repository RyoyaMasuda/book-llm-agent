{
 "cells": [
  {
   "cell_type": "markdown",
   "metadata": {},
   "source": [
    "# 2.1 OpenAI API"
   ]
  },
  {
   "cell_type": "code",
   "execution_count": null,
   "metadata": {},
   "outputs": [],
   "source": [
    "from openai import OpenAI"
   ]
  },
  {
   "cell_type": "markdown",
   "metadata": {},
   "source": [
    "## 2.1.1 テキスト生成の基礎"
   ]
  },
  {
   "cell_type": "code",
   "execution_count": null,
   "metadata": {},
   "outputs": [],
   "source": [
    "from dotenv import load_dotenv\n",
    "\n",
    "load_dotenv(\"../.env\")\n",
    "client = OpenAI()\n",
    "\n",
    "response = client.chat.completions.create(\n",
    "    model=\"gpt-4o\", messages=[{\"role\": \"user\", \"content\": \"こんにちは\"}]\n",
    ")\n",
    "\n",
    "print(response.choices[0].message.content)"
   ]
  },
  {
   "cell_type": "code",
   "execution_count": null,
   "metadata": {},
   "outputs": [],
   "source": [
    "history = []\n",
    "n = 10  # 会話の上限\n",
    "model = \"gpt-4o\"\n",
    "for _ in range(n):\n",
    "    user_input = input(\"ユーザ入力: \")\n",
    "    if user_input == \"exit\":\n",
    "        break\n",
    "    print(f\"ユーザ: {user_input}\")\n",
    "    history.append({\"role\": \"user\", \"content\": user_input})\n",
    "    response = client.chat.completions.create(model=model, messages=history)\n",
    "    content = response.choices[0].message.content\n",
    "    print(f\"AI: {content}\")\n",
    "    history.append({\"role\": \"assistant\", \"content\": content})"
   ]
  },
  {
   "cell_type": "markdown",
   "metadata": {},
   "source": [
    "## 2.1.2 テキスト生成の応用"
   ]
  },
  {
   "cell_type": "markdown",
   "metadata": {},
   "source": [
    "stream 生成を行う。"
   ]
  },
  {
   "cell_type": "code",
   "execution_count": null,
   "metadata": {},
   "outputs": [],
   "source": [
    "history = []\n",
    "n = 10  # 会話の上限\n",
    "model = \"gpt-4o\"\n",
    "for _ in range(n):\n",
    "    user_input = input(\"ユーザ入力: \")\n",
    "    if user_input == \"exit\":\n",
    "        break\n",
    "    print(f\"ユーザ: {user_input}\")\n",
    "    history.append({\"role\": \"user\", \"content\": user_input})\n",
    "    # stream=True でストリーミングを有効化\n",
    "    stream = client.chat.completions.create(model=model, messages=history, stream=True)\n",
    "    print(\"AI: \", end=\"\")\n",
    "    # 応答を集める文字列\n",
    "    ai_content = \"\"\n",
    "    # ストリーミングの各チャンクを処理\n",
    "    for chunk in stream:\n",
    "        # message ではなく ChoiceDelta\n",
    "        content = chunk.choices[0].delta.content\n",
    "        # ChoiceDelta の finish_reason が stop なら生成完了\n",
    "        if chunk.choices[0].finish_reason == \"stop\":\n",
    "            break\n",
    "        print(content, end=\"\")\n",
    "        ai_content += content\n",
    "    print()\n",
    "    history.append({\"role\": \"assistant\", \"content\": ai_content})"
   ]
  },
  {
   "cell_type": "code",
   "execution_count": null,
   "metadata": {},
   "outputs": [],
   "source": []
  }
 ],
 "metadata": {
  "kernelspec": {
   "display_name": ".venv",
   "language": "python",
   "name": "python3"
  },
  "language_info": {
   "codemirror_mode": {
    "name": "ipython",
    "version": 3
   },
   "file_extension": ".py",
   "mimetype": "text/x-python",
   "name": "python",
   "nbconvert_exporter": "python",
   "pygments_lexer": "ipython3",
   "version": "3.11.3"
  }
 },
 "nbformat": 4,
 "nbformat_minor": 2
}
